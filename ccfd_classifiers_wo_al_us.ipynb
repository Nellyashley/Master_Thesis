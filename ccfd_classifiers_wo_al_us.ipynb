{
 "cells": [
  {
   "cell_type": "markdown",
   "source": [
    "# Baseline: Balancing and Ensemble learning\n",
    "Notebook that contains the baseline settings."
   ],
   "metadata": {
    "collapsed": false,
    "pycharm": {
     "name": "#%% md\n"
    }
   }
  },
  {
   "cell_type": "markdown",
   "source": [
    "### Import Libraries"
   ],
   "metadata": {
    "collapsed": false,
    "pycharm": {
     "name": "#%% md\n"
    }
   }
  },
  {
   "cell_type": "code",
   "execution_count": 1,
   "outputs": [],
   "source": [
    "# Import core libraries\n",
    "import pandas as pd\n",
    "import numpy as np\n",
    "\n",
    "# Parallel computing\n",
    "from joblib import effective_n_jobs\n",
    "\n",
    "# Undersampling\n",
    "from collections import Counter\n",
    "from imblearn.under_sampling import RandomUnderSampler\n",
    "\n",
    "# Preprocessing data\n",
    "from sklearn.model_selection import train_test_split\n",
    "from sklearn.preprocessing import StandardScaler\n",
    "\n",
    "# Pipeline\n",
    "from sklearn.pipeline import Pipeline\n",
    "from sklearn.compose import ColumnTransformer\n",
    "\n",
    "# Metrics computation\n",
    "from IPython.core.display_functions import display\n",
    "from sklearn.metrics import f1_score, recall_score, accuracy_score, confusion_matrix, precision_score, roc_curve, plot_precision_recall_curve, roc_auc_score, auc, precision_recall_curve, confusion_matrix\n",
    "\n",
    "# Models\n",
    "from sklearn.ensemble import GradientBoostingClassifier\n",
    "from sklearn.ensemble import RandomForestClassifier\n",
    "\n",
    "# Cross validation\n",
    "from sklearn.model_selection import GridSearchCV\n",
    "\n",
    "# plot\n",
    "%matplotlib inline\n",
    "import matplotlib.pyplot as plt"
   ],
   "metadata": {
    "collapsed": false,
    "pycharm": {
     "name": "#%%\n"
    }
   }
  },
  {
   "cell_type": "markdown",
   "source": [
    "### Define Model Metrics"
   ],
   "metadata": {
    "collapsed": false,
    "pycharm": {
     "name": "#%% md\n"
    }
   }
  },
  {
   "cell_type": "code",
   "execution_count": null,
   "outputs": [],
   "source": [
    "# Model evaluation metrics\n",
    "model_eval = {\n",
    "    'model': [],\n",
    "    'recall': [],\n",
    "    'f1_score': [],\n",
    "    'accuracy_score': [],\n",
    "    'precision_score': []\n",
    "}\n",
    "\n",
    "def add_model_eval(model, recall, f1_score, accuracy_score, precision_score):\n",
    "    model_eval['model'].append(model)\n",
    "    model_eval['recall'].append(f'{recall: .2f}')\n",
    "    model_eval['f1_score'].append(f'{f1_score: .2f}')\n",
    "    model_eval['accuracy_score'].append(f'{accuracy_score: .2f}')\n",
    "    model_eval['precision_score'].append(f'{precision_score: .2f}')\n",
    "\n",
    "def view_models_eval(sort=False):\n",
    "    eval_df = pd.DataFrame(model_eval)\n",
    "\n",
    "    if sort:\n",
    "        eval_df = eval_df.sort_values(by=['recall', 'f1_score'], ascending=[False, False])\n",
    "\n",
    "    # display(eval_df.style.hide_index)\n",
    "    display(eval_df)"
   ],
   "metadata": {
    "collapsed": false,
    "pycharm": {
     "name": "#%%\n"
    }
   }
  },
  {
   "cell_type": "markdown",
   "source": [
    "### Load In Data"
   ],
   "metadata": {
    "collapsed": false,
    "pycharm": {
     "name": "#%% md\n"
    }
   }
  },
  {
   "cell_type": "code",
   "execution_count": 1,
   "outputs": [
    {
     "ename": "NameError",
     "evalue": "name 'pd' is not defined",
     "output_type": "error",
     "traceback": [
      "\u001B[0;31m---------------------------------------------------------------------------\u001B[0m",
      "\u001B[0;31mNameError\u001B[0m                                 Traceback (most recent call last)",
      "Input \u001B[0;32mIn [1]\u001B[0m, in \u001B[0;36m<cell line: 2>\u001B[0;34m()\u001B[0m\n\u001B[1;32m      1\u001B[0m \u001B[38;5;66;03m# Load in data (transactions)\u001B[39;00m\n\u001B[0;32m----> 2\u001B[0m cc_transactions \u001B[38;5;241m=\u001B[39m \u001B[43mpd\u001B[49m\u001B[38;5;241m.\u001B[39mread_csv(\u001B[38;5;124m\"\u001B[39m\u001B[38;5;124m../data/creditcard.csv\u001B[39m\u001B[38;5;124m\"\u001B[39m, index_col \u001B[38;5;241m=\u001B[39m \u001B[38;5;28;01mFalse\u001B[39;00m, delimiter\u001B[38;5;241m=\u001B[39m\u001B[38;5;124m\"\u001B[39m\u001B[38;5;124m,\u001B[39m\u001B[38;5;124m\"\u001B[39m)\n",
      "\u001B[0;31mNameError\u001B[0m: name 'pd' is not defined"
     ]
    }
   ],
   "source": [
    "# Set our RNG seed for reproducibility.\n",
    "RANDOM_STATE_SEED = 123\n",
    "np.random.seed(RANDOM_STATE_SEED)\n",
    "# Load in data (transactions)\n",
    "cc_transactions = pd.read_csv(\"../data/creditcard.csv\", index_col = False, delimiter=\",\")\n",
    "\n",
    "# Partition data into X and y\n",
    "X_transactions = cc_transactions.drop(['Class'], axis=1)\n",
    "y_transactions = cc_transactions['Class']"
   ],
   "metadata": {
    "collapsed": false,
    "pycharm": {
     "name": "#%%\n"
    }
   }
  },
  {
   "cell_type": "markdown",
   "source": [
    "### Undersampling"
   ],
   "metadata": {
    "collapsed": false,
    "pycharm": {
     "name": "#%% md\n"
    }
   }
  },
  {
   "cell_type": "code",
   "execution_count": 4,
   "outputs": [
    {
     "name": "stdout",
     "output_type": "stream",
     "text": [
      "Original dataset shape Counter({0: 284315, 1: 492})\n",
      "Resampled dataset shape Counter({0: 492, 1: 492})\n"
     ]
    }
   ],
   "source": [
    "# Undersampling\n",
    "rus = RandomUnderSampler(random_state=42)\n",
    "rus.fit(X_transactions,\n",
    "        y_transactions)\n",
    "X_resampled, y_resampled = rus.fit_resample(X_transactions,\n",
    "                                            y_transactions)\n",
    "\n",
    "# Shape of old dataset vs. new dataset\n",
    "print('Original dataset shape {}'.format(Counter(y_transactions)))\n",
    "print('Resampled dataset shape {}'.format(Counter(y_resampled)))"
   ],
   "metadata": {
    "collapsed": false,
    "pycharm": {
     "name": "#%%\n"
    }
   }
  },
  {
   "cell_type": "markdown",
   "source": [
    "#### Standardisation"
   ],
   "metadata": {
    "collapsed": false,
    "pycharm": {
     "name": "#%% md\n"
    }
   }
  },
  {
   "cell_type": "code",
   "execution_count": 5,
   "outputs": [],
   "source": [
    "# Transforming the features 'Time' and 'Amount' and applying this to all partitions of the dataset\n",
    "std_feat = ['Time',\n",
    "            'Amount']\n",
    "std_pipeline = Pipeline([('std_scaler',\n",
    "                          StandardScaler())])\n",
    "\n",
    "full_pipeline = ColumnTransformer([\n",
    "    ('std_feat',\n",
    "     std_pipeline,\n",
    "     std_feat)],\n",
    "    remainder='passthrough')\n",
    "\n",
    "X_resampled = full_pipeline.fit_transform(X_resampled)"
   ],
   "metadata": {
    "collapsed": false,
    "pycharm": {
     "name": "#%%\n"
    }
   }
  },
  {
   "cell_type": "markdown",
   "source": [
    "### Data Partitioning (Training supplied by AL, test and validation by train test split)"
   ],
   "metadata": {
    "collapsed": false,
    "pycharm": {
     "name": "#%% md\n"
    }
   }
  },
  {
   "cell_type": "code",
   "execution_count": 6,
   "outputs": [],
   "source": [
    "# Without Stratified Shuffle Split\n",
    "X_train, X_test, y_train, y_test = train_test_split(X_resampled, y_resampled, test_size=0.3, random_state=42)\n",
    "X_train, X_val, y_train, y_val = train_test_split(X_train, y_train, test_size=0.1, random_state=42)"
   ],
   "metadata": {
    "collapsed": false,
    "pycharm": {
     "name": "#%%\n"
    }
   }
  },
  {
   "cell_type": "markdown",
   "source": [
    "### Cross Validation"
   ],
   "metadata": {
    "collapsed": false,
    "pycharm": {
     "name": "#%% md\n"
    }
   }
  },
  {
   "cell_type": "code",
   "execution_count": 8,
   "outputs": [
    {
     "data": {
      "text/plain": "{'bootstrap': 'True',\n 'criterion': 'gini',\n 'max_features': 'auto',\n 'n_estimators': 100}"
     },
     "execution_count": 8,
     "metadata": {},
     "output_type": "execute_result"
    }
   ],
   "source": [
    "# Cross validation random forest\n",
    "n_est = [int(x) for x in np.linspace(start = 100, stop = 400, num = 100)]\n",
    "rfc = RandomForestClassifier()\n",
    "\n",
    "# Parameter Grid\n",
    "param_grid_rfc = {\n",
    "    'n_estimators': n_est,\n",
    "    'criterion': ['gini', 'entropy'],\n",
    "    'max_features': ['auto', 'sqrt', 'log2'],\n",
    "    'bootstrap': ['True']\n",
    "}\n",
    "\n",
    "# Initialise GridSearchCV\n",
    "CV_rfc = GridSearchCV(estimator=rfc, param_grid=param_grid_rfc, cv=5)\n",
    "CV_rfc.fit(X_val, y_val)\n",
    "CV_rfc.best_params_"
   ],
   "metadata": {
    "collapsed": false,
    "pycharm": {
     "name": "#%%\n"
    }
   }
  },
  {
   "cell_type": "markdown",
   "source": [
    "### Modeling Ensemble Learners"
   ],
   "metadata": {
    "collapsed": false,
    "pycharm": {
     "name": "#%% md\n"
    }
   }
  },
  {
   "cell_type": "code",
   "execution_count": 9,
   "outputs": [
    {
     "data": {
      "text/plain": "                      model recall f1_score accuracy_score precision_score\n0  Random Forest Classifier   0.90     0.93           0.93            0.96",
      "text/html": "<div>\n<style scoped>\n    .dataframe tbody tr th:only-of-type {\n        vertical-align: middle;\n    }\n\n    .dataframe tbody tr th {\n        vertical-align: top;\n    }\n\n    .dataframe thead th {\n        text-align: right;\n    }\n</style>\n<table border=\"1\" class=\"dataframe\">\n  <thead>\n    <tr style=\"text-align: right;\">\n      <th></th>\n      <th>model</th>\n      <th>recall</th>\n      <th>f1_score</th>\n      <th>accuracy_score</th>\n      <th>precision_score</th>\n    </tr>\n  </thead>\n  <tbody>\n    <tr>\n      <th>0</th>\n      <td>Random Forest Classifier</td>\n      <td>0.90</td>\n      <td>0.93</td>\n      <td>0.93</td>\n      <td>0.96</td>\n    </tr>\n  </tbody>\n</table>\n</div>"
     },
     "metadata": {},
     "output_type": "display_data"
    }
   ],
   "source": [
    "# Initialize random forest and use GridSearchCV parameters to fill in parameters of random forest\n",
    "n_thread =  effective_n_jobs(-1)\n",
    "rfc = RandomForestClassifier(bootstrap = 'True', criterion ='gini', n_estimators = 100, n_jobs=n_thread, max_features = 'auto')\n",
    "\n",
    "# Train Model\n",
    "rfc.fit(X_train, y_train)\n",
    "\n",
    "# Predict using test data\n",
    "y_pred_rfc = rfc.predict(X_test)\n",
    "\n",
    "# Show model performance\n",
    "add_model_eval('Random Forest Classifier', recall_score(y_test, y_pred_rfc), f1_score(y_test, y_pred_rfc), accuracy_score(y_test, y_pred_rfc), precision_score(y_test, y_pred_rfc))\n",
    "view_models_eval()"
   ],
   "metadata": {
    "collapsed": false,
    "pycharm": {
     "name": "#%%\n"
    }
   }
  },
  {
   "cell_type": "code",
   "execution_count": 10,
   "outputs": [
    {
     "data": {
      "text/plain": "{'learning_rate': 0.075,\n 'max_features': 'log2',\n 'n_estimators': 110,\n 'subsample': 0.85}"
     },
     "execution_count": 10,
     "metadata": {},
     "output_type": "execute_result"
    }
   ],
   "source": [
    "# Boosting Classifier\n",
    "gradientB = GradientBoostingClassifier()\n",
    "\n",
    "param_grid_gbc = {\n",
    "    'n_estimators': list(range(100, 150, 10)),\n",
    "    'learning_rate': [0.01, 0.025, 0.05, 0.075],\n",
    "    'max_features':['log2','sqrt', 'auto'],\n",
    "    'subsample':[0.5, 0.85, 0.95]\n",
    "}\n",
    "\n",
    "# Initialise GridSearchCV\n",
    "CV_gbc = GridSearchCV(estimator=gradientB,\n",
    "                      param_grid=param_grid_gbc,\n",
    "                      cv=5)\n",
    "\n",
    "# Fit the data on model\n",
    "CV_gbc.fit(X_train,\n",
    "           y_train)\n",
    "CV_gbc.best_params_"
   ],
   "metadata": {
    "collapsed": false,
    "pycharm": {
     "name": "#%%\n"
    }
   }
  },
  {
   "cell_type": "code",
   "execution_count": null,
   "outputs": [],
   "source": [
    "# Initialize Gradient Booster and use GridSearchCV parameters to fill in parameters of Gradient Booster\n",
    "gradientB = GradientBoostingClassifier(n_estimators = 100, learning_rate = 0.05, max_features = 'sqrt', subsample =0.5)\n",
    "\n",
    "# Train Model\n",
    "gradientB.fit(X_train, y_train)\n",
    "\n",
    "# Predict using test data\n",
    "y_pred_gb = gradientB.predict(X_test)\n",
    "\n",
    "# Show model performance\n",
    "add_model_eval('Gradient Boosting Classifier', recall_score(y_test, y_pred_gb), f1_score(y_test, y_pred_gb), accuracy_score(y_test, y_pred_gb), precision_score(y_test, y_pred_gb))\n",
    "view_models_eval()"
   ],
   "metadata": {
    "collapsed": false,
    "pycharm": {
     "name": "#%%\n"
    }
   }
  },
  {
   "cell_type": "markdown",
   "source": [
    "### Model metrics"
   ],
   "metadata": {
    "collapsed": false,
    "pycharm": {
     "name": "#%% md\n"
    }
   }
  },
  {
   "cell_type": "code",
   "execution_count": null,
   "outputs": [],
   "source": [
    "# Generate precision recall curve values: precision, recall, thresholds\n",
    "precision_rf, recall_rf, thresholds_rf = precision_recall_curve(y_test, y_pred_rfc)\n",
    "auc_precision_recall_rf = auc(recall_rf, precision_rf)\n",
    "\n",
    "# Plot ROC curve\n",
    "plt.plot(precision_rf, recall_rf, label=\"AUC=\"+str(auc_precision_recall_rf))\n",
    "plt.ylabel('Precision', fontsize=13)\n",
    "plt.xlabel('Recall', fontsize=13)\n",
    "plt.title('Random Forest Classifier', fontsize=10)\n",
    "plt.suptitle('Area Under the Precision Recall Curve', fontsize=13)\n",
    "plt.show()"
   ],
   "metadata": {
    "collapsed": false,
    "pycharm": {
     "name": "#%%\n"
    }
   }
  },
  {
   "cell_type": "code",
   "execution_count": null,
   "outputs": [],
   "source": [
    "# Generate precision recall curve values: precision, recall, thresholds\n",
    "precision_gb, recall_gb, thresholds_gb = precision_recall_curve(y_test, y_pred_gb)\n",
    "auc_precision_recall_gb = auc(recall_gb, precision_gb)\n",
    "\n",
    "# Plot ROC curve\n",
    "plt.plot(precision_gb, recall_gb,label=\"AUC=\"+str(auc_precision_recall_gb))\n",
    "plt.ylabel('Precision', fontsize=13)\n",
    "plt.xlabel('Recall', fontsize=13)\n",
    "plt.title('Gradient Boost Classifier', fontsize=10)\n",
    "plt.suptitle('Area Under the Precision Recall Curve', fontsize=13)\n",
    "plt.show()"
   ],
   "metadata": {
    "collapsed": false,
    "pycharm": {
     "name": "#%%\n"
    }
   }
  },
  {
   "cell_type": "code",
   "execution_count": null,
   "outputs": [],
   "source": [
    "tn_rf, fp_rf, fn_rf, tp_rf = confusion_matrix(y_test, y_pred_rfc).ravel()\n",
    "specificity_rfc = tn_rf / (tn_rf+fp_rf)\n",
    "specificity_rfc"
   ],
   "metadata": {
    "collapsed": false,
    "pycharm": {
     "name": "#%%\n"
    }
   }
  },
  {
   "cell_type": "code",
   "execution_count": null,
   "outputs": [],
   "source": [
    "tn_gb, fp_gb, fn_gb, tp_gb = confusion_matrix(y_test, y_pred_gb).ravel()\n",
    "specificity_gbc = tn_gb / (tn_gb+fp_gb)\n",
    "specificity_gbc"
   ],
   "metadata": {
    "collapsed": false,
    "pycharm": {
     "name": "#%%\n"
    }
   }
  },
  {
   "cell_type": "markdown",
   "source": [],
   "metadata": {
    "collapsed": false,
    "pycharm": {
     "name": "#%% md\n"
    }
   }
  }
 ],
 "metadata": {
  "kernelspec": {
   "display_name": "Python 3",
   "language": "python",
   "name": "python3"
  },
  "language_info": {
   "codemirror_mode": {
    "name": "ipython",
    "version": 2
   },
   "file_extension": ".py",
   "mimetype": "text/x-python",
   "name": "python",
   "nbconvert_exporter": "python",
   "pygments_lexer": "ipython2",
   "version": "2.7.6"
  }
 },
 "nbformat": 4,
 "nbformat_minor": 0
}