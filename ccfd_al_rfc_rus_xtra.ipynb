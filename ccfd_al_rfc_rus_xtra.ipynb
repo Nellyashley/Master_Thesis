{
 "cells": [
  {
   "cell_type": "markdown",
   "source": [
    "# Balancing, Active Learning and Ensemble Learning\n",
    "Notebook that contains the active learner with the baseline settings."
   ],
   "metadata": {
    "collapsed": false,
    "pycharm": {
     "name": "#%% md\n"
    }
   }
  },
  {
   "cell_type": "markdown",
   "source": [
    "### Import Libraries"
   ],
   "metadata": {
    "collapsed": false,
    "pycharm": {
     "name": "#%% md\n"
    }
   }
  },
  {
   "cell_type": "code",
   "execution_count": 1,
   "outputs": [],
   "source": [
    "# Import core libraries\n",
    "import pandas as pd\n",
    "import numpy as np\n",
    "\n",
    "# Parallel computing\n",
    "from joblib import effective_n_jobs\n",
    "\n",
    "# Undersampling\n",
    "from collections import Counter\n",
    "from imblearn.under_sampling import RandomUnderSampler\n",
    "\n",
    "# Preprocessing data\n",
    "from sklearn.model_selection import train_test_split\n",
    "from sklearn.preprocessing import StandardScaler\n",
    "\n",
    "# Pipeline\n",
    "from sklearn.pipeline import Pipeline\n",
    "from sklearn.compose import ColumnTransformer\n",
    "\n",
    "# Active Learner\n",
    "from modAL.models import ActiveLearner\n",
    "from modAL.uncertainty import uncertainty_sampling, entropy_sampling, margin_sampling\n",
    "\n",
    "# Metrics computation\n",
    "from IPython.core.display_functions import display\n",
    "from sklearn.metrics import f1_score, recall_score, accuracy_score, confusion_matrix, precision_score, roc_curve, plot_precision_recall_curve, roc_auc_score, auc, precision_recall_curve\n",
    "\n",
    "# Models\n",
    "from sklearn.ensemble import GradientBoostingClassifier\n",
    "from sklearn.ensemble import RandomForestClassifier\n",
    "\n",
    "# Cross validation\n",
    "from sklearn.model_selection import GridSearchCV\n",
    "\n",
    "# plot\n",
    "%matplotlib inline\n",
    "import matplotlib.pyplot as plt\n",
    "import matplotlib as mpl"
   ],
   "metadata": {
    "collapsed": false,
    "pycharm": {
     "name": "#%%\n"
    }
   }
  },
  {
   "cell_type": "markdown",
   "source": [
    "### Define Model Metrics"
   ],
   "metadata": {
    "collapsed": false,
    "pycharm": {
     "name": "#%% md\n"
    }
   }
  },
  {
   "cell_type": "code",
   "execution_count": 2,
   "outputs": [],
   "source": [
    "# Model evaluation metrics\n",
    "model_eval = {\n",
    "    'model': [],\n",
    "    'recall': [],\n",
    "    'f1_score': [],\n",
    "    'accuracy_score': [],\n",
    "    'precision_score': []\n",
    "}\n",
    "\n",
    "def add_model_eval(model, recall, f1_score, accuracy_score, precision_score):\n",
    "    model_eval['model'].append(model)\n",
    "    model_eval['recall'].append(f'{recall: .2f}')\n",
    "    model_eval['f1_score'].append(f'{f1_score: .2f}')\n",
    "    model_eval['accuracy_score'].append(f'{accuracy_score: .2f}')\n",
    "    model_eval['precision_score'].append(f'{precision_score: .2f}')\n",
    "\n",
    "def view_models_eval(sort=False):\n",
    "    eval_df = pd.DataFrame(model_eval)\n",
    "\n",
    "    if sort:\n",
    "        eval_df = eval_df.sort_values(by=['recall', 'f1_score'], ascending=[False, False])\n",
    "\n",
    "    # display(eval_df.style.hide_index)\n",
    "    display(eval_df)"
   ],
   "metadata": {
    "collapsed": false,
    "pycharm": {
     "name": "#%%\n"
    }
   }
  },
  {
   "cell_type": "markdown",
   "source": [
    "### Load In Data"
   ],
   "metadata": {
    "collapsed": false,
    "pycharm": {
     "name": "#%% md\n"
    }
   }
  },
  {
   "cell_type": "code",
   "execution_count": 3,
   "outputs": [],
   "source": [
    "# Load in data and transform data\n",
    "# Load in data (transactions)\n",
    "cc_transactions = pd.read_csv(\"../data/creditcard.csv\", delimiter=\",\")\n",
    "metrics = pd.read_csv(\"../data/metrics_k256.csv\", delimiter=\",\")\n",
    "result = pd.concat([cc_transactions, metrics], axis=1, join='inner')\n",
    "\n",
    "# Partition data into X and y\n",
    "X_transactions = result.drop(['Class', 'class', 'mean', 'min', 'max', 'pr', 'ev', 'lcc', 'id'], axis=1)\n",
    "y_transactions = cc_transactions['Class']"
   ],
   "metadata": {
    "collapsed": false,
    "pycharm": {
     "name": "#%%\n"
    }
   }
  },
  {
   "cell_type": "markdown",
   "source": [
    "### Undersampling"
   ],
   "metadata": {
    "collapsed": false,
    "pycharm": {
     "name": "#%% md\n"
    }
   }
  },
  {
   "cell_type": "code",
   "execution_count": 4,
   "outputs": [
    {
     "name": "stdout",
     "output_type": "stream",
     "text": [
      "Original dataset shape Counter({0: 284315, 1: 492})\n",
      "Resampled dataset shape Counter({0: 492, 1: 492})\n"
     ]
    }
   ],
   "source": [
    "# Undersampling\n",
    "rus = RandomUnderSampler(random_state=42)\n",
    "X_resampled, y_resampled= rus.fit_sample(X_transactions,\n",
    "                                            y_transactions)\n",
    "# Shape of old dataset vs. new dataset\n",
    "print('Original dataset shape {}'.format(Counter(y_transactions)))\n",
    "print('Resampled dataset shape {}'.format(Counter(y_resampled)))"
   ],
   "metadata": {
    "collapsed": false,
    "pycharm": {
     "name": "#%%\n"
    }
   }
  },
  {
   "cell_type": "markdown",
   "source": [
    "#### Standardisation"
   ],
   "metadata": {
    "collapsed": false,
    "pycharm": {
     "name": "#%% md\n"
    }
   }
  },
  {
   "cell_type": "code",
   "execution_count": 5,
   "outputs": [],
   "source": [
    "# Set our RNG seed for reproducibility.\n",
    "RANDOM_STATE_SEED = 123\n",
    "np.random.seed(RANDOM_STATE_SEED)\n",
    "\n",
    "# Transforming the features 'Time' and 'Amount'\n",
    "std_feat = ['Time',\n",
    "            'Amount',\n",
    "            'frac',\n",
    "            'std']\n",
    "std_pipeline = Pipeline([('std_scaler',\n",
    "                          StandardScaler())])\n",
    "\n",
    "full_pipeline = ColumnTransformer([\n",
    "    ('std_feat',\n",
    "     std_pipeline,\n",
    "     std_feat)],\n",
    "    remainder='passthrough')\n",
    "\n",
    "# Transform columns -> only for data that has the columns time and amount in them\n",
    "X_resampled = full_pipeline.fit_transform(X_resampled)"
   ],
   "metadata": {
    "collapsed": false,
    "pycharm": {
     "name": "#%%\n"
    }
   }
  },
  {
   "cell_type": "markdown",
   "source": [
    "### Active Learning"
   ],
   "metadata": {
    "collapsed": false,
    "pycharm": {
     "name": "#%% md\n"
    }
   }
  },
  {
   "cell_type": "code",
   "execution_count": 6,
   "outputs": [],
   "source": [
    "# Isolate our examples for our labeled dataset.\n",
    "X_raw = X_resampled\n",
    "y_raw = y_resampled.to_numpy()\n",
    "\n",
    "n_labeled_examples = X_raw.shape[0]\n",
    "training_indices = np.random.randint(low=0,\n",
    "                                     high=n_labeled_examples + 1,\n",
    "                                     size=5)\n",
    "\n",
    "X_train = X_raw[training_indices]\n",
    "y_train = y_raw[training_indices]\n",
    "\n",
    "# Isolate the non-training examples we'll be querying.\n",
    "X_pool = np.delete(X_raw,\n",
    "                   training_indices,\n",
    "                   axis=0)\n",
    "y_pool = np.delete(y_raw,\n",
    "                   training_indices,\n",
    "                   axis=0)"
   ],
   "metadata": {
    "collapsed": false,
    "pycharm": {
     "name": "#%%\n"
    }
   }
  },
  {
   "cell_type": "code",
   "execution_count": 7,
   "outputs": [],
   "source": [
    "# Specify our core estimator along with its active learning model.\n",
    "rfc = RandomForestClassifier()\n",
    "\n",
    "# Initiate Active Learner\n",
    "learner_uncertainty_sampling = ActiveLearner(estimator=rfc,\n",
    "                                             X_training=X_train,\n",
    "                                             y_training=y_train,\n",
    "                                             query_strategy=uncertainty_sampling)\n",
    "learner_margin_sampling = ActiveLearner(estimator=rfc,\n",
    "                                        X_training=X_train,\n",
    "                                        y_training=y_train,\n",
    "                                        query_strategy=margin_sampling)\n",
    "learner_entropy_sampling = ActiveLearner(estimator=rfc,\n",
    "                                         X_training=X_train,\n",
    "                                         y_training=y_train,\n",
    "                                         query_strategy=entropy_sampling)"
   ],
   "metadata": {
    "collapsed": false,
    "pycharm": {
     "name": "#%%\n"
    }
   }
  },
  {
   "cell_type": "code",
   "execution_count": 8,
   "outputs": [
    {
     "data": {
      "text/plain": "(0.5995934959349594, 0.5995934959349594, 0.5995934959349594)"
     },
     "execution_count": 8,
     "metadata": {},
     "output_type": "execute_result"
    }
   ],
   "source": [
    "# Record our learner's score on the raw data.\n",
    "unqueried_score_us = learner_uncertainty_sampling.score(X_raw, y_raw)\n",
    "unqueried_score_ms = learner_margin_sampling.score(X_raw, y_raw)\n",
    "unqueried_score_es = learner_entropy_sampling.score(X_raw, y_raw)\n",
    "unqueried_score_us, unqueried_score_ms, unqueried_score_es"
   ],
   "metadata": {
    "collapsed": false,
    "pycharm": {
     "name": "#%%\n"
    }
   }
  },
  {
   "cell_type": "code",
   "execution_count": 9,
   "outputs": [
    {
     "data": {
      "text/plain": "(array([0, 0, 0, 0, 0, 0, 0, 0, 0, 0, 0, 0, 0, 0, 0, 0, 0, 0, 0, 0, 0, 0,\n        0, 0, 0, 0, 0, 0, 0, 0, 0, 0, 0, 0, 0, 0, 0, 0, 0, 0, 0, 0, 0, 0,\n        0, 0, 0, 0, 0, 0, 0, 0, 0, 0, 0, 0, 0, 0, 0, 0, 0, 0, 0, 0, 0, 0,\n        0, 0, 0, 0, 0, 0, 0, 0, 0, 0, 0, 0, 0, 0, 0, 0, 0, 0, 0, 0, 0, 0,\n        0, 0, 0, 0, 0, 0, 0, 0, 0, 0, 0, 0, 0, 0, 0, 0, 0, 0, 0, 0, 0, 0,\n        0, 0, 0, 0, 0, 0, 0, 0, 0, 0, 0, 0, 0, 0, 0, 0, 0, 0, 0, 0, 0, 0,\n        0, 0, 0, 0, 0, 0, 0, 0, 0, 0, 0, 0, 0, 0, 0, 0, 0, 0, 0, 0, 0, 0,\n        0, 0, 0, 0, 0, 0, 0, 0, 0, 0, 0, 0, 0, 0, 0, 0, 0, 0, 0, 0, 0, 0,\n        0, 0, 0, 0, 0, 0, 0, 0, 0, 0, 0, 0, 0, 0, 0, 0, 0, 0, 0, 0, 0, 0,\n        0, 0, 0, 0, 0, 0, 0, 0, 0, 0, 0, 0, 0, 0, 0, 0, 0, 0, 0, 0, 0, 0,\n        0, 0, 0, 0, 0, 0, 0, 0, 0, 0, 0, 0, 0, 0, 0, 0, 0, 0, 0, 0, 0, 0,\n        0, 0, 0, 0, 0, 0, 0, 0, 0, 0, 0, 0, 0, 0, 0, 0, 0, 0, 0, 0, 0, 0,\n        0, 0, 0, 0, 0, 0, 0, 0, 0, 0, 0, 0, 0, 0, 0, 0, 0, 0, 0, 0, 0, 0,\n        0, 0, 0, 0, 0, 0, 0, 0, 0, 0, 0, 0, 0, 0, 0, 0, 0, 0, 0, 0, 0, 0,\n        0, 0, 0, 0, 0, 0, 0, 0, 0, 0, 0, 0, 0, 0, 0, 0, 0, 0, 0, 0, 0, 0,\n        0, 0, 0, 0, 0, 0, 0, 0, 0, 0, 0, 0, 0, 0, 0, 0, 0, 0, 0, 0, 0, 0,\n        0, 0, 0, 0, 0, 0, 0, 0, 0, 0, 0, 0, 0, 0, 0, 0, 0, 0, 0, 0, 0, 0,\n        0, 0, 0, 0, 0, 0, 0, 0, 0, 0, 0, 0, 0, 0, 0, 0, 0, 0, 0, 0, 0, 0,\n        0, 0, 0, 0, 0, 0, 0, 0, 0, 0, 0, 0, 0, 0, 0, 0, 0, 0, 0, 0, 0, 0,\n        0, 0, 0, 0, 0, 0, 0, 0, 0, 0, 0, 0, 0, 0, 0, 0, 0, 0, 0, 0, 0, 0,\n        0, 0, 0, 0, 0, 0, 0, 0, 0, 0, 0, 0, 0, 0, 0, 0, 0, 0, 0, 0, 0, 0,\n        0, 0, 0, 0, 0, 0, 0, 0, 0, 0, 0, 0, 0, 0, 0, 0, 0, 0, 0, 0, 0, 0,\n        0, 0, 0, 0, 0, 0, 0, 0, 0, 0, 0, 0, 0, 0, 0, 0, 0, 1, 1, 0, 0, 0,\n        0, 0, 0, 1, 1, 1, 0, 0, 0, 0, 0, 1, 0, 1, 1, 0, 0, 1, 0, 1, 1, 1,\n        1, 1, 0, 0, 0, 0, 1, 1, 1, 0, 1, 1, 1, 1, 1, 1, 1, 1, 1, 1, 0, 1,\n        1, 1, 0, 1, 1, 1, 1, 1, 1, 1, 1, 1, 1, 1, 1, 0, 1, 0, 1, 1, 1, 1,\n        1, 0, 0, 0, 0, 0, 0, 0, 0, 0, 0, 0, 1, 0, 0, 1, 1, 1, 1, 1, 0, 1,\n        0, 0, 0, 0, 0, 0, 1, 0, 0, 0, 1, 1, 1, 1, 1, 1, 1, 1, 1, 0, 0, 0,\n        0, 0, 0, 0, 0, 0, 0, 0, 1, 0, 0, 0, 0, 0, 0, 0, 0, 0, 0, 0, 1, 0,\n        0, 0, 0, 0, 0, 0, 0, 0, 0, 0, 0, 0, 0, 0, 0, 0, 0, 0, 0, 0, 0, 0,\n        0, 0, 0, 0, 0, 0, 0, 0, 0, 0, 1, 1, 0, 1, 0, 0, 0, 0, 0, 0, 0, 0,\n        0, 0, 0, 0, 0, 0, 1, 0, 0, 0, 0, 0, 0, 0, 0, 0, 0, 0, 0, 0, 0, 0,\n        0, 0, 0, 0, 0, 0, 0, 0, 0, 0, 0, 0, 0, 0, 0, 0, 0, 0, 0, 0, 0, 0,\n        0, 0, 0, 0, 0, 0, 0, 0, 0, 0, 0, 0, 0, 0, 0, 0, 0, 0, 0, 0, 0, 0,\n        0, 0, 0, 0, 0, 0, 0, 0, 0, 1, 1, 0, 0, 1, 0, 0, 1, 1, 0, 0, 0, 1,\n        1, 0, 0, 0, 0, 0, 0, 0, 0, 0, 0, 0, 0, 0, 0, 1, 0, 1, 1, 1, 1, 0,\n        0, 1, 0, 0, 0, 0, 0, 0, 0, 0, 0, 1, 0, 1, 0, 0, 0, 0, 0, 0, 1, 0,\n        0, 1, 0, 0, 0, 0, 0, 0, 1, 0, 0, 0, 0, 0, 0, 0, 0, 0, 1, 0, 0, 1,\n        1, 1, 1, 1, 0, 0, 0, 0, 0, 1, 0, 0, 0, 0, 0, 0, 0, 0, 0, 0, 0, 0,\n        0, 0, 0, 0, 0, 0, 0, 0, 0, 0, 0, 0, 0, 0, 0, 0, 0, 0, 0, 0, 0, 0,\n        0, 0, 0, 0, 0, 0, 0, 0, 0, 0, 0, 0, 0, 0, 0, 0, 0, 0, 0, 0, 0, 1,\n        0, 0, 0, 0, 0, 0, 0, 0, 0, 0, 0, 0, 0, 0, 0, 0, 0, 0, 1, 0, 0, 0,\n        0, 0, 0, 0, 0, 0, 0, 0, 0, 0, 0, 0, 0, 0, 0, 0, 0, 0, 0, 0, 0, 0,\n        0, 0, 0, 0, 0, 0, 0, 0, 0, 0, 0, 0, 0, 0, 0, 0, 0, 0, 0, 0, 0, 0,\n        0, 0, 0, 0, 0, 0, 0, 0, 0, 0, 0, 0, 0, 0, 0, 0]),\n array([0, 0, 0, 0, 0, 0, 0, 0, 0, 0, 0, 0, 0, 0, 0, 0, 0, 0, 0, 0, 0, 0,\n        0, 0, 0, 0, 0, 0, 0, 0, 0, 0, 0, 0, 0, 0, 0, 0, 0, 0, 0, 0, 0, 0,\n        0, 0, 0, 0, 0, 0, 0, 0, 0, 0, 0, 0, 0, 0, 0, 0, 0, 0, 0, 0, 0, 0,\n        0, 0, 0, 0, 0, 0, 0, 0, 0, 0, 0, 0, 0, 0, 0, 0, 0, 0, 0, 0, 0, 0,\n        0, 0, 0, 0, 0, 0, 0, 0, 0, 0, 0, 0, 0, 0, 0, 0, 0, 0, 0, 0, 0, 0,\n        0, 0, 0, 0, 0, 0, 0, 0, 0, 0, 0, 0, 0, 0, 0, 0, 0, 0, 0, 0, 0, 0,\n        0, 0, 0, 0, 0, 0, 0, 0, 0, 0, 0, 0, 0, 0, 0, 0, 0, 0, 0, 0, 0, 0,\n        0, 0, 0, 0, 0, 0, 0, 0, 0, 0, 0, 0, 0, 0, 0, 0, 0, 0, 0, 0, 0, 0,\n        0, 0, 0, 0, 0, 0, 0, 0, 0, 0, 0, 0, 0, 0, 0, 0, 0, 0, 0, 0, 0, 0,\n        0, 0, 0, 0, 0, 0, 0, 0, 0, 0, 0, 0, 0, 0, 0, 0, 0, 0, 0, 0, 0, 0,\n        0, 0, 0, 0, 0, 0, 0, 0, 0, 0, 0, 0, 0, 0, 0, 0, 0, 0, 0, 0, 0, 0,\n        0, 0, 0, 0, 0, 0, 0, 0, 0, 0, 0, 0, 0, 0, 0, 0, 0, 0, 0, 0, 0, 0,\n        0, 0, 0, 0, 0, 0, 0, 0, 0, 0, 0, 0, 0, 0, 0, 0, 0, 0, 0, 0, 0, 0,\n        0, 0, 0, 0, 0, 0, 0, 0, 0, 0, 0, 0, 0, 0, 0, 0, 0, 0, 0, 0, 0, 0,\n        0, 0, 0, 0, 0, 0, 0, 0, 0, 0, 0, 0, 0, 0, 0, 0, 0, 0, 0, 0, 0, 0,\n        0, 0, 0, 0, 0, 0, 0, 0, 0, 0, 0, 0, 0, 0, 0, 0, 0, 0, 0, 0, 0, 0,\n        0, 0, 0, 0, 0, 0, 0, 0, 0, 0, 0, 0, 0, 0, 0, 0, 0, 0, 0, 0, 0, 0,\n        0, 0, 0, 0, 0, 0, 0, 0, 0, 0, 0, 0, 0, 0, 0, 0, 0, 0, 0, 0, 0, 0,\n        0, 0, 0, 0, 0, 0, 0, 0, 0, 0, 0, 0, 0, 0, 0, 0, 0, 0, 0, 0, 0, 0,\n        0, 0, 0, 0, 0, 0, 0, 0, 0, 0, 0, 0, 0, 0, 0, 0, 0, 0, 0, 0, 0, 0,\n        0, 0, 0, 0, 0, 0, 0, 0, 0, 0, 0, 0, 0, 0, 0, 0, 0, 0, 0, 0, 0, 0,\n        0, 0, 0, 0, 0, 0, 0, 0, 0, 0, 0, 0, 0, 0, 0, 0, 0, 0, 0, 0, 0, 0,\n        0, 0, 0, 0, 0, 0, 0, 0, 0, 0, 0, 0, 0, 0, 0, 0, 0, 1, 1, 0, 0, 0,\n        0, 0, 0, 1, 1, 1, 0, 0, 0, 0, 0, 1, 0, 1, 1, 0, 0, 1, 0, 1, 1, 1,\n        1, 1, 0, 0, 0, 0, 1, 1, 1, 0, 1, 1, 1, 1, 1, 1, 1, 1, 1, 1, 0, 1,\n        1, 1, 0, 1, 1, 1, 1, 1, 1, 1, 1, 1, 1, 1, 1, 0, 1, 0, 1, 1, 1, 1,\n        1, 0, 0, 0, 0, 0, 0, 0, 0, 0, 0, 0, 1, 0, 0, 1, 1, 1, 1, 1, 0, 1,\n        0, 0, 0, 0, 0, 0, 1, 0, 0, 0, 1, 1, 1, 1, 1, 1, 1, 1, 1, 0, 0, 0,\n        0, 0, 0, 0, 0, 0, 0, 0, 1, 0, 0, 0, 0, 0, 0, 0, 0, 0, 0, 0, 1, 0,\n        0, 0, 0, 0, 0, 0, 0, 0, 0, 0, 0, 0, 0, 0, 0, 0, 0, 0, 0, 0, 0, 0,\n        0, 0, 0, 0, 0, 0, 0, 0, 0, 0, 1, 1, 0, 1, 0, 0, 0, 0, 0, 0, 0, 0,\n        0, 0, 0, 0, 0, 0, 1, 0, 0, 0, 0, 0, 0, 0, 0, 0, 0, 0, 0, 0, 0, 0,\n        0, 0, 0, 0, 0, 0, 0, 0, 0, 0, 0, 0, 0, 0, 0, 0, 0, 0, 0, 0, 0, 0,\n        0, 0, 0, 0, 0, 0, 0, 0, 0, 0, 0, 0, 0, 0, 0, 0, 0, 0, 0, 0, 0, 0,\n        0, 0, 0, 0, 0, 0, 0, 0, 0, 1, 1, 0, 0, 1, 0, 0, 1, 1, 0, 0, 0, 1,\n        1, 0, 0, 0, 0, 0, 0, 0, 0, 0, 0, 0, 0, 0, 0, 1, 0, 1, 1, 1, 1, 0,\n        0, 1, 0, 0, 0, 0, 0, 0, 0, 0, 0, 1, 0, 1, 0, 0, 0, 0, 0, 0, 1, 0,\n        0, 1, 0, 0, 0, 0, 0, 0, 1, 0, 0, 0, 0, 0, 0, 0, 0, 0, 1, 0, 0, 1,\n        1, 1, 1, 1, 0, 0, 0, 0, 0, 1, 0, 0, 0, 0, 0, 0, 0, 0, 0, 0, 0, 0,\n        0, 0, 0, 0, 0, 0, 0, 0, 0, 0, 0, 0, 0, 0, 0, 0, 0, 0, 0, 0, 0, 0,\n        0, 0, 0, 0, 0, 0, 0, 0, 0, 0, 0, 0, 0, 0, 0, 0, 0, 0, 0, 0, 0, 1,\n        0, 0, 0, 0, 0, 0, 0, 0, 0, 0, 0, 0, 0, 0, 0, 0, 0, 0, 1, 0, 0, 0,\n        0, 0, 0, 0, 0, 0, 0, 0, 0, 0, 0, 0, 0, 0, 0, 0, 0, 0, 0, 0, 0, 0,\n        0, 0, 0, 0, 0, 0, 0, 0, 0, 0, 0, 0, 0, 0, 0, 0, 0, 0, 0, 0, 0, 0,\n        0, 0, 0, 0, 0, 0, 0, 0, 0, 0, 0, 0, 0, 0, 0, 0]),\n array([0, 0, 0, 0, 0, 0, 0, 0, 0, 0, 0, 0, 0, 0, 0, 0, 0, 0, 0, 0, 0, 0,\n        0, 0, 0, 0, 0, 0, 0, 0, 0, 0, 0, 0, 0, 0, 0, 0, 0, 0, 0, 0, 0, 0,\n        0, 0, 0, 0, 0, 0, 0, 0, 0, 0, 0, 0, 0, 0, 0, 0, 0, 0, 0, 0, 0, 0,\n        0, 0, 0, 0, 0, 0, 0, 0, 0, 0, 0, 0, 0, 0, 0, 0, 0, 0, 0, 0, 0, 0,\n        0, 0, 0, 0, 0, 0, 0, 0, 0, 0, 0, 0, 0, 0, 0, 0, 0, 0, 0, 0, 0, 0,\n        0, 0, 0, 0, 0, 0, 0, 0, 0, 0, 0, 0, 0, 0, 0, 0, 0, 0, 0, 0, 0, 0,\n        0, 0, 0, 0, 0, 0, 0, 0, 0, 0, 0, 0, 0, 0, 0, 0, 0, 0, 0, 0, 0, 0,\n        0, 0, 0, 0, 0, 0, 0, 0, 0, 0, 0, 0, 0, 0, 0, 0, 0, 0, 0, 0, 0, 0,\n        0, 0, 0, 0, 0, 0, 0, 0, 0, 0, 0, 0, 0, 0, 0, 0, 0, 0, 0, 0, 0, 0,\n        0, 0, 0, 0, 0, 0, 0, 0, 0, 0, 0, 0, 0, 0, 0, 0, 0, 0, 0, 0, 0, 0,\n        0, 0, 0, 0, 0, 0, 0, 0, 0, 0, 0, 0, 0, 0, 0, 0, 0, 0, 0, 0, 0, 0,\n        0, 0, 0, 0, 0, 0, 0, 0, 0, 0, 0, 0, 0, 0, 0, 0, 0, 0, 0, 0, 0, 0,\n        0, 0, 0, 0, 0, 0, 0, 0, 0, 0, 0, 0, 0, 0, 0, 0, 0, 0, 0, 0, 0, 0,\n        0, 0, 0, 0, 0, 0, 0, 0, 0, 0, 0, 0, 0, 0, 0, 0, 0, 0, 0, 0, 0, 0,\n        0, 0, 0, 0, 0, 0, 0, 0, 0, 0, 0, 0, 0, 0, 0, 0, 0, 0, 0, 0, 0, 0,\n        0, 0, 0, 0, 0, 0, 0, 0, 0, 0, 0, 0, 0, 0, 0, 0, 0, 0, 0, 0, 0, 0,\n        0, 0, 0, 0, 0, 0, 0, 0, 0, 0, 0, 0, 0, 0, 0, 0, 0, 0, 0, 0, 0, 0,\n        0, 0, 0, 0, 0, 0, 0, 0, 0, 0, 0, 0, 0, 0, 0, 0, 0, 0, 0, 0, 0, 0,\n        0, 0, 0, 0, 0, 0, 0, 0, 0, 0, 0, 0, 0, 0, 0, 0, 0, 0, 0, 0, 0, 0,\n        0, 0, 0, 0, 0, 0, 0, 0, 0, 0, 0, 0, 0, 0, 0, 0, 0, 0, 0, 0, 0, 0,\n        0, 0, 0, 0, 0, 0, 0, 0, 0, 0, 0, 0, 0, 0, 0, 0, 0, 0, 0, 0, 0, 0,\n        0, 0, 0, 0, 0, 0, 0, 0, 0, 0, 0, 0, 0, 0, 0, 0, 0, 0, 0, 0, 0, 0,\n        0, 0, 0, 0, 0, 0, 0, 0, 0, 0, 0, 0, 0, 0, 0, 0, 0, 1, 1, 0, 0, 0,\n        0, 0, 0, 1, 1, 1, 0, 0, 0, 0, 0, 1, 0, 1, 1, 0, 0, 1, 0, 1, 1, 1,\n        1, 1, 0, 0, 0, 0, 1, 1, 1, 0, 1, 1, 1, 1, 1, 1, 1, 1, 1, 1, 0, 1,\n        1, 1, 0, 1, 1, 1, 1, 1, 1, 1, 1, 1, 1, 1, 1, 0, 1, 0, 1, 1, 1, 1,\n        1, 0, 0, 0, 0, 0, 0, 0, 0, 0, 0, 0, 1, 0, 0, 1, 1, 1, 1, 1, 0, 1,\n        0, 0, 0, 0, 0, 0, 1, 0, 0, 0, 1, 1, 1, 1, 1, 1, 1, 1, 1, 0, 0, 0,\n        0, 0, 0, 0, 0, 0, 0, 0, 1, 0, 0, 0, 0, 0, 0, 0, 0, 0, 0, 0, 1, 0,\n        0, 0, 0, 0, 0, 0, 0, 0, 0, 0, 0, 0, 0, 0, 0, 0, 0, 0, 0, 0, 0, 0,\n        0, 0, 0, 0, 0, 0, 0, 0, 0, 0, 1, 1, 0, 1, 0, 0, 0, 0, 0, 0, 0, 0,\n        0, 0, 0, 0, 0, 0, 1, 0, 0, 0, 0, 0, 0, 0, 0, 0, 0, 0, 0, 0, 0, 0,\n        0, 0, 0, 0, 0, 0, 0, 0, 0, 0, 0, 0, 0, 0, 0, 0, 0, 0, 0, 0, 0, 0,\n        0, 0, 0, 0, 0, 0, 0, 0, 0, 0, 0, 0, 0, 0, 0, 0, 0, 0, 0, 0, 0, 0,\n        0, 0, 0, 0, 0, 0, 0, 0, 0, 1, 1, 0, 0, 1, 0, 0, 1, 1, 0, 0, 0, 1,\n        1, 0, 0, 0, 0, 0, 0, 0, 0, 0, 0, 0, 0, 0, 0, 1, 0, 1, 1, 1, 1, 0,\n        0, 1, 0, 0, 0, 0, 0, 0, 0, 0, 0, 1, 0, 1, 0, 0, 0, 0, 0, 0, 1, 0,\n        0, 1, 0, 0, 0, 0, 0, 0, 1, 0, 0, 0, 0, 0, 0, 0, 0, 0, 1, 0, 0, 1,\n        1, 1, 1, 1, 0, 0, 0, 0, 0, 1, 0, 0, 0, 0, 0, 0, 0, 0, 0, 0, 0, 0,\n        0, 0, 0, 0, 0, 0, 0, 0, 0, 0, 0, 0, 0, 0, 0, 0, 0, 0, 0, 0, 0, 0,\n        0, 0, 0, 0, 0, 0, 0, 0, 0, 0, 0, 0, 0, 0, 0, 0, 0, 0, 0, 0, 0, 1,\n        0, 0, 0, 0, 0, 0, 0, 0, 0, 0, 0, 0, 0, 0, 0, 0, 0, 0, 1, 0, 0, 0,\n        0, 0, 0, 0, 0, 0, 0, 0, 0, 0, 0, 0, 0, 0, 0, 0, 0, 0, 0, 0, 0, 0,\n        0, 0, 0, 0, 0, 0, 0, 0, 0, 0, 0, 0, 0, 0, 0, 0, 0, 0, 0, 0, 0, 0,\n        0, 0, 0, 0, 0, 0, 0, 0, 0, 0, 0, 0, 0, 0, 0, 0]),\n array([ True,  True,  True,  True,  True,  True,  True,  True,  True,\n         True,  True,  True,  True,  True,  True,  True,  True,  True,\n         True,  True,  True,  True,  True,  True,  True,  True,  True,\n         True,  True,  True,  True,  True,  True,  True,  True,  True,\n         True,  True,  True,  True,  True,  True,  True,  True,  True,\n         True,  True,  True,  True,  True,  True,  True,  True,  True,\n         True,  True,  True,  True,  True,  True,  True,  True,  True,\n         True,  True,  True,  True,  True,  True,  True,  True,  True,\n         True,  True,  True,  True,  True,  True,  True,  True,  True,\n         True,  True,  True,  True,  True,  True,  True,  True,  True,\n         True,  True,  True,  True,  True,  True,  True,  True,  True,\n         True,  True,  True,  True,  True,  True,  True,  True,  True,\n         True,  True,  True,  True,  True,  True,  True,  True,  True,\n         True,  True,  True,  True,  True,  True,  True,  True,  True,\n         True,  True,  True,  True,  True,  True,  True,  True,  True,\n         True,  True,  True,  True,  True,  True,  True,  True,  True,\n         True,  True,  True,  True,  True,  True,  True,  True,  True,\n         True,  True,  True,  True,  True,  True,  True,  True,  True,\n         True,  True,  True,  True,  True,  True,  True,  True,  True,\n         True,  True,  True,  True,  True,  True,  True,  True,  True,\n         True,  True,  True,  True,  True,  True,  True,  True,  True,\n         True,  True,  True,  True,  True,  True,  True,  True,  True,\n         True,  True,  True,  True,  True,  True,  True,  True,  True,\n         True,  True,  True,  True,  True,  True,  True,  True,  True,\n         True,  True,  True,  True,  True,  True,  True,  True,  True,\n         True,  True,  True,  True,  True,  True,  True,  True,  True,\n         True,  True,  True,  True,  True,  True,  True,  True,  True,\n         True,  True,  True,  True,  True,  True,  True,  True,  True,\n         True,  True,  True,  True,  True,  True,  True,  True,  True,\n         True,  True,  True,  True,  True,  True,  True,  True,  True,\n         True,  True,  True,  True,  True,  True,  True,  True,  True,\n         True,  True,  True,  True,  True,  True,  True,  True,  True,\n         True,  True,  True,  True,  True,  True,  True,  True,  True,\n         True,  True,  True,  True,  True,  True,  True,  True,  True,\n         True,  True,  True,  True,  True,  True,  True,  True,  True,\n         True,  True,  True,  True,  True,  True,  True,  True,  True,\n         True,  True,  True,  True,  True,  True,  True,  True,  True,\n         True,  True,  True,  True,  True,  True,  True,  True,  True,\n         True,  True,  True,  True,  True,  True,  True,  True,  True,\n         True,  True,  True,  True,  True,  True,  True,  True,  True,\n         True,  True,  True,  True,  True,  True,  True,  True,  True,\n         True,  True,  True,  True,  True,  True,  True,  True,  True,\n         True,  True,  True,  True,  True,  True,  True,  True,  True,\n         True,  True,  True,  True,  True,  True,  True,  True,  True,\n         True,  True,  True,  True,  True,  True,  True,  True,  True,\n         True,  True,  True,  True,  True,  True,  True,  True,  True,\n         True,  True,  True,  True,  True,  True,  True,  True,  True,\n         True,  True,  True,  True,  True,  True,  True,  True,  True,\n         True,  True,  True,  True,  True,  True,  True,  True,  True,\n         True,  True,  True,  True,  True,  True,  True,  True,  True,\n         True,  True,  True,  True,  True,  True,  True,  True,  True,\n         True,  True,  True,  True,  True,  True,  True,  True,  True,\n         True,  True,  True,  True,  True,  True,  True,  True,  True,\n         True,  True,  True,  True,  True,  True,  True,  True,  True,\n         True,  True,  True,  True,  True,  True, False, False, False,\n        False, False, False, False, False, False,  True,  True, False,\n        False, False, False, False, False,  True,  True,  True, False,\n        False, False, False, False,  True, False,  True,  True, False,\n        False,  True, False,  True,  True,  True,  True,  True, False,\n        False, False, False,  True,  True,  True, False,  True,  True,\n         True,  True,  True,  True,  True,  True,  True,  True, False,\n         True,  True,  True, False,  True,  True,  True,  True,  True,\n         True,  True,  True,  True,  True,  True,  True, False,  True,\n        False,  True,  True,  True,  True,  True, False, False, False,\n        False, False, False, False, False, False, False, False,  True,\n        False, False,  True,  True,  True,  True,  True, False,  True,\n        False, False, False, False, False, False,  True, False, False,\n        False,  True,  True,  True,  True,  True,  True,  True,  True,\n         True, False, False, False, False, False, False, False, False,\n        False, False, False,  True, False, False, False, False, False,\n        False, False, False, False, False, False,  True, False, False,\n        False, False, False, False, False, False, False, False, False,\n        False, False, False, False, False, False, False, False, False,\n        False, False, False, False, False, False, False, False, False,\n        False, False, False, False,  True,  True, False,  True, False,\n        False, False, False, False, False, False, False, False, False,\n        False, False, False, False,  True, False, False, False, False,\n        False, False, False, False, False, False, False, False, False,\n        False, False, False, False, False, False, False, False, False,\n        False, False, False, False, False, False, False, False, False,\n        False, False, False, False, False, False, False, False, False,\n        False, False, False, False, False, False, False, False, False,\n        False, False, False, False, False, False, False, False, False,\n        False, False, False, False, False, False, False, False, False,\n        False,  True,  True, False, False,  True, False, False,  True,\n         True, False, False, False,  True,  True, False, False, False,\n        False, False, False, False, False, False, False, False, False,\n        False, False,  True, False,  True,  True,  True,  True, False,\n        False,  True, False, False, False, False, False, False, False,\n        False, False,  True, False,  True, False, False, False, False,\n        False, False,  True, False, False,  True, False, False, False,\n        False, False, False,  True, False, False, False, False, False,\n        False, False, False, False,  True, False, False,  True,  True,\n         True,  True,  True, False, False, False, False, False,  True,\n        False, False, False, False, False, False, False, False, False,\n        False, False, False, False, False, False, False, False, False,\n        False, False, False, False, False, False, False, False, False,\n        False, False, False, False, False, False, False, False, False,\n        False, False, False, False, False, False, False, False, False,\n        False, False, False, False, False, False, False, False, False,\n        False,  True, False, False, False, False, False, False, False,\n        False, False, False, False, False, False, False, False, False,\n        False, False,  True, False, False, False, False, False, False,\n        False, False, False, False, False, False, False, False, False,\n        False, False, False, False, False, False, False, False, False,\n        False, False, False, False, False, False, False, False, False,\n        False, False, False, False, False, False, False, False, False,\n        False, False, False, False, False, False, False, False, False,\n        False, False, False, False, False, False, False, False, False,\n        False, False, False]),\n array([ True,  True,  True,  True,  True,  True,  True,  True,  True,\n         True,  True,  True,  True,  True,  True,  True,  True,  True,\n         True,  True,  True,  True,  True,  True,  True,  True,  True,\n         True,  True,  True,  True,  True,  True,  True,  True,  True,\n         True,  True,  True,  True,  True,  True,  True,  True,  True,\n         True,  True,  True,  True,  True,  True,  True,  True,  True,\n         True,  True,  True,  True,  True,  True,  True,  True,  True,\n         True,  True,  True,  True,  True,  True,  True,  True,  True,\n         True,  True,  True,  True,  True,  True,  True,  True,  True,\n         True,  True,  True,  True,  True,  True,  True,  True,  True,\n         True,  True,  True,  True,  True,  True,  True,  True,  True,\n         True,  True,  True,  True,  True,  True,  True,  True,  True,\n         True,  True,  True,  True,  True,  True,  True,  True,  True,\n         True,  True,  True,  True,  True,  True,  True,  True,  True,\n         True,  True,  True,  True,  True,  True,  True,  True,  True,\n         True,  True,  True,  True,  True,  True,  True,  True,  True,\n         True,  True,  True,  True,  True,  True,  True,  True,  True,\n         True,  True,  True,  True,  True,  True,  True,  True,  True,\n         True,  True,  True,  True,  True,  True,  True,  True,  True,\n         True,  True,  True,  True,  True,  True,  True,  True,  True,\n         True,  True,  True,  True,  True,  True,  True,  True,  True,\n         True,  True,  True,  True,  True,  True,  True,  True,  True,\n         True,  True,  True,  True,  True,  True,  True,  True,  True,\n         True,  True,  True,  True,  True,  True,  True,  True,  True,\n         True,  True,  True,  True,  True,  True,  True,  True,  True,\n         True,  True,  True,  True,  True,  True,  True,  True,  True,\n         True,  True,  True,  True,  True,  True,  True,  True,  True,\n         True,  True,  True,  True,  True,  True,  True,  True,  True,\n         True,  True,  True,  True,  True,  True,  True,  True,  True,\n         True,  True,  True,  True,  True,  True,  True,  True,  True,\n         True,  True,  True,  True,  True,  True,  True,  True,  True,\n         True,  True,  True,  True,  True,  True,  True,  True,  True,\n         True,  True,  True,  True,  True,  True,  True,  True,  True,\n         True,  True,  True,  True,  True,  True,  True,  True,  True,\n         True,  True,  True,  True,  True,  True,  True,  True,  True,\n         True,  True,  True,  True,  True,  True,  True,  True,  True,\n         True,  True,  True,  True,  True,  True,  True,  True,  True,\n         True,  True,  True,  True,  True,  True,  True,  True,  True,\n         True,  True,  True,  True,  True,  True,  True,  True,  True,\n         True,  True,  True,  True,  True,  True,  True,  True,  True,\n         True,  True,  True,  True,  True,  True,  True,  True,  True,\n         True,  True,  True,  True,  True,  True,  True,  True,  True,\n         True,  True,  True,  True,  True,  True,  True,  True,  True,\n         True,  True,  True,  True,  True,  True,  True,  True,  True,\n         True,  True,  True,  True,  True,  True,  True,  True,  True,\n         True,  True,  True,  True,  True,  True,  True,  True,  True,\n         True,  True,  True,  True,  True,  True,  True,  True,  True,\n         True,  True,  True,  True,  True,  True,  True,  True,  True,\n         True,  True,  True,  True,  True,  True,  True,  True,  True,\n         True,  True,  True,  True,  True,  True,  True,  True,  True,\n         True,  True,  True,  True,  True,  True,  True,  True,  True,\n         True,  True,  True,  True,  True,  True,  True,  True,  True,\n         True,  True,  True,  True,  True,  True,  True,  True,  True,\n         True,  True,  True,  True,  True,  True,  True,  True,  True,\n         True,  True,  True,  True,  True,  True, False, False, False,\n        False, False, False, False, False, False,  True,  True, False,\n        False, False, False, False, False,  True,  True,  True, False,\n        False, False, False, False,  True, False,  True,  True, False,\n        False,  True, False,  True,  True,  True,  True,  True, False,\n        False, False, False,  True,  True,  True, False,  True,  True,\n         True,  True,  True,  True,  True,  True,  True,  True, False,\n         True,  True,  True, False,  True,  True,  True,  True,  True,\n         True,  True,  True,  True,  True,  True,  True, False,  True,\n        False,  True,  True,  True,  True,  True, False, False, False,\n        False, False, False, False, False, False, False, False,  True,\n        False, False,  True,  True,  True,  True,  True, False,  True,\n        False, False, False, False, False, False,  True, False, False,\n        False,  True,  True,  True,  True,  True,  True,  True,  True,\n         True, False, False, False, False, False, False, False, False,\n        False, False, False,  True, False, False, False, False, False,\n        False, False, False, False, False, False,  True, False, False,\n        False, False, False, False, False, False, False, False, False,\n        False, False, False, False, False, False, False, False, False,\n        False, False, False, False, False, False, False, False, False,\n        False, False, False, False,  True,  True, False,  True, False,\n        False, False, False, False, False, False, False, False, False,\n        False, False, False, False,  True, False, False, False, False,\n        False, False, False, False, False, False, False, False, False,\n        False, False, False, False, False, False, False, False, False,\n        False, False, False, False, False, False, False, False, False,\n        False, False, False, False, False, False, False, False, False,\n        False, False, False, False, False, False, False, False, False,\n        False, False, False, False, False, False, False, False, False,\n        False, False, False, False, False, False, False, False, False,\n        False,  True,  True, False, False,  True, False, False,  True,\n         True, False, False, False,  True,  True, False, False, False,\n        False, False, False, False, False, False, False, False, False,\n        False, False,  True, False,  True,  True,  True,  True, False,\n        False,  True, False, False, False, False, False, False, False,\n        False, False,  True, False,  True, False, False, False, False,\n        False, False,  True, False, False,  True, False, False, False,\n        False, False, False,  True, False, False, False, False, False,\n        False, False, False, False,  True, False, False,  True,  True,\n         True,  True,  True, False, False, False, False, False,  True,\n        False, False, False, False, False, False, False, False, False,\n        False, False, False, False, False, False, False, False, False,\n        False, False, False, False, False, False, False, False, False,\n        False, False, False, False, False, False, False, False, False,\n        False, False, False, False, False, False, False, False, False,\n        False, False, False, False, False, False, False, False, False,\n        False,  True, False, False, False, False, False, False, False,\n        False, False, False, False, False, False, False, False, False,\n        False, False,  True, False, False, False, False, False, False,\n        False, False, False, False, False, False, False, False, False,\n        False, False, False, False, False, False, False, False, False,\n        False, False, False, False, False, False, False, False, False,\n        False, False, False, False, False, False, False, False, False,\n        False, False, False, False, False, False, False, False, False,\n        False, False, False, False, False, False, False, False, False,\n        False, False, False]),\n array([ True,  True,  True,  True,  True,  True,  True,  True,  True,\n         True,  True,  True,  True,  True,  True,  True,  True,  True,\n         True,  True,  True,  True,  True,  True,  True,  True,  True,\n         True,  True,  True,  True,  True,  True,  True,  True,  True,\n         True,  True,  True,  True,  True,  True,  True,  True,  True,\n         True,  True,  True,  True,  True,  True,  True,  True,  True,\n         True,  True,  True,  True,  True,  True,  True,  True,  True,\n         True,  True,  True,  True,  True,  True,  True,  True,  True,\n         True,  True,  True,  True,  True,  True,  True,  True,  True,\n         True,  True,  True,  True,  True,  True,  True,  True,  True,\n         True,  True,  True,  True,  True,  True,  True,  True,  True,\n         True,  True,  True,  True,  True,  True,  True,  True,  True,\n         True,  True,  True,  True,  True,  True,  True,  True,  True,\n         True,  True,  True,  True,  True,  True,  True,  True,  True,\n         True,  True,  True,  True,  True,  True,  True,  True,  True,\n         True,  True,  True,  True,  True,  True,  True,  True,  True,\n         True,  True,  True,  True,  True,  True,  True,  True,  True,\n         True,  True,  True,  True,  True,  True,  True,  True,  True,\n         True,  True,  True,  True,  True,  True,  True,  True,  True,\n         True,  True,  True,  True,  True,  True,  True,  True,  True,\n         True,  True,  True,  True,  True,  True,  True,  True,  True,\n         True,  True,  True,  True,  True,  True,  True,  True,  True,\n         True,  True,  True,  True,  True,  True,  True,  True,  True,\n         True,  True,  True,  True,  True,  True,  True,  True,  True,\n         True,  True,  True,  True,  True,  True,  True,  True,  True,\n         True,  True,  True,  True,  True,  True,  True,  True,  True,\n         True,  True,  True,  True,  True,  True,  True,  True,  True,\n         True,  True,  True,  True,  True,  True,  True,  True,  True,\n         True,  True,  True,  True,  True,  True,  True,  True,  True,\n         True,  True,  True,  True,  True,  True,  True,  True,  True,\n         True,  True,  True,  True,  True,  True,  True,  True,  True,\n         True,  True,  True,  True,  True,  True,  True,  True,  True,\n         True,  True,  True,  True,  True,  True,  True,  True,  True,\n         True,  True,  True,  True,  True,  True,  True,  True,  True,\n         True,  True,  True,  True,  True,  True,  True,  True,  True,\n         True,  True,  True,  True,  True,  True,  True,  True,  True,\n         True,  True,  True,  True,  True,  True,  True,  True,  True,\n         True,  True,  True,  True,  True,  True,  True,  True,  True,\n         True,  True,  True,  True,  True,  True,  True,  True,  True,\n         True,  True,  True,  True,  True,  True,  True,  True,  True,\n         True,  True,  True,  True,  True,  True,  True,  True,  True,\n         True,  True,  True,  True,  True,  True,  True,  True,  True,\n         True,  True,  True,  True,  True,  True,  True,  True,  True,\n         True,  True,  True,  True,  True,  True,  True,  True,  True,\n         True,  True,  True,  True,  True,  True,  True,  True,  True,\n         True,  True,  True,  True,  True,  True,  True,  True,  True,\n         True,  True,  True,  True,  True,  True,  True,  True,  True,\n         True,  True,  True,  True,  True,  True,  True,  True,  True,\n         True,  True,  True,  True,  True,  True,  True,  True,  True,\n         True,  True,  True,  True,  True,  True,  True,  True,  True,\n         True,  True,  True,  True,  True,  True,  True,  True,  True,\n         True,  True,  True,  True,  True,  True,  True,  True,  True,\n         True,  True,  True,  True,  True,  True,  True,  True,  True,\n         True,  True,  True,  True,  True,  True,  True,  True,  True,\n         True,  True,  True,  True,  True,  True, False, False, False,\n        False, False, False, False, False, False,  True,  True, False,\n        False, False, False, False, False,  True,  True,  True, False,\n        False, False, False, False,  True, False,  True,  True, False,\n        False,  True, False,  True,  True,  True,  True,  True, False,\n        False, False, False,  True,  True,  True, False,  True,  True,\n         True,  True,  True,  True,  True,  True,  True,  True, False,\n         True,  True,  True, False,  True,  True,  True,  True,  True,\n         True,  True,  True,  True,  True,  True,  True, False,  True,\n        False,  True,  True,  True,  True,  True, False, False, False,\n        False, False, False, False, False, False, False, False,  True,\n        False, False,  True,  True,  True,  True,  True, False,  True,\n        False, False, False, False, False, False,  True, False, False,\n        False,  True,  True,  True,  True,  True,  True,  True,  True,\n         True, False, False, False, False, False, False, False, False,\n        False, False, False,  True, False, False, False, False, False,\n        False, False, False, False, False, False,  True, False, False,\n        False, False, False, False, False, False, False, False, False,\n        False, False, False, False, False, False, False, False, False,\n        False, False, False, False, False, False, False, False, False,\n        False, False, False, False,  True,  True, False,  True, False,\n        False, False, False, False, False, False, False, False, False,\n        False, False, False, False,  True, False, False, False, False,\n        False, False, False, False, False, False, False, False, False,\n        False, False, False, False, False, False, False, False, False,\n        False, False, False, False, False, False, False, False, False,\n        False, False, False, False, False, False, False, False, False,\n        False, False, False, False, False, False, False, False, False,\n        False, False, False, False, False, False, False, False, False,\n        False, False, False, False, False, False, False, False, False,\n        False,  True,  True, False, False,  True, False, False,  True,\n         True, False, False, False,  True,  True, False, False, False,\n        False, False, False, False, False, False, False, False, False,\n        False, False,  True, False,  True,  True,  True,  True, False,\n        False,  True, False, False, False, False, False, False, False,\n        False, False,  True, False,  True, False, False, False, False,\n        False, False,  True, False, False,  True, False, False, False,\n        False, False, False,  True, False, False, False, False, False,\n        False, False, False, False,  True, False, False,  True,  True,\n         True,  True,  True, False, False, False, False, False,  True,\n        False, False, False, False, False, False, False, False, False,\n        False, False, False, False, False, False, False, False, False,\n        False, False, False, False, False, False, False, False, False,\n        False, False, False, False, False, False, False, False, False,\n        False, False, False, False, False, False, False, False, False,\n        False, False, False, False, False, False, False, False, False,\n        False,  True, False, False, False, False, False, False, False,\n        False, False, False, False, False, False, False, False, False,\n        False, False,  True, False, False, False, False, False, False,\n        False, False, False, False, False, False, False, False, False,\n        False, False, False, False, False, False, False, False, False,\n        False, False, False, False, False, False, False, False, False,\n        False, False, False, False, False, False, False, False, False,\n        False, False, False, False, False, False, False, False, False,\n        False, False, False, False, False, False, False, False, False,\n        False, False, False]))"
     },
     "execution_count": 9,
     "metadata": {},
     "output_type": "execute_result"
    }
   ],
   "source": [
    "# Isolate the data we'll need for plotting.\n",
    "predictions_us = learner_uncertainty_sampling.predict(X_raw)\n",
    "predictions_ms = learner_margin_sampling.predict(X_raw)\n",
    "predictions_es = learner_entropy_sampling.predict(X_raw)\n",
    "\n",
    "is_correct_us = (predictions_us == y_raw)\n",
    "is_correct_ms = (predictions_ms == y_raw)\n",
    "is_correct_es = (predictions_es == y_raw)\n",
    "\n",
    "predictions_us, predictions_ms, predictions_es, is_correct_us, is_correct_ms, is_correct_es"
   ],
   "metadata": {
    "collapsed": false,
    "pycharm": {
     "name": "#%%\n"
    }
   }
  },
  {
   "cell_type": "code",
   "execution_count": 10,
   "outputs": [
    {
     "name": "stdout",
     "output_type": "stream",
     "text": [
      "Accuracy after query 1: 0.8252\n",
      "Accuracy after query 2: 0.8852\n",
      "Accuracy after query 3: 0.8953\n",
      "Accuracy after query 4: 0.9045\n",
      "Accuracy after query 5: 0.9096\n",
      "Accuracy after query 6: 0.9248\n",
      "Accuracy after query 7: 0.9350\n",
      "Accuracy after query 8: 0.9329\n",
      "Accuracy after query 9: 0.9339\n",
      "Accuracy after query 10: 0.9248\n",
      "Accuracy after query 11: 0.9339\n",
      "Accuracy after query 12: 0.9360\n",
      "Accuracy after query 13: 0.9319\n",
      "Accuracy after query 14: 0.9350\n",
      "Accuracy after query 15: 0.9339\n",
      "Accuracy after query 16: 0.9360\n",
      "Accuracy after query 17: 0.9350\n",
      "Accuracy after query 18: 0.9370\n",
      "Accuracy after query 19: 0.9370\n",
      "Accuracy after query 20: 0.9431\n",
      "Accuracy after query 21: 0.9441\n",
      "Accuracy after query 22: 0.9400\n",
      "Accuracy after query 23: 0.9451\n",
      "Accuracy after query 24: 0.9400\n",
      "Accuracy after query 25: 0.9411\n",
      "Accuracy after query 26: 0.9411\n",
      "Accuracy after query 27: 0.9390\n",
      "Accuracy after query 28: 0.9411\n",
      "Accuracy after query 29: 0.9411\n",
      "Accuracy after query 30: 0.9421\n",
      "Accuracy after query 31: 0.9421\n",
      "Accuracy after query 32: 0.9421\n",
      "Accuracy after query 33: 0.9421\n",
      "Accuracy after query 34: 0.9431\n",
      "Accuracy after query 35: 0.9421\n",
      "Accuracy after query 36: 0.9431\n",
      "Accuracy after query 37: 0.9431\n",
      "Accuracy after query 38: 0.9451\n",
      "Accuracy after query 39: 0.9451\n",
      "Accuracy after query 40: 0.9451\n",
      "Accuracy after query 41: 0.9472\n",
      "Accuracy after query 42: 0.9451\n",
      "Accuracy after query 43: 0.9451\n",
      "Accuracy after query 44: 0.9472\n",
      "Accuracy after query 45: 0.9472\n",
      "Accuracy after query 46: 0.9461\n",
      "Accuracy after query 47: 0.9472\n",
      "Accuracy after query 48: 0.9482\n",
      "Accuracy after query 49: 0.9472\n",
      "Accuracy after query 50: 0.9512\n",
      "Accuracy after query 51: 0.9482\n",
      "Accuracy after query 52: 0.9522\n",
      "Accuracy after query 53: 0.9472\n",
      "Accuracy after query 54: 0.9502\n",
      "Accuracy after query 55: 0.9502\n",
      "Accuracy after query 56: 0.9512\n",
      "Accuracy after query 57: 0.9533\n",
      "Accuracy after query 58: 0.9533\n",
      "Accuracy after query 59: 0.9543\n",
      "Accuracy after query 60: 0.9543\n",
      "Accuracy after query 61: 0.9553\n",
      "Accuracy after query 62: 0.9553\n",
      "Accuracy after query 63: 0.9553\n",
      "Accuracy after query 64: 0.9563\n",
      "Accuracy after query 65: 0.9553\n",
      "Accuracy after query 66: 0.9563\n",
      "Accuracy after query 67: 0.9563\n",
      "Accuracy after query 68: 0.9563\n",
      "Accuracy after query 69: 0.9563\n",
      "Accuracy after query 70: 0.9563\n",
      "Accuracy after query 71: 0.9573\n",
      "Accuracy after query 72: 0.9573\n",
      "Accuracy after query 73: 0.9583\n",
      "Accuracy after query 74: 0.9593\n",
      "Accuracy after query 75: 0.9593\n",
      "Accuracy after query 76: 0.9593\n",
      "Accuracy after query 77: 0.9593\n",
      "Accuracy after query 78: 0.9593\n",
      "Accuracy after query 79: 0.9593\n",
      "Accuracy after query 80: 0.9593\n",
      "Accuracy after query 81: 0.9604\n",
      "Accuracy after query 82: 0.9614\n",
      "Accuracy after query 83: 0.9614\n",
      "Accuracy after query 84: 0.9624\n",
      "Accuracy after query 85: 0.9634\n",
      "Accuracy after query 86: 0.9624\n",
      "Accuracy after query 87: 0.9634\n",
      "Accuracy after query 88: 0.9644\n",
      "Accuracy after query 89: 0.9654\n",
      "Accuracy after query 90: 0.9665\n",
      "Accuracy after query 91: 0.9665\n",
      "Accuracy after query 92: 0.9665\n",
      "Accuracy after query 93: 0.9675\n",
      "Accuracy after query 94: 0.9675\n",
      "Accuracy after query 95: 0.9675\n",
      "Accuracy after query 96: 0.9675\n",
      "Accuracy after query 97: 0.9675\n",
      "Accuracy after query 98: 0.9685\n",
      "Accuracy after query 99: 0.9685\n",
      "Accuracy after query 100: 0.9685\n",
      "Accuracy after query 101: 0.9695\n",
      "Accuracy after query 102: 0.9695\n",
      "Accuracy after query 103: 0.9705\n",
      "Accuracy after query 104: 0.9705\n",
      "Accuracy after query 105: 0.9705\n",
      "Accuracy after query 106: 0.9705\n",
      "Accuracy after query 107: 0.9726\n",
      "Accuracy after query 108: 0.9726\n",
      "Accuracy after query 109: 0.9736\n",
      "Accuracy after query 110: 0.9736\n",
      "Accuracy after query 111: 0.9736\n",
      "Accuracy after query 112: 0.9736\n",
      "Accuracy after query 113: 0.9736\n",
      "Accuracy after query 114: 0.9746\n",
      "Accuracy after query 115: 0.9746\n",
      "Accuracy after query 116: 0.9746\n",
      "Accuracy after query 117: 0.9756\n",
      "Accuracy after query 118: 0.9756\n",
      "Accuracy after query 119: 0.9756\n",
      "Accuracy after query 120: 0.9756\n",
      "Accuracy after query 121: 0.9756\n",
      "Accuracy after query 122: 0.9756\n",
      "Accuracy after query 123: 0.9756\n",
      "Accuracy after query 124: 0.9756\n",
      "Accuracy after query 125: 0.9766\n",
      "Accuracy after query 126: 0.9766\n",
      "Accuracy after query 127: 0.9766\n",
      "Accuracy after query 128: 0.9766\n",
      "Accuracy after query 129: 0.9766\n",
      "Accuracy after query 130: 0.9766\n",
      "Accuracy after query 131: 0.9766\n",
      "Accuracy after query 132: 0.9766\n",
      "Accuracy after query 133: 0.9766\n",
      "Accuracy after query 134: 0.9766\n",
      "Accuracy after query 135: 0.9766\n",
      "Accuracy after query 136: 0.9766\n",
      "Accuracy after query 137: 0.9776\n",
      "Accuracy after query 138: 0.9787\n",
      "Accuracy after query 139: 0.9797\n",
      "Accuracy after query 140: 0.9797\n",
      "Accuracy after query 141: 0.9797\n",
      "Accuracy after query 142: 0.9797\n",
      "Accuracy after query 143: 0.9797\n",
      "Accuracy after query 144: 0.9797\n",
      "Accuracy after query 145: 0.9807\n",
      "Accuracy after query 146: 0.9817\n",
      "Accuracy after query 147: 0.9817\n",
      "Accuracy after query 148: 0.9817\n",
      "Accuracy after query 149: 0.9827\n",
      "Accuracy after query 150: 0.9827\n"
     ]
    }
   ],
   "source": [
    "# Uncertainty Sampling\n",
    "N_QUERIES = 150\n",
    "performance_history_us = [unqueried_score_us]\n",
    "\n",
    "# Allow our model to query our unlabeled dataset for the most\n",
    "# informative points according to our query strategy (uncertainty sampling).\n",
    "indice_us = []\n",
    "X_pool_u = X_pool\n",
    "y_pool_u = y_pool\n",
    "for index in range(N_QUERIES):\n",
    "    query_index_us, query_instance_us = learner_uncertainty_sampling.query(X_pool_u)\n",
    "    indice_us.append(query_index_us)\n",
    "\n",
    "    # Teach our Active Learner model the record it has requested.\n",
    "    X_us, y_us = X_pool_u[query_index_us].reshape(1, -1), y_pool_u[query_index_us].reshape(1, )\n",
    "    learner_uncertainty_sampling.teach(X=X_us, y=y_us)\n",
    "\n",
    "    # Remove the queried instance from the unlabeled pool.\n",
    "    X_pool_us, y_pool_us = np.delete(X_pool_u, query_index_us, axis=0), np.delete(y_pool_u, query_index_us)\n",
    "    X_pool_u = X_pool_us\n",
    "    y_pool_u = y_pool_us\n",
    "\n",
    "    # Calculate and report our model's accuracy.\n",
    "    model_accuracy_us = learner_uncertainty_sampling.score(X_raw, y_raw)\n",
    "    print('Accuracy after query {n}: {acc:0.4f}'.format(n=index + 1, acc=model_accuracy_us))\n",
    "\n",
    "    # Save our model's performance for plotting.\n",
    "    performance_history_us.append(model_accuracy_us)"
   ],
   "metadata": {
    "collapsed": false,
    "pycharm": {
     "name": "#%%\n"
    }
   }
  },
  {
   "cell_type": "code",
   "execution_count": 11,
   "outputs": [
    {
     "name": "stdout",
     "output_type": "stream",
     "text": [
      "Accuracy after query 1: 0.8659\n",
      "Accuracy after query 2: 0.8262\n",
      "Accuracy after query 3: 0.8465\n",
      "Accuracy after query 4: 0.8201\n",
      "Accuracy after query 5: 0.8476\n",
      "Accuracy after query 6: 0.9035\n",
      "Accuracy after query 7: 0.8333\n",
      "Accuracy after query 8: 0.9075\n",
      "Accuracy after query 9: 0.8862\n",
      "Accuracy after query 10: 0.8963\n",
      "Accuracy after query 11: 0.9035\n",
      "Accuracy after query 12: 0.9106\n",
      "Accuracy after query 13: 0.9146\n",
      "Accuracy after query 14: 0.9116\n",
      "Accuracy after query 15: 0.9116\n",
      "Accuracy after query 16: 0.9106\n",
      "Accuracy after query 17: 0.9116\n",
      "Accuracy after query 18: 0.9126\n",
      "Accuracy after query 19: 0.9126\n",
      "Accuracy after query 20: 0.9126\n",
      "Accuracy after query 21: 0.9085\n",
      "Accuracy after query 22: 0.9146\n",
      "Accuracy after query 23: 0.9126\n",
      "Accuracy after query 24: 0.9167\n",
      "Accuracy after query 25: 0.9116\n",
      "Accuracy after query 26: 0.9136\n",
      "Accuracy after query 27: 0.9116\n",
      "Accuracy after query 28: 0.9146\n",
      "Accuracy after query 29: 0.9126\n",
      "Accuracy after query 30: 0.9146\n",
      "Accuracy after query 31: 0.9136\n",
      "Accuracy after query 32: 0.9126\n",
      "Accuracy after query 33: 0.9116\n",
      "Accuracy after query 34: 0.9136\n",
      "Accuracy after query 35: 0.9136\n",
      "Accuracy after query 36: 0.9116\n",
      "Accuracy after query 37: 0.9146\n",
      "Accuracy after query 38: 0.9319\n",
      "Accuracy after query 39: 0.9350\n",
      "Accuracy after query 40: 0.9329\n",
      "Accuracy after query 41: 0.9370\n",
      "Accuracy after query 42: 0.9278\n",
      "Accuracy after query 43: 0.9299\n",
      "Accuracy after query 44: 0.9319\n",
      "Accuracy after query 45: 0.9268\n",
      "Accuracy after query 46: 0.9248\n",
      "Accuracy after query 47: 0.9299\n",
      "Accuracy after query 48: 0.9329\n",
      "Accuracy after query 49: 0.9268\n",
      "Accuracy after query 50: 0.9319\n",
      "Accuracy after query 51: 0.9248\n",
      "Accuracy after query 52: 0.9258\n",
      "Accuracy after query 53: 0.9268\n",
      "Accuracy after query 54: 0.9238\n",
      "Accuracy after query 55: 0.9289\n",
      "Accuracy after query 56: 0.9268\n",
      "Accuracy after query 57: 0.9268\n",
      "Accuracy after query 58: 0.9268\n",
      "Accuracy after query 59: 0.9258\n",
      "Accuracy after query 60: 0.9289\n",
      "Accuracy after query 61: 0.9258\n",
      "Accuracy after query 62: 0.9289\n",
      "Accuracy after query 63: 0.9278\n",
      "Accuracy after query 64: 0.9258\n",
      "Accuracy after query 65: 0.9268\n",
      "Accuracy after query 66: 0.9278\n",
      "Accuracy after query 67: 0.9289\n",
      "Accuracy after query 68: 0.9258\n",
      "Accuracy after query 69: 0.9309\n",
      "Accuracy after query 70: 0.9268\n",
      "Accuracy after query 71: 0.9289\n",
      "Accuracy after query 72: 0.9319\n",
      "Accuracy after query 73: 0.9319\n",
      "Accuracy after query 74: 0.9299\n",
      "Accuracy after query 75: 0.9329\n",
      "Accuracy after query 76: 0.9299\n",
      "Accuracy after query 77: 0.9289\n",
      "Accuracy after query 78: 0.9339\n",
      "Accuracy after query 79: 0.9350\n",
      "Accuracy after query 80: 0.9329\n",
      "Accuracy after query 81: 0.9319\n",
      "Accuracy after query 82: 0.9309\n",
      "Accuracy after query 83: 0.9309\n",
      "Accuracy after query 84: 0.9299\n",
      "Accuracy after query 85: 0.9299\n",
      "Accuracy after query 86: 0.9289\n",
      "Accuracy after query 87: 0.9329\n",
      "Accuracy after query 88: 0.9299\n",
      "Accuracy after query 89: 0.9319\n",
      "Accuracy after query 90: 0.9319\n",
      "Accuracy after query 91: 0.9289\n",
      "Accuracy after query 92: 0.9278\n",
      "Accuracy after query 93: 0.9299\n",
      "Accuracy after query 94: 0.9289\n",
      "Accuracy after query 95: 0.9299\n",
      "Accuracy after query 96: 0.9299\n",
      "Accuracy after query 97: 0.9299\n",
      "Accuracy after query 98: 0.9299\n",
      "Accuracy after query 99: 0.9299\n",
      "Accuracy after query 100: 0.9289\n",
      "Accuracy after query 101: 0.9309\n",
      "Accuracy after query 102: 0.9309\n",
      "Accuracy after query 103: 0.9278\n",
      "Accuracy after query 104: 0.9309\n",
      "Accuracy after query 105: 0.9289\n",
      "Accuracy after query 106: 0.9268\n",
      "Accuracy after query 107: 0.9289\n",
      "Accuracy after query 108: 0.9268\n",
      "Accuracy after query 109: 0.9309\n",
      "Accuracy after query 110: 0.9289\n",
      "Accuracy after query 111: 0.9289\n",
      "Accuracy after query 112: 0.9329\n",
      "Accuracy after query 113: 0.9319\n",
      "Accuracy after query 114: 0.9309\n",
      "Accuracy after query 115: 0.9350\n",
      "Accuracy after query 116: 0.9339\n",
      "Accuracy after query 117: 0.9309\n",
      "Accuracy after query 118: 0.9370\n",
      "Accuracy after query 119: 0.9350\n",
      "Accuracy after query 120: 0.9339\n",
      "Accuracy after query 121: 0.9329\n",
      "Accuracy after query 122: 0.9350\n",
      "Accuracy after query 123: 0.9339\n",
      "Accuracy after query 124: 0.9370\n",
      "Accuracy after query 125: 0.9360\n",
      "Accuracy after query 126: 0.9329\n",
      "Accuracy after query 127: 0.9360\n",
      "Accuracy after query 128: 0.9329\n",
      "Accuracy after query 129: 0.9329\n",
      "Accuracy after query 130: 0.9339\n",
      "Accuracy after query 131: 0.9319\n",
      "Accuracy after query 132: 0.9339\n",
      "Accuracy after query 133: 0.9319\n",
      "Accuracy after query 134: 0.9329\n",
      "Accuracy after query 135: 0.9329\n",
      "Accuracy after query 136: 0.9329\n",
      "Accuracy after query 137: 0.9350\n",
      "Accuracy after query 138: 0.9339\n",
      "Accuracy after query 139: 0.9329\n",
      "Accuracy after query 140: 0.9339\n",
      "Accuracy after query 141: 0.9319\n",
      "Accuracy after query 142: 0.9329\n",
      "Accuracy after query 143: 0.9329\n",
      "Accuracy after query 144: 0.9339\n",
      "Accuracy after query 145: 0.9329\n",
      "Accuracy after query 146: 0.9329\n",
      "Accuracy after query 147: 0.9350\n",
      "Accuracy after query 148: 0.9360\n",
      "Accuracy after query 149: 0.9339\n",
      "Accuracy after query 150: 0.9350\n"
     ]
    }
   ],
   "source": [
    "# Margin Sampling\n",
    "N_QUERIES = 150\n",
    "performance_history_ms = [unqueried_score_ms]\n",
    "\n",
    "# Allow our model to query our unlabeled dataset for the most\n",
    "# informative points according to our query strategy (uncertainty sampling).\n",
    "indice_ms = []\n",
    "X_pool_m = X_pool\n",
    "y_pool_m = y_pool\n",
    "for index in range(N_QUERIES):\n",
    "    query_index_ms, query_instance_ms = learner_margin_sampling.query(X_pool_m)\n",
    "    indice_ms.append(query_index_ms)\n",
    "\n",
    "    # Teach our Active Learner model the record it has requested.\n",
    "    X_ms, y_ms = X_pool[query_index_ms].reshape(1, -1), y_pool[query_index_ms].reshape(1, )\n",
    "    learner_margin_sampling.teach(X=X_ms, y=y_ms)\n",
    "\n",
    "    # Remove the queried instance from the unlabeled pool.\n",
    "    X_pool_ms, y_pool_ms = np.delete(X_pool_m, query_index_ms, axis=0), np.delete(y_pool_m, query_index_ms)\n",
    "    X_pool_m = X_pool_ms\n",
    "    y_pool_m = y_pool_ms\n",
    "\n",
    "\n",
    "# Calculate and report our model's accuracy.\n",
    "    model_accuracy_ms = learner_margin_sampling.score(X_raw, y_raw)\n",
    "    print('Accuracy after query {n}: {acc:0.4f}'.format(n=index + 1, acc=model_accuracy_ms))\n",
    "\n",
    "    # Save our model's performance for plotting.\n",
    "    performance_history_ms.append(model_accuracy_ms)"
   ],
   "metadata": {
    "collapsed": false,
    "pycharm": {
     "name": "#%%\n"
    }
   }
  },
  {
   "cell_type": "code",
   "execution_count": 12,
   "outputs": [
    {
     "name": "stdout",
     "output_type": "stream",
     "text": [
      "Accuracy after query 1: 0.6352\n",
      "Accuracy after query 2: 0.8435\n",
      "Accuracy after query 3: 0.8618\n",
      "Accuracy after query 4: 0.8791\n",
      "Accuracy after query 5: 0.8882\n",
      "Accuracy after query 6: 0.8852\n",
      "Accuracy after query 7: 0.9187\n",
      "Accuracy after query 8: 0.9299\n",
      "Accuracy after query 9: 0.9289\n",
      "Accuracy after query 10: 0.9217\n",
      "Accuracy after query 11: 0.9228\n",
      "Accuracy after query 12: 0.9329\n",
      "Accuracy after query 13: 0.9268\n",
      "Accuracy after query 14: 0.9380\n",
      "Accuracy after query 15: 0.9289\n",
      "Accuracy after query 16: 0.9360\n",
      "Accuracy after query 17: 0.9400\n",
      "Accuracy after query 18: 0.9238\n",
      "Accuracy after query 19: 0.9268\n",
      "Accuracy after query 20: 0.9289\n",
      "Accuracy after query 21: 0.9187\n",
      "Accuracy after query 22: 0.9228\n",
      "Accuracy after query 23: 0.9217\n",
      "Accuracy after query 24: 0.9228\n",
      "Accuracy after query 25: 0.9197\n",
      "Accuracy after query 26: 0.9187\n",
      "Accuracy after query 27: 0.9238\n",
      "Accuracy after query 28: 0.9217\n",
      "Accuracy after query 29: 0.9238\n",
      "Accuracy after query 30: 0.9278\n",
      "Accuracy after query 31: 0.9228\n",
      "Accuracy after query 32: 0.9248\n",
      "Accuracy after query 33: 0.9329\n",
      "Accuracy after query 34: 0.9248\n",
      "Accuracy after query 35: 0.9258\n",
      "Accuracy after query 36: 0.9268\n",
      "Accuracy after query 37: 0.9248\n",
      "Accuracy after query 38: 0.9228\n",
      "Accuracy after query 39: 0.9278\n",
      "Accuracy after query 40: 0.9197\n",
      "Accuracy after query 41: 0.9248\n",
      "Accuracy after query 42: 0.9238\n",
      "Accuracy after query 43: 0.9268\n",
      "Accuracy after query 44: 0.9228\n",
      "Accuracy after query 45: 0.9268\n",
      "Accuracy after query 46: 0.9278\n",
      "Accuracy after query 47: 0.9350\n",
      "Accuracy after query 48: 0.9289\n",
      "Accuracy after query 49: 0.9329\n",
      "Accuracy after query 50: 0.9278\n",
      "Accuracy after query 51: 0.9299\n",
      "Accuracy after query 52: 0.9299\n",
      "Accuracy after query 53: 0.9248\n",
      "Accuracy after query 54: 0.9319\n",
      "Accuracy after query 55: 0.9268\n",
      "Accuracy after query 56: 0.9268\n",
      "Accuracy after query 57: 0.9278\n",
      "Accuracy after query 58: 0.9309\n",
      "Accuracy after query 59: 0.9319\n",
      "Accuracy after query 60: 0.9278\n",
      "Accuracy after query 61: 0.9319\n",
      "Accuracy after query 62: 0.9278\n",
      "Accuracy after query 63: 0.9289\n",
      "Accuracy after query 64: 0.9258\n",
      "Accuracy after query 65: 0.9278\n",
      "Accuracy after query 66: 0.9329\n",
      "Accuracy after query 67: 0.9289\n",
      "Accuracy after query 68: 0.9329\n",
      "Accuracy after query 69: 0.9319\n",
      "Accuracy after query 70: 0.9299\n",
      "Accuracy after query 71: 0.9329\n",
      "Accuracy after query 72: 0.9319\n",
      "Accuracy after query 73: 0.9268\n",
      "Accuracy after query 74: 0.9319\n",
      "Accuracy after query 75: 0.9329\n",
      "Accuracy after query 76: 0.9268\n",
      "Accuracy after query 77: 0.9319\n",
      "Accuracy after query 78: 0.9350\n",
      "Accuracy after query 79: 0.9380\n",
      "Accuracy after query 80: 0.9248\n",
      "Accuracy after query 81: 0.9289\n",
      "Accuracy after query 82: 0.9289\n",
      "Accuracy after query 83: 0.9289\n",
      "Accuracy after query 84: 0.9319\n",
      "Accuracy after query 85: 0.9309\n",
      "Accuracy after query 86: 0.9289\n",
      "Accuracy after query 87: 0.9299\n",
      "Accuracy after query 88: 0.9309\n",
      "Accuracy after query 89: 0.9299\n",
      "Accuracy after query 90: 0.9329\n",
      "Accuracy after query 91: 0.9339\n",
      "Accuracy after query 92: 0.9289\n",
      "Accuracy after query 93: 0.9258\n",
      "Accuracy after query 94: 0.9258\n",
      "Accuracy after query 95: 0.9278\n",
      "Accuracy after query 96: 0.9360\n",
      "Accuracy after query 97: 0.9278\n",
      "Accuracy after query 98: 0.9289\n",
      "Accuracy after query 99: 0.9319\n",
      "Accuracy after query 100: 0.9258\n",
      "Accuracy after query 101: 0.9278\n",
      "Accuracy after query 102: 0.9309\n",
      "Accuracy after query 103: 0.9319\n",
      "Accuracy after query 104: 0.9268\n",
      "Accuracy after query 105: 0.9299\n",
      "Accuracy after query 106: 0.9258\n",
      "Accuracy after query 107: 0.9299\n",
      "Accuracy after query 108: 0.9299\n",
      "Accuracy after query 109: 0.9268\n",
      "Accuracy after query 110: 0.9309\n",
      "Accuracy after query 111: 0.9278\n",
      "Accuracy after query 112: 0.9299\n",
      "Accuracy after query 113: 0.9278\n",
      "Accuracy after query 114: 0.9289\n",
      "Accuracy after query 115: 0.9278\n",
      "Accuracy after query 116: 0.9289\n",
      "Accuracy after query 117: 0.9329\n",
      "Accuracy after query 118: 0.9299\n",
      "Accuracy after query 119: 0.9319\n",
      "Accuracy after query 120: 0.9299\n",
      "Accuracy after query 121: 0.9329\n",
      "Accuracy after query 122: 0.9329\n",
      "Accuracy after query 123: 0.9319\n",
      "Accuracy after query 124: 0.9309\n",
      "Accuracy after query 125: 0.9309\n",
      "Accuracy after query 126: 0.9329\n",
      "Accuracy after query 127: 0.9360\n",
      "Accuracy after query 128: 0.9309\n",
      "Accuracy after query 129: 0.9278\n",
      "Accuracy after query 130: 0.9360\n",
      "Accuracy after query 131: 0.9289\n",
      "Accuracy after query 132: 0.9309\n",
      "Accuracy after query 133: 0.9319\n",
      "Accuracy after query 134: 0.9299\n",
      "Accuracy after query 135: 0.9309\n",
      "Accuracy after query 136: 0.9329\n",
      "Accuracy after query 137: 0.9339\n",
      "Accuracy after query 138: 0.9319\n",
      "Accuracy after query 139: 0.9350\n",
      "Accuracy after query 140: 0.9309\n",
      "Accuracy after query 141: 0.9268\n",
      "Accuracy after query 142: 0.9360\n",
      "Accuracy after query 143: 0.9350\n",
      "Accuracy after query 144: 0.9289\n",
      "Accuracy after query 145: 0.9299\n",
      "Accuracy after query 146: 0.9329\n",
      "Accuracy after query 147: 0.9329\n",
      "Accuracy after query 148: 0.9309\n",
      "Accuracy after query 149: 0.9329\n",
      "Accuracy after query 150: 0.9329\n"
     ]
    }
   ],
   "source": [
    "# Entropy Sampling\n",
    "N_QUERIES = 150\n",
    "performance_history_es = [unqueried_score_es]\n",
    "\n",
    "# Allow our model to query our unlabeled dataset for the most\n",
    "# informative points according to our query strategy (uncertainty sampling).\n",
    "indice_es = []\n",
    "X_pool_e = X_pool\n",
    "y_pool_e = y_pool\n",
    "for index in range(N_QUERIES):\n",
    "    query_index_es, query_instance_es = learner_entropy_sampling.query(X_pool_e)\n",
    "    indice_es.append(query_index_es)\n",
    "\n",
    "    # Teach our Active Learner model the record it has requested.\n",
    "    X_es, y_es = X_pool[query_index_es].reshape(1, -1), y_pool[query_index_es].reshape(1, )\n",
    "    learner_entropy_sampling.teach(X=X_es, y=y_es)\n",
    "\n",
    "    # Remove the queried instance from the unlabeled pool.\n",
    "    X_pool_es, y_pool_es = np.delete(X_pool_e, query_index_es, axis=0), np.delete(y_pool_e, query_index_es)\n",
    "    X_pool_e = X_pool_es\n",
    "    y_pool_e = y_pool_es\n",
    "\n",
    "    # Calculate and report our model's accuracy.\n",
    "    model_accuracy_es = learner_entropy_sampling.score(X_raw, y_raw)\n",
    "    print('Accuracy after query {n}: {acc:0.4f}'.format(n=index + 1, acc=model_accuracy_es))\n",
    "\n",
    "    # Save our model's performance for plotting.\n",
    "    performance_history_es.append(model_accuracy_es)"
   ],
   "metadata": {
    "collapsed": false,
    "pycharm": {
     "name": "#%%\n"
    }
   }
  },
  {
   "cell_type": "code",
   "execution_count": 16,
   "outputs": [
    {
     "data": {
      "text/plain": "<Figure size 420x210 with 1 Axes>",
      "image/png": "[encoded data removed]"
     },
     "metadata": {},
     "output_type": "display_data"
    }
   ],
   "source": [
    "# Plot our performance over time\n",
    "plt.style.use('fivethirtyeight')\n",
    "fig_us, ax_us = plt.subplots(figsize=(6, 3), dpi=70)\n",
    "\n",
    "ax_us.plot(performance_history_us)\n",
    "ax_us.scatter(range(len(performance_history_us)), performance_history_us, s=13)\n",
    "\n",
    "ax_us.xaxis.set_major_locator(mpl.ticker.MaxNLocator(nbins=5, integer=True))\n",
    "ax_us.yaxis.set_major_locator(mpl.ticker.MaxNLocator(nbins=10))\n",
    "ax_us.yaxis.set_major_formatter(mpl.ticker.PercentFormatter(xmax=1))\n",
    "\n",
    "ax_us.set_ylim(bottom=0, top=1)\n",
    "ax_us.grid(True)\n",
    "\n",
    "ax_us.set_title('Incremental classification accuracy - Least Confidence', fontsize=10)\n",
    "ax_us.set_xlabel('Query iteration', fontsize=10)\n",
    "ax_us.set_ylabel('Classification Accuracy', fontsize=10)\n",
    "\n",
    "plt.show()"
   ],
   "metadata": {
    "collapsed": false,
    "pycharm": {
     "name": "#%%\n"
    }
   }
  },
  {
   "cell_type": "code",
   "execution_count": 17,
   "outputs": [
    {
     "data": {
      "text/plain": "<Figure size 420x210 with 1 Axes>",
      "image/png": "[encoded data removed]"
     },
     "metadata": {},
     "output_type": "display_data"
    }
   ],
   "source": [
    "# Plot our performance over time\n",
    "fig_ms, ax_ms = plt.subplots(figsize=(6, 3), dpi=70)\n",
    "\n",
    "ax_ms.plot(performance_history_ms)\n",
    "ax_ms.scatter(range(len(performance_history_ms)), performance_history_ms, s=13)\n",
    "\n",
    "ax_ms.xaxis.set_major_locator(mpl.ticker.MaxNLocator(nbins=5, integer=True))\n",
    "ax_ms.yaxis.set_major_locator(mpl.ticker.MaxNLocator(nbins=10))\n",
    "ax_ms.yaxis.set_major_formatter(mpl.ticker.PercentFormatter(xmax=1))\n",
    "\n",
    "ax_ms.set_ylim(bottom=0, top=1)\n",
    "ax_ms.grid(True)\n",
    "\n",
    "ax_ms.set_title('Incremental classification accuracy - Margin of Confidence', fontsize=10)\n",
    "ax_ms.set_xlabel('Query iteration', fontsize=10)\n",
    "ax_ms.set_ylabel('Classification Accuracy', fontsize=10)\n",
    "\n",
    "plt.show()"
   ],
   "metadata": {
    "collapsed": false,
    "pycharm": {
     "name": "#%%\n"
    }
   }
  },
  {
   "cell_type": "code",
   "execution_count": 18,
   "outputs": [
    {
     "data": {
      "text/plain": "<Figure size 420x210 with 1 Axes>",
      "image/png": "[encoded data removed]"
     },
     "metadata": {},
     "output_type": "display_data"
    }
   ],
   "source": [
    "# Plot our performance over time\n",
    "fig_es, ax_es = plt.subplots(figsize=(6, 3), dpi=70)\n",
    "\n",
    "ax_es.plot(performance_history_es)\n",
    "ax_es.scatter(range(len(performance_history_es)), performance_history_es, s=13)\n",
    "\n",
    "ax_es.xaxis.set_major_locator(mpl.ticker.MaxNLocator(nbins=5, integer=True))\n",
    "ax_es.yaxis.set_major_locator(mpl.ticker.MaxNLocator(nbins=10))\n",
    "ax_es.yaxis.set_major_formatter(mpl.ticker.PercentFormatter(xmax=1))\n",
    "\n",
    "ax_es.set_ylim(bottom=0, top=1)\n",
    "ax_es.grid(True)\n",
    "\n",
    "ax_es.set_title('Incremental classification accuracy - Classification Entropy', fontsize=10)\n",
    "ax_es.set_xlabel('Query iteration', fontsize=10)\n",
    "ax_es.set_ylabel('Classification Accuracy', fontsize=10)\n",
    "\n",
    "plt.show()"
   ],
   "metadata": {
    "collapsed": false,
    "pycharm": {
     "name": "#%%\n"
    }
   }
  },
  {
   "cell_type": "markdown",
   "source": [
    "### Data Partitioning (Training supplied by AL, test and validation by train test split)"
   ],
   "metadata": {
    "collapsed": false,
    "pycharm": {
     "name": "#%% md\n"
    }
   }
  },
  {
   "cell_type": "code",
   "execution_count": 16,
   "outputs": [],
   "source": [
    "# Selecting instances for training (us)\n",
    "indx_us = [index for sublist in indice_us for index in sublist]\n",
    "training_indx_us = [ix for ix in training_indices]\n",
    "X_training_us = np.array(X_raw)[indx_us + training_indx_us]\n",
    "y_training_us =  np.array(y_raw)[indx_us + training_indx_us]\n",
    "\n",
    "# Selecting instances for training (ms)\n",
    "indx_ms = [index for sublist in indice_ms for index in sublist]\n",
    "training_indx_ms = [ix for ix in training_indices]\n",
    "X_training_ms = np.array(X_raw)[indx_ms + training_indx_ms]\n",
    "y_training_ms =  np.array(y_raw)[indx_ms + training_indx_ms]\n",
    "\n",
    "# Selecting instances for training (es)\n",
    "indx_es = [index for sublist in indice_es for index in sublist]\n",
    "training_indx_es = [ix for ix in training_indices]\n",
    "X_training_es = np.array(X_raw)[indx_es + training_indx_es]\n",
    "y_training_es =  np.array(y_raw)[indx_es + training_indx_es]\n",
    "\n",
    "# We are now left with test and validation data. This needs to be partitioned into test and validation.\n",
    "X_test_us, X_val_us, y_test_us, y_val_us = train_test_split(X_pool_u,\n",
    "                                                            y_pool_u,\n",
    "                                                            test_size=0.1)\n",
    "X_test_ms, X_val_ms, y_test_ms, y_val_ms = train_test_split(X_pool_m,\n",
    "                                                            y_pool_m,\n",
    "                                                            test_size=0.1)\n",
    "X_test_es, X_val_es, y_test_es, y_val_es = train_test_split(X_pool_e,\n",
    "                                                            y_pool_e,\n",
    "                                                            test_size=0.1)"
   ],
   "metadata": {
    "collapsed": false,
    "pycharm": {
     "name": "#%%\n"
    }
   }
  },
  {
   "cell_type": "markdown",
   "source": [
    "### Cross Validation"
   ],
   "metadata": {
    "collapsed": false,
    "pycharm": {
     "name": "#%% md\n"
    }
   }
  },
  {
   "cell_type": "code",
   "execution_count": 17,
   "outputs": [
    {
     "data": {
      "text/plain": "({'bootstrap': 'True',\n  'criterion': 'gini',\n  'max_features': 'auto',\n  'n_estimators': 100},\n {'bootstrap': 'True',\n  'criterion': 'gini',\n  'max_features': 'auto',\n  'n_estimators': 100},\n {'bootstrap': 'True',\n  'criterion': 'gini',\n  'max_features': 'auto',\n  'n_estimators': 100})"
     },
     "execution_count": 17,
     "metadata": {},
     "output_type": "execute_result"
    }
   ],
   "source": [
    "# Cross validation random forest\n",
    "n_est = [int(x) for x in np.linspace(start = 100, stop = 400, num = 100)]\n",
    "rfc = RandomForestClassifier()\n",
    "\n",
    "# Parameter Grid\n",
    "param_grid_rfc = {\n",
    "    'n_estimators': n_est,\n",
    "    'criterion': ['gini', 'entropy'],\n",
    "    'max_features': ['auto', 'sqrt', 'log2'],\n",
    "    'bootstrap': ['True']\n",
    "#    'max_depth': max_depth\n",
    "}\n",
    "\n",
    "# Initialise GridSearchCV (us)\n",
    "CV_rfc_us = GridSearchCV(estimator=rfc, param_grid=param_grid_rfc, cv=2)\n",
    "CV_rfc_us.fit(X_val_us, y_val_us)\n",
    "\n",
    "# Initialise GridSearchCV (ms)\n",
    "CV_rfc_ms = GridSearchCV(estimator=rfc, param_grid=param_grid_rfc, cv=2)\n",
    "CV_rfc_ms.fit(X_val_ms, y_val_ms)\n",
    "\n",
    "# Initialise GridSearchCV (es)\n",
    "CV_rfc_es = GridSearchCV(estimator=rfc, param_grid=param_grid_rfc, cv=2)\n",
    "CV_rfc_es.fit(X_val_es, y_val_es)\n",
    "\n",
    "# GridSearch results for all three models\n",
    "CV_rfc_us.best_params_, CV_rfc_ms.best_params_, CV_rfc_es.best_params_"
   ],
   "metadata": {
    "collapsed": false,
    "pycharm": {
     "name": "#%%\n"
    }
   }
  },
  {
   "cell_type": "markdown",
   "source": [
    "### Modeling Random Forest"
   ],
   "metadata": {
    "collapsed": false,
    "pycharm": {
     "name": "#%% md\n"
    }
   }
  },
  {
   "cell_type": "code",
   "execution_count": 18,
   "outputs": [
    {
     "data": {
      "text/plain": "                                             model recall f1_score  \\\n0  Random Forest Classifier - Uncertainty Sampling   0.97     0.98   \n\n  accuracy_score precision_score  \n0           0.98            1.00  ",
      "text/html": "<div>\n<style scoped>\n    .dataframe tbody tr th:only-of-type {\n        vertical-align: middle;\n    }\n\n    .dataframe tbody tr th {\n        vertical-align: top;\n    }\n\n    .dataframe thead th {\n        text-align: right;\n    }\n</style>\n<table border=\"1\" class=\"dataframe\">\n  <thead>\n    <tr style=\"text-align: right;\">\n      <th></th>\n      <th>model</th>\n      <th>recall</th>\n      <th>f1_score</th>\n      <th>accuracy_score</th>\n      <th>precision_score</th>\n    </tr>\n  </thead>\n  <tbody>\n    <tr>\n      <th>0</th>\n      <td>Random Forest Classifier - Uncertainty Sampling</td>\n      <td>0.97</td>\n      <td>0.98</td>\n      <td>0.98</td>\n      <td>1.00</td>\n    </tr>\n  </tbody>\n</table>\n</div>"
     },
     "metadata": {},
     "output_type": "display_data"
    }
   ],
   "source": [
    "# Initialize random forest and use GridSearchCV parameters to fill in parameters of random forest - Uncertainty Sampling\n",
    "n_thread =  effective_n_jobs(-1)\n",
    "rfc_us = RandomForestClassifier(random_state=42, bootstrap = True, n_estimators = 100, n_jobs=n_thread, max_features = 'auto', criterion ='gini')\n",
    "\n",
    "# Train Model\n",
    "rfc_us.fit(X_training_us, y_training_us)\n",
    "\n",
    "# Predict using test data\n",
    "y_pred_rfc_us = rfc_us.predict(X_test_us)\n",
    "\n",
    "# Show model performance\n",
    "add_model_eval('Random Forest Classifier - Uncertainty Sampling', recall_score(y_test_us, y_pred_rfc_us), f1_score(y_test_us, y_pred_rfc_us), accuracy_score(y_test_us, y_pred_rfc_us), precision_score(y_test_us, y_pred_rfc_us))\n",
    "view_models_eval()"
   ],
   "metadata": {
    "collapsed": false,
    "pycharm": {
     "name": "#%%\n"
    }
   }
  },
  {
   "cell_type": "code",
   "execution_count": 19,
   "outputs": [
    {
     "data": {
      "text/plain": "                                             model recall f1_score  \\\n0  Random Forest Classifier - Uncertainty Sampling   0.97     0.98   \n1       Random Forest Classifier - Margin Sampling   0.94     0.97   \n\n  accuracy_score precision_score  \n0           0.98            1.00  \n1           0.97            1.00  ",
      "text/html": "<div>\n<style scoped>\n    .dataframe tbody tr th:only-of-type {\n        vertical-align: middle;\n    }\n\n    .dataframe tbody tr th {\n        vertical-align: top;\n    }\n\n    .dataframe thead th {\n        text-align: right;\n    }\n</style>\n<table border=\"1\" class=\"dataframe\">\n  <thead>\n    <tr style=\"text-align: right;\">\n      <th></th>\n      <th>model</th>\n      <th>recall</th>\n      <th>f1_score</th>\n      <th>accuracy_score</th>\n      <th>precision_score</th>\n    </tr>\n  </thead>\n  <tbody>\n    <tr>\n      <th>0</th>\n      <td>Random Forest Classifier - Uncertainty Sampling</td>\n      <td>0.97</td>\n      <td>0.98</td>\n      <td>0.98</td>\n      <td>1.00</td>\n    </tr>\n    <tr>\n      <th>1</th>\n      <td>Random Forest Classifier - Margin Sampling</td>\n      <td>0.94</td>\n      <td>0.97</td>\n      <td>0.97</td>\n      <td>1.00</td>\n    </tr>\n  </tbody>\n</table>\n</div>"
     },
     "metadata": {},
     "output_type": "display_data"
    }
   ],
   "source": [
    "# Initialize random forest and use GridSearchCV parameters to fill in parameters of random forest - Margin Sampling\n",
    "rfc_ms = RandomForestClassifier(random_state=42, bootstrap = True, n_estimators = 100, n_jobs=n_thread, max_features = 'auto', criterion ='gini')\n",
    "\n",
    "# Train Model\n",
    "rfc_ms.fit(X_training_ms, y_training_ms)\n",
    "\n",
    "# Predict using test data\n",
    "y_pred_rfc_ms = rfc_ms.predict(X_test_ms)\n",
    "\n",
    "# Show model performance\n",
    "add_model_eval('Random Forest Classifier - Margin Sampling', recall_score(y_test_ms, y_pred_rfc_ms), f1_score(y_test_ms, y_pred_rfc_ms), accuracy_score(y_test_ms, y_pred_rfc_ms), precision_score(y_test_ms, y_pred_rfc_ms))\n",
    "view_models_eval()"
   ],
   "metadata": {
    "collapsed": false,
    "pycharm": {
     "name": "#%%\n"
    }
   }
  },
  {
   "cell_type": "code",
   "execution_count": 20,
   "outputs": [
    {
     "data": {
      "text/plain": "                                             model recall f1_score  \\\n0  Random Forest Classifier - Uncertainty Sampling   0.97     0.98   \n1       Random Forest Classifier - Margin Sampling   0.94     0.97   \n2      Random Forest Classifier - Entropy Sampling   0.95     0.97   \n\n  accuracy_score precision_score  \n0           0.98            1.00  \n1           0.97            1.00  \n2           0.97            1.00  ",
      "text/html": "<div>\n<style scoped>\n    .dataframe tbody tr th:only-of-type {\n        vertical-align: middle;\n    }\n\n    .dataframe tbody tr th {\n        vertical-align: top;\n    }\n\n    .dataframe thead th {\n        text-align: right;\n    }\n</style>\n<table border=\"1\" class=\"dataframe\">\n  <thead>\n    <tr style=\"text-align: right;\">\n      <th></th>\n      <th>model</th>\n      <th>recall</th>\n      <th>f1_score</th>\n      <th>accuracy_score</th>\n      <th>precision_score</th>\n    </tr>\n  </thead>\n  <tbody>\n    <tr>\n      <th>0</th>\n      <td>Random Forest Classifier - Uncertainty Sampling</td>\n      <td>0.97</td>\n      <td>0.98</td>\n      <td>0.98</td>\n      <td>1.00</td>\n    </tr>\n    <tr>\n      <th>1</th>\n      <td>Random Forest Classifier - Margin Sampling</td>\n      <td>0.94</td>\n      <td>0.97</td>\n      <td>0.97</td>\n      <td>1.00</td>\n    </tr>\n    <tr>\n      <th>2</th>\n      <td>Random Forest Classifier - Entropy Sampling</td>\n      <td>0.95</td>\n      <td>0.97</td>\n      <td>0.97</td>\n      <td>1.00</td>\n    </tr>\n  </tbody>\n</table>\n</div>"
     },
     "metadata": {},
     "output_type": "display_data"
    }
   ],
   "source": [
    "# Initialize random forest and use GridSearchCV parameters to fill in parameters of random forest - Entropy Sampling\n",
    "rfc_es = RandomForestClassifier(random_state=42, bootstrap = True, n_estimators = 100, n_jobs=n_thread, max_features = 'auto', criterion ='gini')\n",
    "\n",
    "# Train Model\n",
    "rfc_es.fit(X_training_es, y_training_es)\n",
    "\n",
    "# Predict using test data\n",
    "y_pred_rfc_es = rfc_es.predict(X_test_es)\n",
    "\n",
    "# Show model performance\n",
    "add_model_eval('Random Forest Classifier - Entropy Sampling', recall_score(y_test_es, y_pred_rfc_es), f1_score(y_test_es, y_pred_rfc_es), accuracy_score(y_test_es, y_pred_rfc_es), precision_score(y_test_es, y_pred_rfc_es))\n",
    "view_models_eval()"
   ],
   "metadata": {
    "collapsed": false,
    "pycharm": {
     "name": "#%%\n"
    }
   }
  },
  {
   "cell_type": "markdown",
   "source": [
    "### Model Metrics\n",
    "\n"
   ],
   "metadata": {
    "collapsed": false,
    "pycharm": {
     "name": "#%% md\n"
    }
   }
  },
  {
   "cell_type": "code",
   "execution_count": 21,
   "outputs": [
    {
     "data": {
      "text/plain": "<Figure size 432x288 with 1 Axes>",
      "image/png": "[encoded data removed]"
     },
     "metadata": {},
     "output_type": "display_data"
    }
   ],
   "source": [
    "# Generate precision recall curve values: precision, recall, thresholds\n",
    "precision_rf_us, recall_rf_us, thresholds_rf_us = precision_recall_curve(y_test_us, y_pred_rfc_us)\n",
    "auc_precision_recall_rf_us = auc(recall_rf_us, precision_rf_us)\n",
    "\n",
    "# Plot ROC curve\n",
    "plt.plot(precision_rf_us, recall_rf_us, label=\"AUC=\"+str(auc_precision_recall_rf_us))\n",
    "plt.ylabel('Precision', fontsize=13)\n",
    "plt.xlabel('Recall', fontsize=13)\n",
    "plt.title('Random Forest Classifier - Least Confidence', fontsize=10)\n",
    "plt.suptitle('Area Under the Precision Recall Curve', fontsize=13)\n",
    "plt.show()"
   ],
   "metadata": {
    "collapsed": false,
    "pycharm": {
     "name": "#%%\n"
    }
   }
  },
  {
   "cell_type": "code",
   "execution_count": 22,
   "outputs": [
    {
     "data": {
      "text/plain": "0.9920464700625559"
     },
     "execution_count": 22,
     "metadata": {},
     "output_type": "execute_result"
    }
   ],
   "source": [
    "auc_precision_recall_rf_us"
   ],
   "metadata": {
    "collapsed": false,
    "pycharm": {
     "name": "#%%\n"
    }
   }
  },
  {
   "cell_type": "code",
   "execution_count": 23,
   "outputs": [
    {
     "data": {
      "text/plain": "<Figure size 432x288 with 1 Axes>",
      "image/png": "[encoded data removed]"
     },
     "metadata": {},
     "output_type": "display_data"
    }
   ],
   "source": [
    "# Generate precision recall curve values: precision, recall, thresholds\n",
    "precision_rf_ms, recall_rf_ms, thresholds_rf_ms = precision_recall_curve(y_test_ms, y_pred_rfc_ms)\n",
    "auc_precision_recall_rf_ms = auc(recall_rf_ms, precision_rf_ms)\n",
    "\n",
    "# Plot ROC curve\n",
    "plt.plot(precision_rf_ms, recall_rf_ms, label=\"AUC=\"+str(auc_precision_recall_rf_ms))\n",
    "plt.ylabel('Precision', fontsize=13)\n",
    "plt.xlabel('Recall', fontsize=13)\n",
    "plt.title('Random Forest Classifier - Margin of Confidence', fontsize=8)\n",
    "plt.suptitle('Area Under the Precision Recall Curve', fontsize=13)\n",
    "plt.show()"
   ],
   "metadata": {
    "collapsed": false,
    "pycharm": {
     "name": "#%%\n"
    }
   }
  },
  {
   "cell_type": "code",
   "execution_count": 24,
   "outputs": [
    {
     "data": {
      "text/plain": "0.9856447792104629"
     },
     "execution_count": 24,
     "metadata": {},
     "output_type": "execute_result"
    }
   ],
   "source": [
    "auc_precision_recall_rf_ms"
   ],
   "metadata": {
    "collapsed": false,
    "pycharm": {
     "name": "#%%\n"
    }
   }
  },
  {
   "cell_type": "code",
   "execution_count": 25,
   "outputs": [
    {
     "data": {
      "text/plain": "<Figure size 432x288 with 1 Axes>",
      "image/png": "[encoded data removed]"
     },
     "metadata": {},
     "output_type": "display_data"
    }
   ],
   "source": [
    "# Generate precision recall curve values: precision, recall, thresholds\n",
    "precision_rf_es, recall_rf_es, thresholds_rf_es = precision_recall_curve(y_test_es, y_pred_rfc_es)\n",
    "auc_precision_recall_rf_es = auc(recall_rf_es, precision_rf_es)\n",
    "\n",
    "# Plot ROC curve\n",
    "plt.plot(precision_rf_es, recall_rf_es, label=\"AUC=\"+str(auc_precision_recall_rf_es))\n",
    "plt.ylabel('Precision', fontsize=13)\n",
    "plt.xlabel('Recall', fontsize=13)\n",
    "plt.title('Random Forest Classifier - Classification Entropy', fontsize=10)\n",
    "plt.suptitle('Area Under the Precision Recall Curve', fontsize=13)\n",
    "plt.show()"
   ],
   "metadata": {
    "collapsed": false,
    "pycharm": {
     "name": "#%%\n"
    }
   }
  },
  {
   "cell_type": "code",
   "execution_count": 26,
   "outputs": [
    {
     "data": {
      "text/plain": "0.9863777987102383"
     },
     "execution_count": 26,
     "metadata": {},
     "output_type": "execute_result"
    }
   ],
   "source": [
    "auc_precision_recall_rf_es"
   ],
   "metadata": {
    "collapsed": false,
    "pycharm": {
     "name": "#%%\n"
    }
   }
  },
  {
   "cell_type": "code",
   "execution_count": null,
   "outputs": [],
   "source": [
    "tn_us, fp_us, fn_us, tp_us = confusion_matrix(y_test_us, y_pred_rfc_us).ravel()\n",
    "specificity_us = tn_us / (tn_us+fp_us)\n",
    "specificity_us"
   ],
   "metadata": {
    "collapsed": false,
    "pycharm": {
     "name": "#%%\n"
    }
   }
  },
  {
   "cell_type": "code",
   "execution_count": null,
   "outputs": [],
   "source": [
    "tn_ms, fp_ms, fn_ms, tp_ms = confusion_matrix(y_test_ms, y_pred_rfc_ms).ravel()\n",
    "specificity_ms = tn_ms / (tn_ms+fp_ms)\n",
    "specificity_ms"
   ],
   "metadata": {
    "collapsed": false,
    "pycharm": {
     "name": "#%%\n"
    }
   }
  },
  {
   "cell_type": "code",
   "execution_count": null,
   "outputs": [],
   "source": [
    "tn_es, fp_es, fn_es, tp_es = confusion_matrix(y_test_es, y_pred_rfc_es).ravel()\n",
    "specificity_es = tn_es / (tn_es+fp_es)\n",
    "specificity_es"
   ],
   "metadata": {
    "collapsed": false,
    "pycharm": {
     "name": "#%%\n"
    }
   }
  },
  {
   "cell_type": "code",
   "execution_count": null,
   "outputs": [],
   "source": [],
   "metadata": {
    "collapsed": false,
    "pycharm": {
     "name": "#%%\n"
    }
   }
  }
 ],
 "metadata": {
  "kernelspec": {
   "display_name": "Python 3",
   "language": "python",
   "name": "python3"
  },
  "language_info": {
   "codemirror_mode": {
    "name": "ipython",
    "version": 2
   },
   "file_extension": ".py",
   "mimetype": "text/x-python",
   "name": "python",
   "nbconvert_exporter": "python",
   "pygments_lexer": "ipython2",
   "version": "2.7.6"
  }
 },
 "nbformat": 4,
 "nbformat_minor": 0
}