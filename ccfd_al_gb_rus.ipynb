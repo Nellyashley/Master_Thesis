{
 "cells": [
  {
   "cell_type": "markdown",
   "source": [
    "# Modeling balancing ,active Learning, and ensemble learning\n"
   ],
   "metadata": {
    "collapsed": false,
    "pycharm": {
     "name": "#%% md\n"
    }
   }
  },
  {
   "cell_type": "markdown",
   "source": [
    "### Import Libraries"
   ],
   "metadata": {
    "collapsed": false,
    "pycharm": {
     "name": "#%% md\n"
    }
   }
  },
  {
   "cell_type": "code",
   "execution_count": 20,
   "outputs": [],
   "source": [
    "# Import core libraries\n",
    "import pandas as pd\n",
    "import numpy as np\n",
    "\n",
    "# Parallel computing\n",
    "from joblib import effective_n_jobs\n",
    "\n",
    "# Undersampling\n",
    "from collections import Counter\n",
    "from imblearn.under_sampling import RandomUnderSampler\n",
    "\n",
    "# Preprocessing data\n",
    "from sklearn.model_selection import train_test_split\n",
    "from sklearn.preprocessing import StandardScaler\n",
    "\n",
    "# Pipeline\n",
    "from sklearn.pipeline import Pipeline\n",
    "from sklearn.compose import ColumnTransformer\n",
    "\n",
    "# Active Learner\n",
    "from modAL.models import ActiveLearner\n",
    "from modAL.uncertainty import uncertainty_sampling, entropy_sampling, margin_sampling\n",
    "\n",
    "# Metrics computation\n",
    "from IPython.core.display_functions import display\n",
    "from sklearn.metrics import f1_score, recall_score, accuracy_score, confusion_matrix, precision_score, roc_curve, plot_precision_recall_curve, roc_auc_score, auc, precision_recall_curve\n",
    "\n",
    "# Models\n",
    "from sklearn.ensemble import GradientBoostingClassifier\n",
    "\n",
    "# Cross validation\n",
    "from sklearn.model_selection import GridSearchCV\n",
    "\n",
    "# plot\n",
    "%matplotlib inline\n",
    "import matplotlib.pyplot as plt\n",
    "import matplotlib as mpl"
   ],
   "metadata": {
    "collapsed": false,
    "pycharm": {
     "name": "#%%\n"
    }
   }
  },
  {
   "cell_type": "markdown",
   "source": [
    "### Define Model Metrics"
   ],
   "metadata": {
    "collapsed": false,
    "pycharm": {
     "name": "#%% md\n"
    }
   }
  },
  {
   "cell_type": "code",
   "execution_count": 2,
   "outputs": [],
   "source": [
    "# Model evaluation metrics\n",
    "model_eval = {\n",
    "    'model': [],\n",
    "    'recall': [],\n",
    "    'f1_score': [],\n",
    "    'accuracy_score': [],\n",
    "    'precision_score': []\n",
    "}\n",
    "\n",
    "def add_model_eval(model, recall, f1_score, accuracy_score, precision_score):\n",
    "    model_eval['model'].append(model)\n",
    "    model_eval['recall'].append(f'{recall: .2f}')\n",
    "    model_eval['f1_score'].append(f'{f1_score: .2f}')\n",
    "    model_eval['accuracy_score'].append(f'{accuracy_score: .2f}')\n",
    "    model_eval['precision_score'].append(f'{precision_score: .2f}')\n",
    "\n",
    "def view_models_eval(sort=False):\n",
    "    eval_df = pd.DataFrame(model_eval)\n",
    "\n",
    "    if sort:\n",
    "        eval_df = eval_df.sort_values(by=['recall', 'f1_score'], ascending=[False, False])\n",
    "\n",
    "    # display(eval_df.style.hide_index)\n",
    "    display(eval_df)"
   ],
   "metadata": {
    "collapsed": false,
    "pycharm": {
     "name": "#%%\n"
    }
   }
  },
  {
   "cell_type": "markdown",
   "source": [
    "### Load In Data"
   ],
   "metadata": {
    "collapsed": false,
    "pycharm": {
     "name": "#%% md\n"
    }
   }
  },
  {
   "cell_type": "code",
   "execution_count": 3,
   "outputs": [
    {
     "name": "stdout",
     "output_type": "stream",
     "text": [
      "Original dataset shape Counter({0: 284315, 1: 492})\n",
      "Resampled dataset shape Counter({0: 492, 1: 492})\n"
     ]
    }
   ],
   "source": [
    "# # Set our RNG seed for reproducibility.\n",
    "RANDOM_STATE_SEED = 123\n",
    "np.random.seed(RANDOM_STATE_SEED)\n",
    "\n",
    "# Load in data and transform data\n",
    "# Load in data (transactions)\n",
    "cc_transactions = pd.read_csv(\"../data/creditcard.csv\", delimiter=\",\")\n",
    "\n",
    "# Partition data into X and y\n",
    "X_transactions = cc_transactions.drop(['Class'], axis=1)\n",
    "y_transactions = cc_transactions['Class']\n"
   ],
   "metadata": {
    "collapsed": false,
    "pycharm": {
     "name": "#%%\n"
    }
   }
  },
  {
   "cell_type": "markdown",
   "source": [
    "### Undersampling"
   ],
   "metadata": {
    "collapsed": false,
    "pycharm": {
     "name": "#%% md\n"
    }
   }
  },
  {
   "cell_type": "code",
   "execution_count": null,
   "outputs": [],
   "source": [
    "# Undersampling\n",
    "rus = RandomUnderSampler(random_state=42)\n",
    "# rus.fit(X_transactions,\n",
    "#         y_transactions)\n",
    "X_resampled, y_resampled = rus.fit_sample(X_transactions,\n",
    "                                          y_transactions)\n",
    "# Shape of old dataset vs. new dataset\n",
    "print('Original dataset shape {}'.format(Counter(y_transactions)))\n",
    "print('Resampled dataset shape {}'.format(Counter(y_resampled)))"
   ],
   "metadata": {
    "collapsed": false,
    "pycharm": {
     "name": "#%%\n"
    }
   }
  },
  {
   "cell_type": "markdown",
   "source": [
    "### Standardisation"
   ],
   "metadata": {
    "collapsed": false,
    "pycharm": {
     "name": "#%% md\n"
    }
   }
  },
  {
   "cell_type": "code",
   "execution_count": null,
   "outputs": [],
   "source": [
    "# Transforming the features 'Time' and 'Amount'\n",
    "std_feat = ['Time',\n",
    "            'Amount']\n",
    "std_pipeline = Pipeline([('std_scaler',\n",
    "                          StandardScaler())])\n",
    "\n",
    "full_pipeline = ColumnTransformer([\n",
    "    ('std_feat',\n",
    "     std_pipeline,\n",
    "     std_feat)],\n",
    "    remainder='passthrough')\n",
    "\n",
    "# Transform columns -> only for data that has the columns time and amount in them\n",
    "X_resampled = full_pipeline.fit_transform(X_resampled)"
   ],
   "metadata": {
    "collapsed": false,
    "pycharm": {
     "name": "#%%\n"
    }
   }
  },
  {
   "cell_type": "markdown",
   "source": [
    "### Active Learning"
   ],
   "metadata": {
    "collapsed": false,
    "pycharm": {
     "name": "#%% md\n"
    }
   }
  },
  {
   "cell_type": "code",
   "execution_count": 4,
   "outputs": [],
   "source": [
    "# Isolate our examples for our labeled dataset.\n",
    "X_raw = X_resampled\n",
    "y_raw = y_resampled.to_numpy()\n",
    "\n",
    "n_labeled_examples = X_raw.shape[0]\n",
    "training_indices = np.random.randint(low=0,\n",
    "                                     high=n_labeled_examples + 1,\n",
    "                                     size=5)\n",
    "\n",
    "X_train = X_raw[training_indices]\n",
    "y_train = y_raw[training_indices]\n",
    "\n",
    "# Isolate the non-training examples we'll be querying.\n",
    "X_pool = np.delete(X_raw,\n",
    "                   training_indices,\n",
    "                   axis=0)\n",
    "y_pool = np.delete(y_raw,\n",
    "                   training_indices,\n",
    "                   axis=0)"
   ],
   "metadata": {
    "collapsed": false,
    "pycharm": {
     "name": "#%%\n"
    }
   }
  },
  {
   "cell_type": "code",
   "execution_count": 5,
   "outputs": [],
   "source": [
    "# Specify our core estimator along with its active learning model.\n",
    "gbc = GradientBoostingClassifier()\n",
    "\n",
    "# Initiate Active Learner\n",
    "learner_uncertainty_sampling = ActiveLearner(estimator=gbc,\n",
    "                                             X_training=X_train,\n",
    "                                             y_training=y_train,\n",
    "                                             query_strategy=uncertainty_sampling)\n",
    "learner_margin_sampling = ActiveLearner(estimator=gbc,\n",
    "                                        X_training=X_train,\n",
    "                                        y_training=y_train,\n",
    "                                        query_strategy=margin_sampling)\n",
    "learner_entropy_sampling = ActiveLearner(estimator=gbc,\n",
    "                                         X_training=X_train,\n",
    "                                         y_training=y_train,\n",
    "                                         query_strategy=entropy_sampling)"
   ],
   "metadata": {
    "collapsed": false,
    "pycharm": {
     "name": "#%%\n"
    }
   }
  },
  {
   "cell_type": "code",
   "execution_count": 6,
   "outputs": [
    {
     "data": {
      "text/plain": "(0.7123983739837398, 0.7123983739837398, 0.7123983739837398)"
     },
     "execution_count": 6,
     "metadata": {},
     "output_type": "execute_result"
    }
   ],
   "source": [
    "# Record our learner's score on the raw data.\n",
    "unqueried_score_us = learner_uncertainty_sampling.score(X_raw, y_raw)\n",
    "unqueried_score_ms = learner_margin_sampling.score(X_raw, y_raw)\n",
    "unqueried_score_es = learner_entropy_sampling.score(X_raw, y_raw)\n",
    "unqueried_score_us, unqueried_score_ms, unqueried_score_es"
   ],
   "metadata": {
    "collapsed": false,
    "pycharm": {
     "name": "#%%\n"
    }
   }
  },
  {
   "cell_type": "code",
   "execution_count": 7,
   "outputs": [
    {
     "data": {
      "text/plain": "(array([ True,  True,  True,  True,  True,  True,  True,  True,  True,\n         True,  True,  True,  True,  True,  True,  True,  True,  True,\n         True,  True,  True,  True,  True,  True,  True,  True,  True,\n         True,  True,  True,  True,  True,  True,  True,  True,  True,\n         True,  True,  True,  True,  True,  True,  True,  True,  True,\n         True,  True,  True,  True,  True,  True,  True,  True,  True,\n         True,  True,  True,  True,  True,  True,  True,  True,  True,\n         True,  True,  True,  True,  True,  True,  True,  True,  True,\n         True,  True,  True,  True,  True,  True,  True,  True,  True,\n         True,  True,  True,  True,  True,  True,  True,  True,  True,\n         True,  True,  True,  True,  True,  True,  True,  True,  True,\n         True,  True,  True,  True,  True,  True,  True,  True,  True,\n         True,  True,  True,  True,  True,  True,  True,  True,  True,\n         True,  True,  True,  True,  True,  True,  True,  True,  True,\n         True,  True,  True,  True,  True,  True,  True,  True,  True,\n         True,  True,  True,  True,  True,  True,  True,  True,  True,\n         True,  True,  True,  True,  True,  True,  True,  True,  True,\n         True,  True,  True,  True,  True,  True,  True,  True,  True,\n         True,  True,  True,  True,  True,  True,  True,  True,  True,\n         True,  True,  True,  True,  True,  True,  True,  True,  True,\n         True,  True,  True,  True,  True,  True,  True,  True,  True,\n         True,  True,  True,  True,  True,  True,  True,  True,  True,\n         True,  True,  True,  True,  True,  True,  True,  True,  True,\n         True,  True,  True,  True,  True,  True,  True,  True,  True,\n         True,  True,  True,  True,  True,  True,  True,  True,  True,\n         True,  True,  True,  True,  True,  True,  True,  True,  True,\n         True,  True,  True,  True,  True,  True,  True,  True,  True,\n         True,  True,  True,  True,  True,  True,  True,  True,  True,\n         True,  True,  True,  True,  True,  True,  True,  True,  True,\n         True,  True,  True,  True,  True,  True,  True,  True,  True,\n         True,  True,  True,  True,  True,  True,  True,  True,  True,\n         True,  True,  True,  True,  True,  True,  True,  True,  True,\n         True,  True,  True,  True,  True,  True,  True,  True,  True,\n         True,  True,  True,  True,  True,  True,  True,  True,  True,\n         True,  True,  True,  True,  True,  True,  True,  True,  True,\n         True,  True,  True,  True,  True,  True,  True,  True,  True,\n         True,  True,  True,  True,  True,  True,  True,  True,  True,\n         True,  True,  True,  True,  True,  True,  True,  True,  True,\n         True,  True,  True,  True,  True,  True,  True,  True,  True,\n         True,  True,  True,  True,  True,  True,  True,  True,  True,\n         True,  True,  True,  True,  True,  True,  True,  True,  True,\n         True,  True,  True,  True,  True,  True,  True,  True,  True,\n         True,  True,  True,  True,  True,  True,  True,  True,  True,\n         True,  True,  True,  True,  True,  True,  True,  True,  True,\n         True,  True,  True,  True,  True,  True,  True,  True,  True,\n         True,  True,  True,  True,  True,  True,  True,  True,  True,\n         True,  True,  True,  True,  True,  True,  True,  True,  True,\n         True,  True,  True,  True,  True,  True,  True,  True,  True,\n         True,  True,  True,  True,  True,  True,  True,  True,  True,\n         True,  True,  True,  True,  True,  True,  True,  True,  True,\n         True,  True,  True,  True,  True,  True,  True,  True,  True,\n         True,  True,  True,  True,  True,  True,  True,  True,  True,\n         True,  True,  True,  True,  True,  True,  True,  True,  True,\n         True,  True,  True,  True,  True,  True,  True,  True,  True,\n         True,  True,  True,  True,  True,  True, False, False, False,\n        False, False, False, False, False, False,  True,  True,  True,\n         True,  True,  True, False, False,  True,  True,  True,  True,\n         True,  True,  True, False,  True,  True,  True,  True,  True,\n         True,  True, False,  True,  True,  True,  True,  True, False,\n        False, False, False,  True,  True,  True,  True,  True,  True,\n         True,  True,  True,  True,  True,  True,  True,  True, False,\n         True,  True,  True, False,  True,  True,  True,  True,  True,\n         True,  True,  True,  True,  True,  True,  True, False,  True,\n        False,  True,  True,  True,  True,  True, False, False, False,\n         True, False, False, False, False, False, False, False,  True,\n        False, False,  True,  True,  True,  True,  True,  True,  True,\n        False, False, False, False, False, False,  True, False, False,\n         True,  True,  True,  True,  True,  True,  True,  True,  True,\n         True,  True,  True,  True,  True,  True,  True,  True,  True,\n         True,  True,  True,  True, False,  True, False, False,  True,\n         True,  True, False, False, False,  True,  True, False, False,\n        False, False, False, False, False, False, False, False, False,\n        False, False, False, False, False, False, False, False,  True,\n         True,  True,  True,  True, False, False, False, False, False,\n        False, False, False, False,  True,  True,  True,  True, False,\n        False,  True,  True, False,  True,  True, False,  True, False,\n        False, False, False, False,  True, False, False, False, False,\n        False, False, False, False, False, False, False, False,  True,\n        False, False,  True, False, False, False, False, False, False,\n        False, False, False, False, False, False,  True,  True,  True,\n         True,  True,  True, False, False, False, False, False, False,\n        False, False, False, False, False, False, False, False, False,\n         True,  True,  True,  True,  True, False, False, False, False,\n        False, False, False, False,  True, False, False, False, False,\n         True,  True,  True,  True,  True,  True, False, False,  True,\n         True,  True,  True,  True,  True,  True,  True, False, False,\n        False,  True, False, False, False,  True, False, False, False,\n        False, False,  True,  True,  True,  True,  True,  True,  True,\n         True,  True,  True,  True,  True,  True,  True,  True,  True,\n         True,  True,  True,  True,  True,  True,  True,  True,  True,\n         True,  True,  True, False, False,  True,  True, False, False,\n        False,  True,  True,  True,  True, False, False, False,  True,\n        False, False, False,  True,  True,  True, False,  True,  True,\n         True,  True,  True,  True, False,  True,  True, False,  True,\n        False, False, False, False, False, False, False, False, False,\n         True, False, False, False, False, False, False, False, False,\n        False, False, False, False, False, False, False, False, False,\n        False, False, False, False, False, False, False, False, False,\n        False, False, False, False, False,  True, False, False, False,\n        False, False, False, False, False, False, False, False, False,\n        False,  True, False, False, False, False,  True,  True,  True,\n        False, False, False, False, False, False, False, False, False,\n        False,  True,  True, False, False, False, False, False, False,\n        False, False, False, False, False,  True, False, False,  True,\n         True,  True,  True, False, False, False, False, False, False,\n        False, False, False, False, False, False, False,  True, False,\n        False,  True, False, False, False, False, False, False, False,\n        False, False, False,  True, False, False,  True,  True,  True,\n        False, False, False, False, False, False, False, False, False,\n        False, False, False]),\n array([ True,  True,  True,  True,  True,  True,  True,  True,  True,\n         True,  True,  True,  True,  True,  True,  True,  True,  True,\n         True,  True,  True,  True,  True,  True,  True,  True,  True,\n         True,  True,  True,  True,  True,  True,  True,  True,  True,\n         True,  True,  True,  True,  True,  True,  True,  True,  True,\n         True,  True,  True,  True,  True,  True,  True,  True,  True,\n         True,  True,  True,  True,  True,  True,  True,  True,  True,\n         True,  True,  True,  True,  True,  True,  True,  True,  True,\n         True,  True,  True,  True,  True,  True,  True,  True,  True,\n         True,  True,  True,  True,  True,  True,  True,  True,  True,\n         True,  True,  True,  True,  True,  True,  True,  True,  True,\n         True,  True,  True,  True,  True,  True,  True,  True,  True,\n         True,  True,  True,  True,  True,  True,  True,  True,  True,\n         True,  True,  True,  True,  True,  True,  True,  True,  True,\n         True,  True,  True,  True,  True,  True,  True,  True,  True,\n         True,  True,  True,  True,  True,  True,  True,  True,  True,\n         True,  True,  True,  True,  True,  True,  True,  True,  True,\n         True,  True,  True,  True,  True,  True,  True,  True,  True,\n         True,  True,  True,  True,  True,  True,  True,  True,  True,\n         True,  True,  True,  True,  True,  True,  True,  True,  True,\n         True,  True,  True,  True,  True,  True,  True,  True,  True,\n         True,  True,  True,  True,  True,  True,  True,  True,  True,\n         True,  True,  True,  True,  True,  True,  True,  True,  True,\n         True,  True,  True,  True,  True,  True,  True,  True,  True,\n         True,  True,  True,  True,  True,  True,  True,  True,  True,\n         True,  True,  True,  True,  True,  True,  True,  True,  True,\n         True,  True,  True,  True,  True,  True,  True,  True,  True,\n         True,  True,  True,  True,  True,  True,  True,  True,  True,\n         True,  True,  True,  True,  True,  True,  True,  True,  True,\n         True,  True,  True,  True,  True,  True,  True,  True,  True,\n         True,  True,  True,  True,  True,  True,  True,  True,  True,\n         True,  True,  True,  True,  True,  True,  True,  True,  True,\n         True,  True,  True,  True,  True,  True,  True,  True,  True,\n         True,  True,  True,  True,  True,  True,  True,  True,  True,\n         True,  True,  True,  True,  True,  True,  True,  True,  True,\n         True,  True,  True,  True,  True,  True,  True,  True,  True,\n         True,  True,  True,  True,  True,  True,  True,  True,  True,\n         True,  True,  True,  True,  True,  True,  True,  True,  True,\n         True,  True,  True,  True,  True,  True,  True,  True,  True,\n         True,  True,  True,  True,  True,  True,  True,  True,  True,\n         True,  True,  True,  True,  True,  True,  True,  True,  True,\n         True,  True,  True,  True,  True,  True,  True,  True,  True,\n         True,  True,  True,  True,  True,  True,  True,  True,  True,\n         True,  True,  True,  True,  True,  True,  True,  True,  True,\n         True,  True,  True,  True,  True,  True,  True,  True,  True,\n         True,  True,  True,  True,  True,  True,  True,  True,  True,\n         True,  True,  True,  True,  True,  True,  True,  True,  True,\n         True,  True,  True,  True,  True,  True,  True,  True,  True,\n         True,  True,  True,  True,  True,  True,  True,  True,  True,\n         True,  True,  True,  True,  True,  True,  True,  True,  True,\n         True,  True,  True,  True,  True,  True,  True,  True,  True,\n         True,  True,  True,  True,  True,  True,  True,  True,  True,\n         True,  True,  True,  True,  True,  True,  True,  True,  True,\n         True,  True,  True,  True,  True,  True,  True,  True,  True,\n         True,  True,  True,  True,  True,  True, False, False, False,\n        False, False, False, False, False, False,  True,  True,  True,\n         True,  True,  True, False, False,  True,  True,  True,  True,\n         True,  True,  True, False,  True,  True,  True,  True,  True,\n         True,  True, False,  True,  True,  True,  True,  True, False,\n        False, False, False,  True,  True,  True,  True,  True,  True,\n         True,  True,  True,  True,  True,  True,  True,  True, False,\n         True,  True,  True, False,  True,  True,  True,  True,  True,\n         True,  True,  True,  True,  True,  True,  True, False,  True,\n        False,  True,  True,  True,  True,  True, False, False, False,\n         True, False, False, False, False, False, False, False,  True,\n        False, False,  True,  True,  True,  True,  True,  True,  True,\n        False, False, False, False, False, False,  True, False, False,\n         True,  True,  True,  True,  True,  True,  True,  True,  True,\n         True,  True,  True,  True,  True,  True,  True,  True,  True,\n         True,  True,  True,  True, False,  True, False, False,  True,\n         True,  True, False, False, False,  True,  True, False, False,\n        False, False, False, False, False, False, False, False, False,\n        False, False, False, False, False, False, False, False,  True,\n         True,  True,  True,  True, False, False, False, False, False,\n        False, False, False, False,  True,  True,  True,  True, False,\n        False,  True,  True, False,  True,  True, False,  True, False,\n        False, False, False, False,  True, False, False, False, False,\n        False, False, False, False, False, False, False, False,  True,\n        False, False,  True, False, False, False, False, False, False,\n        False, False, False, False, False, False,  True,  True,  True,\n         True,  True,  True, False, False, False, False, False, False,\n        False, False, False, False, False, False, False, False, False,\n         True,  True,  True,  True,  True, False, False, False, False,\n        False, False, False, False,  True, False, False, False, False,\n         True,  True,  True,  True,  True,  True, False, False,  True,\n         True,  True,  True,  True,  True,  True,  True, False, False,\n        False,  True, False, False, False,  True, False, False, False,\n        False, False,  True,  True,  True,  True,  True,  True,  True,\n         True,  True,  True,  True,  True,  True,  True,  True,  True,\n         True,  True,  True,  True,  True,  True,  True,  True,  True,\n         True,  True,  True, False, False,  True,  True, False, False,\n        False,  True,  True,  True,  True, False, False, False,  True,\n        False, False, False,  True,  True,  True, False,  True,  True,\n         True,  True,  True,  True, False,  True,  True, False,  True,\n        False, False, False, False, False, False, False, False, False,\n         True, False, False, False, False, False, False, False, False,\n        False, False, False, False, False, False, False, False, False,\n        False, False, False, False, False, False, False, False, False,\n        False, False, False, False, False,  True, False, False, False,\n        False, False, False, False, False, False, False, False, False,\n        False,  True, False, False, False, False,  True,  True,  True,\n        False, False, False, False, False, False, False, False, False,\n        False,  True,  True, False, False, False, False, False, False,\n        False, False, False, False, False,  True, False, False,  True,\n         True,  True,  True, False, False, False, False, False, False,\n        False, False, False, False, False, False, False,  True, False,\n        False,  True, False, False, False, False, False, False, False,\n        False, False, False,  True, False, False,  True,  True,  True,\n        False, False, False, False, False, False, False, False, False,\n        False, False, False]),\n array([ True,  True,  True,  True,  True,  True,  True,  True,  True,\n         True,  True,  True,  True,  True,  True,  True,  True,  True,\n         True,  True,  True,  True,  True,  True,  True,  True,  True,\n         True,  True,  True,  True,  True,  True,  True,  True,  True,\n         True,  True,  True,  True,  True,  True,  True,  True,  True,\n         True,  True,  True,  True,  True,  True,  True,  True,  True,\n         True,  True,  True,  True,  True,  True,  True,  True,  True,\n         True,  True,  True,  True,  True,  True,  True,  True,  True,\n         True,  True,  True,  True,  True,  True,  True,  True,  True,\n         True,  True,  True,  True,  True,  True,  True,  True,  True,\n         True,  True,  True,  True,  True,  True,  True,  True,  True,\n         True,  True,  True,  True,  True,  True,  True,  True,  True,\n         True,  True,  True,  True,  True,  True,  True,  True,  True,\n         True,  True,  True,  True,  True,  True,  True,  True,  True,\n         True,  True,  True,  True,  True,  True,  True,  True,  True,\n         True,  True,  True,  True,  True,  True,  True,  True,  True,\n         True,  True,  True,  True,  True,  True,  True,  True,  True,\n         True,  True,  True,  True,  True,  True,  True,  True,  True,\n         True,  True,  True,  True,  True,  True,  True,  True,  True,\n         True,  True,  True,  True,  True,  True,  True,  True,  True,\n         True,  True,  True,  True,  True,  True,  True,  True,  True,\n         True,  True,  True,  True,  True,  True,  True,  True,  True,\n         True,  True,  True,  True,  True,  True,  True,  True,  True,\n         True,  True,  True,  True,  True,  True,  True,  True,  True,\n         True,  True,  True,  True,  True,  True,  True,  True,  True,\n         True,  True,  True,  True,  True,  True,  True,  True,  True,\n         True,  True,  True,  True,  True,  True,  True,  True,  True,\n         True,  True,  True,  True,  True,  True,  True,  True,  True,\n         True,  True,  True,  True,  True,  True,  True,  True,  True,\n         True,  True,  True,  True,  True,  True,  True,  True,  True,\n         True,  True,  True,  True,  True,  True,  True,  True,  True,\n         True,  True,  True,  True,  True,  True,  True,  True,  True,\n         True,  True,  True,  True,  True,  True,  True,  True,  True,\n         True,  True,  True,  True,  True,  True,  True,  True,  True,\n         True,  True,  True,  True,  True,  True,  True,  True,  True,\n         True,  True,  True,  True,  True,  True,  True,  True,  True,\n         True,  True,  True,  True,  True,  True,  True,  True,  True,\n         True,  True,  True,  True,  True,  True,  True,  True,  True,\n         True,  True,  True,  True,  True,  True,  True,  True,  True,\n         True,  True,  True,  True,  True,  True,  True,  True,  True,\n         True,  True,  True,  True,  True,  True,  True,  True,  True,\n         True,  True,  True,  True,  True,  True,  True,  True,  True,\n         True,  True,  True,  True,  True,  True,  True,  True,  True,\n         True,  True,  True,  True,  True,  True,  True,  True,  True,\n         True,  True,  True,  True,  True,  True,  True,  True,  True,\n         True,  True,  True,  True,  True,  True,  True,  True,  True,\n         True,  True,  True,  True,  True,  True,  True,  True,  True,\n         True,  True,  True,  True,  True,  True,  True,  True,  True,\n         True,  True,  True,  True,  True,  True,  True,  True,  True,\n         True,  True,  True,  True,  True,  True,  True,  True,  True,\n         True,  True,  True,  True,  True,  True,  True,  True,  True,\n         True,  True,  True,  True,  True,  True,  True,  True,  True,\n         True,  True,  True,  True,  True,  True,  True,  True,  True,\n         True,  True,  True,  True,  True,  True,  True,  True,  True,\n         True,  True,  True,  True,  True,  True, False, False, False,\n        False, False, False, False, False, False,  True,  True,  True,\n         True,  True,  True, False, False,  True,  True,  True,  True,\n         True,  True,  True, False,  True,  True,  True,  True,  True,\n         True,  True, False,  True,  True,  True,  True,  True, False,\n        False, False, False,  True,  True,  True,  True,  True,  True,\n         True,  True,  True,  True,  True,  True,  True,  True, False,\n         True,  True,  True, False,  True,  True,  True,  True,  True,\n         True,  True,  True,  True,  True,  True,  True, False,  True,\n        False,  True,  True,  True,  True,  True, False, False, False,\n         True, False, False, False, False, False, False, False,  True,\n        False, False,  True,  True,  True,  True,  True,  True,  True,\n        False, False, False, False, False, False,  True, False, False,\n         True,  True,  True,  True,  True,  True,  True,  True,  True,\n         True,  True,  True,  True,  True,  True,  True,  True,  True,\n         True,  True,  True,  True, False,  True, False, False,  True,\n         True,  True, False, False, False,  True,  True, False, False,\n        False, False, False, False, False, False, False, False, False,\n        False, False, False, False, False, False, False, False,  True,\n         True,  True,  True,  True, False, False, False, False, False,\n        False, False, False, False,  True,  True,  True,  True, False,\n        False,  True,  True, False,  True,  True, False,  True, False,\n        False, False, False, False,  True, False, False, False, False,\n        False, False, False, False, False, False, False, False,  True,\n        False, False,  True, False, False, False, False, False, False,\n        False, False, False, False, False, False,  True,  True,  True,\n         True,  True,  True, False, False, False, False, False, False,\n        False, False, False, False, False, False, False, False, False,\n         True,  True,  True,  True,  True, False, False, False, False,\n        False, False, False, False,  True, False, False, False, False,\n         True,  True,  True,  True,  True,  True, False, False,  True,\n         True,  True,  True,  True,  True,  True,  True, False, False,\n        False,  True, False, False, False,  True, False, False, False,\n        False, False,  True,  True,  True,  True,  True,  True,  True,\n         True,  True,  True,  True,  True,  True,  True,  True,  True,\n         True,  True,  True,  True,  True,  True,  True,  True,  True,\n         True,  True,  True, False, False,  True,  True, False, False,\n        False,  True,  True,  True,  True, False, False, False,  True,\n        False, False, False,  True,  True,  True, False,  True,  True,\n         True,  True,  True,  True, False,  True,  True, False,  True,\n        False, False, False, False, False, False, False, False, False,\n         True, False, False, False, False, False, False, False, False,\n        False, False, False, False, False, False, False, False, False,\n        False, False, False, False, False, False, False, False, False,\n        False, False, False, False, False,  True, False, False, False,\n        False, False, False, False, False, False, False, False, False,\n        False,  True, False, False, False, False,  True,  True,  True,\n        False, False, False, False, False, False, False, False, False,\n        False,  True,  True, False, False, False, False, False, False,\n        False, False, False, False, False,  True, False, False,  True,\n         True,  True,  True, False, False, False, False, False, False,\n        False, False, False, False, False, False, False,  True, False,\n        False,  True, False, False, False, False, False, False, False,\n        False, False, False,  True, False, False,  True,  True,  True,\n        False, False, False, False, False, False, False, False, False,\n        False, False, False]))"
     },
     "execution_count": 7,
     "metadata": {},
     "output_type": "execute_result"
    }
   ],
   "source": [
    "# Isolate the data we'll need for plotting.\n",
    "predictions_us = learner_uncertainty_sampling.predict(X_raw)\n",
    "predictions_ms = learner_margin_sampling.predict(X_raw)\n",
    "predictions_es = learner_entropy_sampling.predict(X_raw)\n",
    "\n",
    "is_correct_us = (predictions_us == y_raw)\n",
    "is_correct_ms = (predictions_ms == y_raw)\n",
    "is_correct_es = (predictions_es == y_raw)\n",
    "\n",
    "# predictions_us, predictions_ms, predictions_es\n",
    "is_correct_us, is_correct_ms, is_correct_es"
   ],
   "metadata": {
    "collapsed": false,
    "pycharm": {
     "name": "#%%\n"
    }
   }
  },
  {
   "cell_type": "code",
   "execution_count": 8,
   "outputs": [
    {
     "name": "stdout",
     "output_type": "stream",
     "text": [
      "Accuracy after query 1: 0.8313\n",
      "Accuracy after query 2: 0.8933\n",
      "Accuracy after query 3: 0.9065\n",
      "Accuracy after query 4: 0.9045\n",
      "Accuracy after query 5: 0.8669\n",
      "Accuracy after query 6: 0.8608\n",
      "Accuracy after query 7: 0.8608\n",
      "Accuracy after query 8: 0.8608\n",
      "Accuracy after query 9: 0.8628\n",
      "Accuracy after query 10: 0.8628\n",
      "Accuracy after query 11: 0.8628\n",
      "Accuracy after query 12: 0.8628\n",
      "Accuracy after query 13: 0.8628\n",
      "Accuracy after query 14: 0.8628\n",
      "Accuracy after query 15: 0.8628\n",
      "Accuracy after query 16: 0.8628\n",
      "Accuracy after query 17: 0.8628\n",
      "Accuracy after query 18: 0.8628\n",
      "Accuracy after query 19: 0.8628\n",
      "Accuracy after query 20: 0.8628\n",
      "Accuracy after query 21: 0.8628\n",
      "Accuracy after query 22: 0.8628\n",
      "Accuracy after query 23: 0.8628\n",
      "Accuracy after query 24: 0.8628\n",
      "Accuracy after query 25: 0.8628\n",
      "Accuracy after query 26: 0.8628\n",
      "Accuracy after query 27: 0.8628\n",
      "Accuracy after query 28: 0.8628\n",
      "Accuracy after query 29: 0.8628\n",
      "Accuracy after query 30: 0.8628\n",
      "Accuracy after query 31: 0.8628\n",
      "Accuracy after query 32: 0.8628\n",
      "Accuracy after query 33: 0.8628\n",
      "Accuracy after query 34: 0.8628\n",
      "Accuracy after query 35: 0.8638\n",
      "Accuracy after query 36: 0.8638\n",
      "Accuracy after query 37: 0.8638\n",
      "Accuracy after query 38: 0.8638\n",
      "Accuracy after query 39: 0.8638\n",
      "Accuracy after query 40: 0.8638\n",
      "Accuracy after query 41: 0.8638\n",
      "Accuracy after query 42: 0.8638\n",
      "Accuracy after query 43: 0.8638\n",
      "Accuracy after query 44: 0.8638\n",
      "Accuracy after query 45: 0.8638\n",
      "Accuracy after query 46: 0.8638\n",
      "Accuracy after query 47: 0.8638\n",
      "Accuracy after query 48: 0.8638\n",
      "Accuracy after query 49: 0.8638\n",
      "Accuracy after query 50: 0.8638\n",
      "Accuracy after query 51: 0.8638\n",
      "Accuracy after query 52: 0.8638\n",
      "Accuracy after query 53: 0.8638\n",
      "Accuracy after query 54: 0.8638\n",
      "Accuracy after query 55: 0.8638\n",
      "Accuracy after query 56: 0.8638\n",
      "Accuracy after query 57: 0.8638\n",
      "Accuracy after query 58: 0.8638\n",
      "Accuracy after query 59: 0.8638\n",
      "Accuracy after query 60: 0.8608\n",
      "Accuracy after query 61: 0.8608\n",
      "Accuracy after query 62: 0.8608\n",
      "Accuracy after query 63: 0.8608\n",
      "Accuracy after query 64: 0.8608\n",
      "Accuracy after query 65: 0.8608\n",
      "Accuracy after query 66: 0.8608\n",
      "Accuracy after query 67: 0.8608\n",
      "Accuracy after query 68: 0.8608\n",
      "Accuracy after query 69: 0.8608\n",
      "Accuracy after query 70: 0.8608\n",
      "Accuracy after query 71: 0.8608\n",
      "Accuracy after query 72: 0.8608\n",
      "Accuracy after query 73: 0.8608\n",
      "Accuracy after query 74: 0.8608\n",
      "Accuracy after query 75: 0.8608\n",
      "Accuracy after query 76: 0.8608\n",
      "Accuracy after query 77: 0.8608\n",
      "Accuracy after query 78: 0.8608\n",
      "Accuracy after query 79: 0.8608\n",
      "Accuracy after query 80: 0.8608\n",
      "Accuracy after query 81: 0.8608\n",
      "Accuracy after query 82: 0.8608\n",
      "Accuracy after query 83: 0.8608\n",
      "Accuracy after query 84: 0.8608\n",
      "Accuracy after query 85: 0.8608\n",
      "Accuracy after query 86: 0.8608\n",
      "Accuracy after query 87: 0.8608\n",
      "Accuracy after query 88: 0.8608\n",
      "Accuracy after query 89: 0.8608\n",
      "Accuracy after query 90: 0.8608\n",
      "Accuracy after query 91: 0.8608\n",
      "Accuracy after query 92: 0.8608\n",
      "Accuracy after query 93: 0.8608\n",
      "Accuracy after query 94: 0.8608\n",
      "Accuracy after query 95: 0.8608\n",
      "Accuracy after query 96: 0.8608\n",
      "Accuracy after query 97: 0.8608\n",
      "Accuracy after query 98: 0.8608\n",
      "Accuracy after query 99: 0.8608\n",
      "Accuracy after query 100: 0.8608\n",
      "Accuracy after query 101: 0.8608\n",
      "Accuracy after query 102: 0.8608\n",
      "Accuracy after query 103: 0.8608\n",
      "Accuracy after query 104: 0.8608\n",
      "Accuracy after query 105: 0.8608\n",
      "Accuracy after query 106: 0.8608\n",
      "Accuracy after query 107: 0.8608\n",
      "Accuracy after query 108: 0.8608\n",
      "Accuracy after query 109: 0.8608\n",
      "Accuracy after query 110: 0.8608\n",
      "Accuracy after query 111: 0.8608\n",
      "Accuracy after query 112: 0.8608\n",
      "Accuracy after query 113: 0.8608\n",
      "Accuracy after query 114: 0.8608\n",
      "Accuracy after query 115: 0.8608\n",
      "Accuracy after query 116: 0.8608\n",
      "Accuracy after query 117: 0.8608\n",
      "Accuracy after query 118: 0.8608\n",
      "Accuracy after query 119: 0.8608\n",
      "Accuracy after query 120: 0.8608\n",
      "Accuracy after query 121: 0.8608\n",
      "Accuracy after query 122: 0.8608\n",
      "Accuracy after query 123: 0.8608\n",
      "Accuracy after query 124: 0.8608\n",
      "Accuracy after query 125: 0.8608\n",
      "Accuracy after query 126: 0.8608\n",
      "Accuracy after query 127: 0.8608\n",
      "Accuracy after query 128: 0.8608\n",
      "Accuracy after query 129: 0.8608\n",
      "Accuracy after query 130: 0.8608\n",
      "Accuracy after query 131: 0.8608\n",
      "Accuracy after query 132: 0.8608\n",
      "Accuracy after query 133: 0.8608\n",
      "Accuracy after query 134: 0.8608\n",
      "Accuracy after query 135: 0.8608\n",
      "Accuracy after query 136: 0.8608\n",
      "Accuracy after query 137: 0.8608\n",
      "Accuracy after query 138: 0.8608\n",
      "Accuracy after query 139: 0.8608\n",
      "Accuracy after query 140: 0.8608\n",
      "Accuracy after query 141: 0.8608\n",
      "Accuracy after query 142: 0.8608\n",
      "Accuracy after query 143: 0.8608\n",
      "Accuracy after query 144: 0.8608\n",
      "Accuracy after query 145: 0.8608\n",
      "Accuracy after query 146: 0.8608\n",
      "Accuracy after query 147: 0.8608\n",
      "Accuracy after query 148: 0.8608\n",
      "Accuracy after query 149: 0.8608\n",
      "Accuracy after query 150: 0.8608\n"
     ]
    }
   ],
   "source": [
    "# Uncertainty Sampling\n",
    "N_QUERIES = 150\n",
    "performance_history_us = [unqueried_score_us]\n",
    "\n",
    "# Allow our model to query our unlabeled dataset for the most\n",
    "# informative points according to our query strategy (uncertainty sampling).\n",
    "indice_us = []\n",
    "X_pool_u = X_pool\n",
    "y_pool_u = y_pool\n",
    "for index in range(N_QUERIES):\n",
    "    query_index_us, query_instance_us = learner_uncertainty_sampling.query(X_pool_u)\n",
    "    indice_us.append(query_index_us)\n",
    "\n",
    "    # Teach our Active Learner model the record it has requested.\n",
    "    X_us, y_us = X_pool_u[query_index_us].reshape(1, -1), y_pool_u[query_index_us].reshape(1, )\n",
    "    learner_uncertainty_sampling.teach(X=X_us, y=y_us)\n",
    "\n",
    "    # Remove the queried instance from the unlabeled pool.\n",
    "    X_pool_us, y_pool_us = np.delete(X_pool_u, query_index_us, axis=0), np.delete(y_pool_u, query_index_us)\n",
    "    X_pool_u = X_pool_us\n",
    "    y_pool_u = y_pool_us\n",
    "\n",
    "    # Calculate and report our model's accuracy.\n",
    "    model_accuracy_us = learner_uncertainty_sampling.score(X_raw, y_raw)\n",
    "    print('Accuracy after query {n}: {acc:0.4f}'.format(n=index + 1, acc=model_accuracy_us))\n",
    "\n",
    "    # Save our model's performance for plotting.\n",
    "    performance_history_us.append(model_accuracy_us)"
   ],
   "metadata": {
    "collapsed": false,
    "pycharm": {
     "name": "#%%\n"
    }
   }
  },
  {
   "cell_type": "code",
   "execution_count": 9,
   "outputs": [
    {
     "name": "stdout",
     "output_type": "stream",
     "text": [
      "Accuracy after query 1: 0.8862\n",
      "Accuracy after query 2: 0.8984\n",
      "Accuracy after query 3: 0.8984\n",
      "Accuracy after query 4: 0.9299\n",
      "Accuracy after query 5: 0.9035\n",
      "Accuracy after query 6: 0.8455\n",
      "Accuracy after query 7: 0.8455\n",
      "Accuracy after query 8: 0.8455\n",
      "Accuracy after query 9: 0.8455\n",
      "Accuracy after query 10: 0.8455\n",
      "Accuracy after query 11: 0.9146\n",
      "Accuracy after query 12: 0.9146\n",
      "Accuracy after query 13: 0.9187\n",
      "Accuracy after query 14: 0.9187\n",
      "Accuracy after query 15: 0.9187\n",
      "Accuracy after query 16: 0.9187\n",
      "Accuracy after query 17: 0.9187\n",
      "Accuracy after query 18: 0.9187\n",
      "Accuracy after query 19: 0.9187\n",
      "Accuracy after query 20: 0.9187\n",
      "Accuracy after query 21: 0.9187\n",
      "Accuracy after query 22: 0.9187\n",
      "Accuracy after query 23: 0.9177\n",
      "Accuracy after query 24: 0.9177\n",
      "Accuracy after query 25: 0.9187\n",
      "Accuracy after query 26: 0.9187\n",
      "Accuracy after query 27: 0.9187\n",
      "Accuracy after query 28: 0.9187\n",
      "Accuracy after query 29: 0.9187\n",
      "Accuracy after query 30: 0.9187\n",
      "Accuracy after query 31: 0.9187\n",
      "Accuracy after query 32: 0.9187\n",
      "Accuracy after query 33: 0.9187\n",
      "Accuracy after query 34: 0.9187\n",
      "Accuracy after query 35: 0.9187\n",
      "Accuracy after query 36: 0.9187\n",
      "Accuracy after query 37: 0.9187\n",
      "Accuracy after query 38: 0.9187\n",
      "Accuracy after query 39: 0.9187\n",
      "Accuracy after query 40: 0.9187\n",
      "Accuracy after query 41: 0.9187\n",
      "Accuracy after query 42: 0.9187\n",
      "Accuracy after query 43: 0.9187\n",
      "Accuracy after query 44: 0.9187\n",
      "Accuracy after query 45: 0.9187\n",
      "Accuracy after query 46: 0.9187\n",
      "Accuracy after query 47: 0.9187\n",
      "Accuracy after query 48: 0.9187\n",
      "Accuracy after query 49: 0.9187\n",
      "Accuracy after query 50: 0.9187\n",
      "Accuracy after query 51: 0.9187\n",
      "Accuracy after query 52: 0.9187\n",
      "Accuracy after query 53: 0.9187\n",
      "Accuracy after query 54: 0.9187\n",
      "Accuracy after query 55: 0.9187\n",
      "Accuracy after query 56: 0.9187\n",
      "Accuracy after query 57: 0.9187\n",
      "Accuracy after query 58: 0.9187\n",
      "Accuracy after query 59: 0.9187\n",
      "Accuracy after query 60: 0.9187\n",
      "Accuracy after query 61: 0.9187\n",
      "Accuracy after query 62: 0.9187\n",
      "Accuracy after query 63: 0.9187\n",
      "Accuracy after query 64: 0.9187\n",
      "Accuracy after query 65: 0.9187\n",
      "Accuracy after query 66: 0.9187\n",
      "Accuracy after query 67: 0.9187\n",
      "Accuracy after query 68: 0.9187\n",
      "Accuracy after query 69: 0.9187\n",
      "Accuracy after query 70: 0.9187\n",
      "Accuracy after query 71: 0.9187\n",
      "Accuracy after query 72: 0.9187\n",
      "Accuracy after query 73: 0.9187\n",
      "Accuracy after query 74: 0.9187\n",
      "Accuracy after query 75: 0.9187\n",
      "Accuracy after query 76: 0.9187\n",
      "Accuracy after query 77: 0.9187\n",
      "Accuracy after query 78: 0.9187\n",
      "Accuracy after query 79: 0.9187\n",
      "Accuracy after query 80: 0.9187\n",
      "Accuracy after query 81: 0.9187\n",
      "Accuracy after query 82: 0.9187\n",
      "Accuracy after query 83: 0.9187\n",
      "Accuracy after query 84: 0.9187\n",
      "Accuracy after query 85: 0.9187\n",
      "Accuracy after query 86: 0.9187\n",
      "Accuracy after query 87: 0.9187\n",
      "Accuracy after query 88: 0.9187\n",
      "Accuracy after query 89: 0.9187\n",
      "Accuracy after query 90: 0.9187\n",
      "Accuracy after query 91: 0.9187\n",
      "Accuracy after query 92: 0.9187\n",
      "Accuracy after query 93: 0.9187\n",
      "Accuracy after query 94: 0.9187\n",
      "Accuracy after query 95: 0.9187\n",
      "Accuracy after query 96: 0.9187\n",
      "Accuracy after query 97: 0.9187\n",
      "Accuracy after query 98: 0.9187\n",
      "Accuracy after query 99: 0.9187\n",
      "Accuracy after query 100: 0.9187\n",
      "Accuracy after query 101: 0.9187\n",
      "Accuracy after query 102: 0.9187\n",
      "Accuracy after query 103: 0.9187\n",
      "Accuracy after query 104: 0.9187\n",
      "Accuracy after query 105: 0.9187\n",
      "Accuracy after query 106: 0.9187\n",
      "Accuracy after query 107: 0.9187\n",
      "Accuracy after query 108: 0.9187\n",
      "Accuracy after query 109: 0.9187\n",
      "Accuracy after query 110: 0.9187\n",
      "Accuracy after query 111: 0.9187\n",
      "Accuracy after query 112: 0.9187\n",
      "Accuracy after query 113: 0.9187\n",
      "Accuracy after query 114: 0.9187\n",
      "Accuracy after query 115: 0.9187\n",
      "Accuracy after query 116: 0.9187\n",
      "Accuracy after query 117: 0.9187\n",
      "Accuracy after query 118: 0.9187\n",
      "Accuracy after query 119: 0.9187\n",
      "Accuracy after query 120: 0.9187\n",
      "Accuracy after query 121: 0.9187\n",
      "Accuracy after query 122: 0.9187\n",
      "Accuracy after query 123: 0.9187\n",
      "Accuracy after query 124: 0.9187\n",
      "Accuracy after query 125: 0.9187\n",
      "Accuracy after query 126: 0.9187\n",
      "Accuracy after query 127: 0.9187\n",
      "Accuracy after query 128: 0.9187\n",
      "Accuracy after query 129: 0.9187\n",
      "Accuracy after query 130: 0.9187\n",
      "Accuracy after query 131: 0.9187\n",
      "Accuracy after query 132: 0.9187\n",
      "Accuracy after query 133: 0.9187\n",
      "Accuracy after query 134: 0.9187\n",
      "Accuracy after query 135: 0.9187\n",
      "Accuracy after query 136: 0.9187\n",
      "Accuracy after query 137: 0.9187\n",
      "Accuracy after query 138: 0.9187\n",
      "Accuracy after query 139: 0.9187\n",
      "Accuracy after query 140: 0.9187\n",
      "Accuracy after query 141: 0.9187\n",
      "Accuracy after query 142: 0.9187\n",
      "Accuracy after query 143: 0.9187\n",
      "Accuracy after query 144: 0.9187\n",
      "Accuracy after query 145: 0.9187\n",
      "Accuracy after query 146: 0.9187\n",
      "Accuracy after query 147: 0.9187\n",
      "Accuracy after query 148: 0.9187\n",
      "Accuracy after query 149: 0.9187\n",
      "Accuracy after query 150: 0.9187\n"
     ]
    }
   ],
   "source": [
    "# Margin Sampling\n",
    "N_QUERIES = 150\n",
    "performance_history_ms = [unqueried_score_ms]\n",
    "\n",
    "# Allow our model to query our unlabeled dataset for the most\n",
    "# informative points according to our query strategy (uncertainty sampling).\n",
    "indice_ms = []\n",
    "X_pool_m = X_pool\n",
    "y_pool_m = y_pool\n",
    "for index in range(N_QUERIES):\n",
    "    query_index_ms, query_instance_ms = learner_margin_sampling.query(X_pool_m)\n",
    "    indice_ms.append(query_index_ms)\n",
    "\n",
    "    # Teach our Active Learner model the record it has requested.\n",
    "    X_ms, y_ms = X_pool[query_index_ms].reshape(1, -1), y_pool[query_index_ms].reshape(1, )\n",
    "    learner_margin_sampling.teach(X=X_ms, y=y_ms)\n",
    "\n",
    "    # Remove the queried instance from the unlabeled pool.\n",
    "    X_pool_ms, y_pool_ms = np.delete(X_pool_m, query_index_ms, axis=0), np.delete(y_pool_m, query_index_ms)\n",
    "    X_pool_m = X_pool_ms\n",
    "    y_pool_m = y_pool_ms\n",
    "\n",
    "\n",
    "    # Calculate and report our model's accuracy.\n",
    "    model_accuracy_ms = learner_margin_sampling.score(X_raw, y_raw)\n",
    "    print('Accuracy after query {n}: {acc:0.4f}'.format(n=index + 1, acc=model_accuracy_ms))\n",
    "\n",
    "    # Save our model's performance for plotting.\n",
    "    performance_history_ms.append(model_accuracy_ms)"
   ],
   "metadata": {
    "collapsed": false,
    "pycharm": {
     "name": "#%%\n"
    }
   }
  },
  {
   "cell_type": "code",
   "execution_count": 10,
   "outputs": [
    {
     "name": "stdout",
     "output_type": "stream",
     "text": [
      "Accuracy after query 1: 0.7470\n",
      "Accuracy after query 2: 0.7988\n",
      "Accuracy after query 3: 0.8862\n",
      "Accuracy after query 4: 0.8943\n",
      "Accuracy after query 5: 0.8963\n",
      "Accuracy after query 6: 0.8242\n",
      "Accuracy after query 7: 0.8242\n",
      "Accuracy after query 8: 0.8242\n",
      "Accuracy after query 9: 0.8242\n",
      "Accuracy after query 10: 0.8242\n",
      "Accuracy after query 11: 0.8963\n",
      "Accuracy after query 12: 0.8262\n",
      "Accuracy after query 13: 0.8963\n",
      "Accuracy after query 14: 0.8963\n",
      "Accuracy after query 15: 0.8262\n",
      "Accuracy after query 16: 0.8262\n",
      "Accuracy after query 17: 0.8262\n",
      "Accuracy after query 18: 0.8262\n",
      "Accuracy after query 19: 0.8262\n",
      "Accuracy after query 20: 0.8262\n",
      "Accuracy after query 21: 0.8963\n",
      "Accuracy after query 22: 0.8963\n",
      "Accuracy after query 23: 0.8963\n",
      "Accuracy after query 24: 0.8963\n",
      "Accuracy after query 25: 0.8963\n",
      "Accuracy after query 26: 0.8963\n",
      "Accuracy after query 27: 0.8963\n",
      "Accuracy after query 28: 0.8963\n",
      "Accuracy after query 29: 0.8963\n",
      "Accuracy after query 30: 0.8963\n",
      "Accuracy after query 31: 0.8963\n",
      "Accuracy after query 32: 0.8963\n",
      "Accuracy after query 33: 0.8963\n",
      "Accuracy after query 34: 0.8963\n",
      "Accuracy after query 35: 0.8963\n",
      "Accuracy after query 36: 0.8963\n",
      "Accuracy after query 37: 0.8963\n",
      "Accuracy after query 38: 0.8963\n",
      "Accuracy after query 39: 0.8963\n",
      "Accuracy after query 40: 0.8963\n",
      "Accuracy after query 41: 0.8963\n",
      "Accuracy after query 42: 0.8963\n",
      "Accuracy after query 43: 0.8963\n",
      "Accuracy after query 44: 0.8963\n",
      "Accuracy after query 45: 0.8963\n",
      "Accuracy after query 46: 0.8963\n",
      "Accuracy after query 47: 0.8963\n",
      "Accuracy after query 48: 0.8963\n",
      "Accuracy after query 49: 0.8963\n",
      "Accuracy after query 50: 0.8963\n",
      "Accuracy after query 51: 0.8963\n",
      "Accuracy after query 52: 0.8963\n",
      "Accuracy after query 53: 0.8963\n",
      "Accuracy after query 54: 0.8963\n",
      "Accuracy after query 55: 0.8963\n",
      "Accuracy after query 56: 0.8963\n",
      "Accuracy after query 57: 0.8963\n",
      "Accuracy after query 58: 0.8963\n",
      "Accuracy after query 59: 0.8963\n",
      "Accuracy after query 60: 0.8963\n",
      "Accuracy after query 61: 0.8963\n",
      "Accuracy after query 62: 0.8963\n",
      "Accuracy after query 63: 0.8963\n",
      "Accuracy after query 64: 0.8963\n",
      "Accuracy after query 65: 0.8963\n",
      "Accuracy after query 66: 0.8963\n",
      "Accuracy after query 67: 0.8963\n",
      "Accuracy after query 68: 0.8963\n",
      "Accuracy after query 69: 0.8963\n",
      "Accuracy after query 70: 0.8963\n",
      "Accuracy after query 71: 0.8963\n",
      "Accuracy after query 72: 0.8963\n",
      "Accuracy after query 73: 0.8963\n",
      "Accuracy after query 74: 0.8963\n",
      "Accuracy after query 75: 0.8963\n",
      "Accuracy after query 76: 0.8963\n",
      "Accuracy after query 77: 0.8963\n",
      "Accuracy after query 78: 0.8963\n",
      "Accuracy after query 79: 0.8963\n",
      "Accuracy after query 80: 0.8963\n",
      "Accuracy after query 81: 0.8963\n",
      "Accuracy after query 82: 0.8963\n",
      "Accuracy after query 83: 0.8963\n",
      "Accuracy after query 84: 0.8963\n",
      "Accuracy after query 85: 0.8963\n",
      "Accuracy after query 86: 0.8963\n",
      "Accuracy after query 87: 0.8963\n",
      "Accuracy after query 88: 0.8963\n",
      "Accuracy after query 89: 0.8963\n",
      "Accuracy after query 90: 0.8963\n",
      "Accuracy after query 91: 0.8963\n",
      "Accuracy after query 92: 0.8963\n",
      "Accuracy after query 93: 0.8963\n",
      "Accuracy after query 94: 0.8963\n",
      "Accuracy after query 95: 0.8892\n",
      "Accuracy after query 96: 0.8882\n",
      "Accuracy after query 97: 0.8821\n",
      "Accuracy after query 98: 0.8862\n",
      "Accuracy after query 99: 0.9278\n",
      "Accuracy after query 100: 0.9278\n",
      "Accuracy after query 101: 0.9278\n",
      "Accuracy after query 102: 0.9278\n",
      "Accuracy after query 103: 0.9278\n",
      "Accuracy after query 104: 0.8953\n",
      "Accuracy after query 105: 0.8882\n",
      "Accuracy after query 106: 0.8872\n",
      "Accuracy after query 107: 0.9004\n",
      "Accuracy after query 108: 0.8902\n",
      "Accuracy after query 109: 0.9157\n",
      "Accuracy after query 110: 0.9136\n",
      "Accuracy after query 111: 0.9024\n",
      "Accuracy after query 112: 0.9004\n",
      "Accuracy after query 113: 0.9004\n",
      "Accuracy after query 114: 0.9136\n",
      "Accuracy after query 115: 0.9116\n",
      "Accuracy after query 116: 0.9004\n",
      "Accuracy after query 117: 0.9136\n",
      "Accuracy after query 118: 0.9024\n",
      "Accuracy after query 119: 0.9299\n",
      "Accuracy after query 120: 0.9217\n",
      "Accuracy after query 121: 0.9238\n",
      "Accuracy after query 122: 0.9217\n",
      "Accuracy after query 123: 0.9248\n",
      "Accuracy after query 124: 0.9238\n",
      "Accuracy after query 125: 0.8943\n",
      "Accuracy after query 126: 0.8943\n",
      "Accuracy after query 127: 0.8953\n",
      "Accuracy after query 128: 0.8933\n",
      "Accuracy after query 129: 0.8953\n",
      "Accuracy after query 130: 0.8933\n",
      "Accuracy after query 131: 0.8913\n",
      "Accuracy after query 132: 0.8943\n",
      "Accuracy after query 133: 0.8953\n",
      "Accuracy after query 134: 0.8913\n",
      "Accuracy after query 135: 0.8923\n",
      "Accuracy after query 136: 0.8923\n",
      "Accuracy after query 137: 0.8923\n",
      "Accuracy after query 138: 0.9014\n",
      "Accuracy after query 139: 0.9014\n",
      "Accuracy after query 140: 0.9045\n",
      "Accuracy after query 141: 0.9014\n",
      "Accuracy after query 142: 0.9055\n",
      "Accuracy after query 143: 0.9065\n",
      "Accuracy after query 144: 0.9065\n",
      "Accuracy after query 145: 0.9268\n",
      "Accuracy after query 146: 0.9268\n",
      "Accuracy after query 147: 0.8974\n",
      "Accuracy after query 148: 0.9065\n",
      "Accuracy after query 149: 0.9309\n",
      "Accuracy after query 150: 0.9289\n"
     ]
    }
   ],
   "source": [
    "# Entropy Sampling\n",
    "N_QUERIES = 150\n",
    "performance_history_es = [unqueried_score_es]\n",
    "\n",
    "# Allow our model to query our unlabeled dataset for the most\n",
    "# informative points according to our query strategy (uncertainty sampling).\n",
    "indice_es = []\n",
    "X_pool_e = X_pool\n",
    "y_pool_e = y_pool\n",
    "for index in range(N_QUERIES):\n",
    "    query_index_es, query_instance_es = learner_entropy_sampling.query(X_pool_e)\n",
    "    indice_es.append(query_index_es)\n",
    "\n",
    "    # Teach our Active Learner model the record it has requested.\n",
    "    X_es, y_es = X_pool[query_index_es].reshape(1, -1), y_pool[query_index_es].reshape(1, )\n",
    "    learner_entropy_sampling.teach(X=X_es, y=y_es)\n",
    "\n",
    "    # Remove the queried instance from the unlabeled pool.\n",
    "    X_pool_es, y_pool_es = np.delete(X_pool_e, query_index_es, axis=0), np.delete(y_pool_e, query_index_es)\n",
    "    X_pool_e = X_pool_es\n",
    "    y_pool_e = y_pool_es\n",
    "\n",
    "    # Calculate and report our model's accuracy.\n",
    "    model_accuracy_es = learner_entropy_sampling.score(X_raw, y_raw)\n",
    "    print('Accuracy after query {n}: {acc:0.4f}'.format(n=index + 1, acc=model_accuracy_es))\n",
    "\n",
    "    # Save our model's performance for plotting.\n",
    "    performance_history_es.append(model_accuracy_es)"
   ],
   "metadata": {
    "collapsed": false,
    "pycharm": {
     "name": "#%%\n"
    }
   }
  },
  {
   "cell_type": "code",
   "execution_count": 11,
   "outputs": [
    {
     "data": {
      "text/plain": "<Figure size 420x210 with 1 Axes>",
      "image/png": "[encoded data removed]"
     },
     "metadata": {},
     "output_type": "display_data"
    }
   ],
   "source": [
    "# Plot our performance over time\n",
    "plt.style.use('fivethirtyeight')\n",
    "fig_us, ax_us = plt.subplots(figsize=(6, 3), dpi=70)\n",
    "\n",
    "ax_us.plot(performance_history_us)\n",
    "ax_us.scatter(range(len(performance_history_us)), performance_history_us, s=13)\n",
    "\n",
    "ax_us.xaxis.set_major_locator(mpl.ticker.MaxNLocator(nbins=5, integer=True))\n",
    "ax_us.yaxis.set_major_locator(mpl.ticker.MaxNLocator(nbins=10))\n",
    "ax_us.yaxis.set_major_formatter(mpl.ticker.PercentFormatter(xmax=1))\n",
    "\n",
    "ax_us.set_ylim(bottom=0, top=1)\n",
    "ax_us.grid(True)\n",
    "\n",
    "ax_us.set_title('Incremental classification accuracy - Least Confidence', fontsize=10)\n",
    "ax_us.set_xlabel('Query iteration', fontsize=10)\n",
    "ax_us.set_ylabel('Classification Accuracy', fontsize=10)\n",
    "\n",
    "plt.show()"
   ],
   "metadata": {
    "collapsed": false,
    "pycharm": {
     "name": "#%%\n"
    }
   }
  },
  {
   "cell_type": "code",
   "execution_count": 12,
   "outputs": [
    {
     "data": {
      "text/plain": "<Figure size 420x210 with 1 Axes>",
      "image/png": "[encoded data removed]"
     },
     "metadata": {},
     "output_type": "display_data"
    }
   ],
   "source": [
    "# Plot our performance over time\n",
    "fig_ms, ax_ms = plt.subplots(figsize=(6, 3), dpi=70)\n",
    "\n",
    "ax_ms.plot(performance_history_ms)\n",
    "ax_ms.scatter(range(len(performance_history_ms)), performance_history_ms, s=13)\n",
    "\n",
    "ax_ms.xaxis.set_major_locator(mpl.ticker.MaxNLocator(nbins=5, integer=True))\n",
    "ax_ms.yaxis.set_major_locator(mpl.ticker.MaxNLocator(nbins=10))\n",
    "ax_ms.yaxis.set_major_formatter(mpl.ticker.PercentFormatter(xmax=1))\n",
    "\n",
    "ax_ms.set_ylim(bottom=0, top=1)\n",
    "ax_ms.grid(True)\n",
    "\n",
    "ax_ms.set_title('Incremental classification accuracy - Margin of Confidence', fontsize=10)\n",
    "ax_ms.set_xlabel('Query iteration', fontsize=10)\n",
    "ax_ms.set_ylabel('Classification Accuracy', fontsize=10)\n",
    "\n",
    "plt.show()"
   ],
   "metadata": {
    "collapsed": false,
    "pycharm": {
     "name": "#%%\n"
    }
   }
  },
  {
   "cell_type": "code",
   "execution_count": 13,
   "outputs": [
    {
     "data": {
      "text/plain": "<Figure size 420x210 with 1 Axes>",
      "image/png": "[encoded data removed]"
     },
     "metadata": {},
     "output_type": "display_data"
    }
   ],
   "source": [
    "# Plot our performance over time\n",
    "fig_es, ax_es = plt.subplots(figsize=(6, 3), dpi=70)\n",
    "\n",
    "ax_es.plot(performance_history_es)\n",
    "ax_es.scatter(range(len(performance_history_es)), performance_history_es, s=13)\n",
    "\n",
    "ax_es.xaxis.set_major_locator(mpl.ticker.MaxNLocator(nbins=5, integer=True))\n",
    "ax_es.yaxis.set_major_locator(mpl.ticker.MaxNLocator(nbins=10))\n",
    "ax_es.yaxis.set_major_formatter(mpl.ticker.PercentFormatter(xmax=1))\n",
    "\n",
    "ax_es.set_ylim(bottom=0, top=1)\n",
    "ax_es.grid(True)\n",
    "\n",
    "ax_es.set_title('Incremental classification accuracy - Classification Entropy', fontsize=10)\n",
    "ax_es.set_xlabel('Query iteration', fontsize=10)\n",
    "ax_es.set_ylabel('Classification Accuracy', fontsize=10)\n",
    "\n",
    "plt.show()"
   ],
   "metadata": {
    "collapsed": false,
    "pycharm": {
     "name": "#%%\n"
    }
   }
  },
  {
   "cell_type": "markdown",
   "source": [
    "### Data Partitioning (Training supplied by AL, test and validation by train test split)"
   ],
   "metadata": {
    "collapsed": false,
    "pycharm": {
     "name": "#%% md\n"
    }
   }
  },
  {
   "cell_type": "code",
   "execution_count": 14,
   "outputs": [],
   "source": [
    "# Selecting instances for training (us)\n",
    "indx_us = [index for sublist in indice_us for index in sublist]\n",
    "training_indx_us = [ix for ix in training_indices]\n",
    "X_training_us = np.array(X_raw)[indx_us + training_indx_us]\n",
    "y_training_us =  np.array(y_raw)[indx_us + training_indx_us]\n",
    "\n",
    "# Selecting instances for training (ms)\n",
    "indx_ms = [index for sublist in indice_ms for index in sublist]\n",
    "training_indx_ms = [ix for ix in training_indices]\n",
    "X_training_ms = np.array(X_raw)[indx_ms + training_indx_ms]\n",
    "y_training_ms =  np.array(y_raw)[indx_ms + training_indx_ms]\n",
    "\n",
    "# Selecting instances for training (es)\n",
    "indx_es = [index for sublist in indice_es for index in sublist]\n",
    "training_indx_es = [ix for ix in training_indices]\n",
    "X_training_es = np.array(X_raw)[indx_es + training_indx_es]\n",
    "y_training_es =  np.array(y_raw)[indx_es + training_indx_es]\n",
    "\n",
    "# We are now left with test and validation data. This needs to be partitioned into test and validation.\n",
    "X_test_us, X_val_us, y_test_us, y_val_us = train_test_split(X_pool_u,\n",
    "                                                            y_pool_u,\n",
    "                                                            test_size=0.1)\n",
    "X_test_ms, X_val_ms, y_test_ms, y_val_ms = train_test_split(X_pool_m,\n",
    "                                                            y_pool_m,\n",
    "                                                            test_size=0.1)\n",
    "X_test_es, X_val_es, y_test_es, y_val_es = train_test_split(X_pool_e,\n",
    "                                                            y_pool_e,\n",
    "                                                            test_size=0.1)"
   ],
   "metadata": {
    "collapsed": false,
    "pycharm": {
     "name": "#%%\n"
    }
   }
  },
  {
   "cell_type": "markdown",
   "source": [
    "### Cross Validation"
   ],
   "metadata": {
    "collapsed": false,
    "pycharm": {
     "name": "#%% md\n"
    }
   }
  },
  {
   "cell_type": "code",
   "execution_count": 15,
   "outputs": [
    {
     "data": {
      "text/plain": "({'learning_rate': 0.05,\n  'max_features': 'sqrt',\n  'n_estimators': 110,\n  'subsample': 0.85},\n {'learning_rate': 0.05,\n  'max_features': 'log2',\n  'n_estimators': 100,\n  'subsample': 0.5},\n {'learning_rate': 0.01,\n  'max_features': 'sqrt',\n  'n_estimators': 120,\n  'subsample': 0.95})"
     },
     "execution_count": 15,
     "metadata": {},
     "output_type": "execute_result"
    }
   ],
   "source": [
    "# Boosting Classifier\n",
    "gradientB = GradientBoostingClassifier()\n",
    "\n",
    "param_grid_gbc = {\n",
    "    'n_estimators': list(range(100, 150, 10)),\n",
    "    'learning_rate': [0.01, 0.025, 0.05, 0.075],\n",
    "    'max_features':['log2','sqrt', 'auto'],\n",
    "    'subsample':[0.5, 0.85, 0.95]\n",
    "}\n",
    "\n",
    "# Initialise GridSearchCV (us)\n",
    "CV_gbc_us = GridSearchCV(estimator=gbc, param_grid=param_grid_gbc, cv=5)\n",
    "CV_gbc_us.fit(X_val_us, y_val_us)\n",
    "\n",
    "# Initialise GridSearchCV (ms)\n",
    "CV_gbc_ms = GridSearchCV(estimator=gbc, param_grid=param_grid_gbc, cv=5)\n",
    "CV_gbc_ms.fit(X_val_ms, y_val_ms)\n",
    "\n",
    "# Initialise GridSearchCV (es)\n",
    "CV_gbc_es = GridSearchCV(estimator=gbc, param_grid=param_grid_gbc, cv=5)\n",
    "CV_gbc_es.fit(X_val_es, y_val_es)\n",
    "\n",
    "# GridSearch results for all three models\n",
    "CV_gbc_us.best_params_, CV_gbc_ms.best_params_, CV_gbc_es.best_params_"
   ],
   "metadata": {
    "collapsed": false,
    "pycharm": {
     "name": "#%%\n"
    }
   }
  },
  {
   "cell_type": "markdown",
   "source": [
    "### Modeling Gradient Boost"
   ],
   "metadata": {
    "collapsed": false,
    "pycharm": {
     "name": "#%% md\n"
    }
   }
  },
  {
   "cell_type": "code",
   "execution_count": 16,
   "outputs": [
    {
     "data": {
      "text/plain": "                                               model recall f1_score  \\\n0  Gradient Boosting Classifier - Uncertainty Sam...   0.70     0.82   \n\n  accuracy_score precision_score  \n0           0.85            1.00  ",
      "text/html": "<div>\n<style scoped>\n    .dataframe tbody tr th:only-of-type {\n        vertical-align: middle;\n    }\n\n    .dataframe tbody tr th {\n        vertical-align: top;\n    }\n\n    .dataframe thead th {\n        text-align: right;\n    }\n</style>\n<table border=\"1\" class=\"dataframe\">\n  <thead>\n    <tr style=\"text-align: right;\">\n      <th></th>\n      <th>model</th>\n      <th>recall</th>\n      <th>f1_score</th>\n      <th>accuracy_score</th>\n      <th>precision_score</th>\n    </tr>\n  </thead>\n  <tbody>\n    <tr>\n      <th>0</th>\n      <td>Gradient Boosting Classifier - Uncertainty Sam...</td>\n      <td>0.70</td>\n      <td>0.82</td>\n      <td>0.85</td>\n      <td>1.00</td>\n    </tr>\n  </tbody>\n</table>\n</div>"
     },
     "metadata": {},
     "output_type": "display_data"
    }
   ],
   "source": [
    "# Initialize random forest and use GridSearchCV parameters to fill in parameters of random forest - Uncertainty Sampling\n",
    "n_thread =  effective_n_jobs(-1)\n",
    "gbc_us = GradientBoostingClassifier(random_state=42, n_estimators = 110, learning_rate = 0.05, max_features = 'sqrt', subsample =0.85)\n",
    "\n",
    "# Train Model\n",
    "gbc_us.fit(X_training_us, y_training_us)\n",
    "\n",
    "# Predict using test data\n",
    "y_pred_gbc_us = gbc_us.predict(X_test_us)\n",
    "\n",
    "# Show model performance\n",
    "add_model_eval('Gradient Boosting Classifier - Uncertainty Sampling', recall_score(y_test_us, y_pred_gbc_us), f1_score(y_test_us, y_pred_gbc_us), accuracy_score(y_test_us, y_pred_gbc_us), precision_score(y_test_us, y_pred_gbc_us))\n",
    "view_models_eval()"
   ],
   "metadata": {
    "collapsed": false,
    "pycharm": {
     "name": "#%%\n"
    }
   }
  },
  {
   "cell_type": "code",
   "execution_count": 17,
   "outputs": [
    {
     "data": {
      "text/plain": "                                               model recall f1_score  \\\n0  Gradient Boosting Classifier - Uncertainty Sam...   0.70     0.82   \n1     Gradient Boosting Classifier - Margin Sampling   0.45     0.62   \n\n  accuracy_score precision_score  \n0           0.85            1.00  \n1           0.75            1.00  ",
      "text/html": "<div>\n<style scoped>\n    .dataframe tbody tr th:only-of-type {\n        vertical-align: middle;\n    }\n\n    .dataframe tbody tr th {\n        vertical-align: top;\n    }\n\n    .dataframe thead th {\n        text-align: right;\n    }\n</style>\n<table border=\"1\" class=\"dataframe\">\n  <thead>\n    <tr style=\"text-align: right;\">\n      <th></th>\n      <th>model</th>\n      <th>recall</th>\n      <th>f1_score</th>\n      <th>accuracy_score</th>\n      <th>precision_score</th>\n    </tr>\n  </thead>\n  <tbody>\n    <tr>\n      <th>0</th>\n      <td>Gradient Boosting Classifier - Uncertainty Sam...</td>\n      <td>0.70</td>\n      <td>0.82</td>\n      <td>0.85</td>\n      <td>1.00</td>\n    </tr>\n    <tr>\n      <th>1</th>\n      <td>Gradient Boosting Classifier - Margin Sampling</td>\n      <td>0.45</td>\n      <td>0.62</td>\n      <td>0.75</td>\n      <td>1.00</td>\n    </tr>\n  </tbody>\n</table>\n</div>"
     },
     "metadata": {},
     "output_type": "display_data"
    }
   ],
   "source": [
    "# Initialize random forest and use GridSearchCV parameters to fill in parameters of random forest - Margin Sampling\n",
    "gbc_ms = GradientBoostingClassifier(random_state=42, n_estimators = 100, learning_rate = 0.05, max_features = 'log2', subsample =0.5)\n",
    "\n",
    "# Train Model\n",
    "gbc_ms.fit(X_training_ms, y_training_ms)\n",
    "\n",
    "# Predict using test data\n",
    "y_pred_gbc_ms = gbc_ms.predict(X_test_ms)\n",
    "\n",
    "# Show model performance\n",
    "add_model_eval('Gradient Boosting Classifier - Margin Sampling', recall_score(y_test_ms, y_pred_gbc_ms), f1_score(y_test_ms, y_pred_gbc_ms), accuracy_score(y_test_ms, y_pred_gbc_ms), precision_score(y_test_ms, y_pred_gbc_ms))\n",
    "view_models_eval()"
   ],
   "metadata": {
    "collapsed": false,
    "pycharm": {
     "name": "#%%\n"
    }
   }
  },
  {
   "cell_type": "code",
   "execution_count": 18,
   "outputs": [
    {
     "data": {
      "text/plain": "                                               model recall f1_score  \\\n0  Gradient Boosting Classifier - Uncertainty Sam...   0.70     0.82   \n1     Gradient Boosting Classifier - Margin Sampling   0.45     0.62   \n2    Gradient Boosting Classifier - Entropy Sampling   0.83     0.91   \n\n  accuracy_score precision_score  \n0           0.85            1.00  \n1           0.75            1.00  \n2           0.93            1.00  ",
      "text/html": "<div>\n<style scoped>\n    .dataframe tbody tr th:only-of-type {\n        vertical-align: middle;\n    }\n\n    .dataframe tbody tr th {\n        vertical-align: top;\n    }\n\n    .dataframe thead th {\n        text-align: right;\n    }\n</style>\n<table border=\"1\" class=\"dataframe\">\n  <thead>\n    <tr style=\"text-align: right;\">\n      <th></th>\n      <th>model</th>\n      <th>recall</th>\n      <th>f1_score</th>\n      <th>accuracy_score</th>\n      <th>precision_score</th>\n    </tr>\n  </thead>\n  <tbody>\n    <tr>\n      <th>0</th>\n      <td>Gradient Boosting Classifier - Uncertainty Sam...</td>\n      <td>0.70</td>\n      <td>0.82</td>\n      <td>0.85</td>\n      <td>1.00</td>\n    </tr>\n    <tr>\n      <th>1</th>\n      <td>Gradient Boosting Classifier - Margin Sampling</td>\n      <td>0.45</td>\n      <td>0.62</td>\n      <td>0.75</td>\n      <td>1.00</td>\n    </tr>\n    <tr>\n      <th>2</th>\n      <td>Gradient Boosting Classifier - Entropy Sampling</td>\n      <td>0.83</td>\n      <td>0.91</td>\n      <td>0.93</td>\n      <td>1.00</td>\n    </tr>\n  </tbody>\n</table>\n</div>"
     },
     "metadata": {},
     "output_type": "display_data"
    }
   ],
   "source": [
    "# Initialize random forest and use GridSearchCV parameters to fill in parameters of random forest - Entropy Sampling\n",
    "gbc_es = GradientBoostingClassifier(random_state=42, n_estimators = 120, learning_rate = 0.01, max_features = 'sqrt', subsample =0.95)\n",
    "\n",
    "# Train Model\n",
    "gbc_es.fit(X_training_es, y_training_es)\n",
    "\n",
    "# Predict using test data\n",
    "y_pred_gbc_es = gbc_es.predict(X_test_es)\n",
    "\n",
    "# Show model performance\n",
    "add_model_eval('Gradient Boosting Classifier - Entropy Sampling', recall_score(y_test_es, y_pred_gbc_es), f1_score(y_test_es, y_pred_gbc_es), accuracy_score(y_test_es, y_pred_gbc_es), precision_score(y_test_es, y_pred_gbc_es))\n",
    "view_models_eval()"
   ],
   "metadata": {
    "collapsed": false,
    "pycharm": {
     "name": "#%%\n"
    }
   }
  },
  {
   "cell_type": "markdown",
   "source": [
    "### Model metrics"
   ],
   "metadata": {
    "collapsed": false,
    "pycharm": {
     "name": "#%% md\n"
    }
   }
  },
  {
   "cell_type": "code",
   "execution_count": 22,
   "outputs": [
    {
     "data": {
      "text/plain": "<Figure size 432x288 with 1 Axes>",
      "image/png": "[encoded data removed]"
     },
     "metadata": {
      "needs_background": "light"
     },
     "output_type": "display_data"
    }
   ],
   "source": [
    "# Generate precision recall curve values: precision, recall, thresholds\n",
    "precision_gb_us, recall_gb_us, thresholds_gb_us = precision_recall_curve(y_test_us, y_pred_gbc_us)\n",
    "auc_precision_recall_gb_us = auc(recall_gb_us, precision_gb_us)\n",
    "\n",
    "# Plot ROC curve\n",
    "plt.plot(precision_gb_us, recall_gb_us, label=\"AUC=\"+str(auc_precision_recall_gb_us))\n",
    "plt.ylabel('Precision', fontsize=13)\n",
    "plt.xlabel('Recall', fontsize=13)\n",
    "plt.title('Gradient Boost Classifier - Least Confidence', fontsize=10)\n",
    "plt.suptitle('Area Under the Precision Recall Curve', fontsize=13)\n",
    "plt.show()"
   ],
   "metadata": {
    "collapsed": false,
    "pycharm": {
     "name": "#%%\n"
    }
   }
  },
  {
   "cell_type": "code",
   "execution_count": 23,
   "outputs": [
    {
     "data": {
      "text/plain": "0.9253627084114397"
     },
     "execution_count": 23,
     "metadata": {},
     "output_type": "execute_result"
    }
   ],
   "source": [
    "auc_precision_recall_gb_us"
   ],
   "metadata": {
    "collapsed": false,
    "pycharm": {
     "name": "#%%\n"
    }
   }
  },
  {
   "cell_type": "code",
   "execution_count": 24,
   "outputs": [
    {
     "data": {
      "text/plain": "<Figure size 432x288 with 1 Axes>",
      "image/png": "[encoded data removed]"
     },
     "metadata": {
      "needs_background": "light"
     },
     "output_type": "display_data"
    }
   ],
   "source": [
    "# Generate precision recall curve values: precision, recall, thresholds\n",
    "precision_gb_ms, recall_gb_ms, thresholds_gb_ms = precision_recall_curve(y_test_ms, y_pred_gbc_ms)\n",
    "auc_precision_recall_gb_ms = auc(recall_gb_ms, precision_gb_ms)\n",
    "\n",
    "# Plot ROC curve\n",
    "plt.plot(precision_gb_ms, recall_gb_ms, label=\"AUC=\"+str(auc_precision_recall_gb_ms))\n",
    "plt.ylabel('Precision', fontsize=13)\n",
    "plt.xlabel('Recall', fontsize=13)\n",
    "plt.title('Gradient Boost Classifier - Margin of Confidence', fontsize=8)\n",
    "plt.suptitle('Area Under the Precision Recall Curve', fontsize=13)\n",
    "plt.show()"
   ],
   "metadata": {
    "collapsed": false,
    "pycharm": {
     "name": "#%%\n"
    }
   }
  },
  {
   "cell_type": "code",
   "execution_count": 25,
   "outputs": [
    {
     "data": {
      "text/plain": "0.846215963047902"
     },
     "execution_count": 25,
     "metadata": {},
     "output_type": "execute_result"
    }
   ],
   "source": [
    "auc_precision_recall_gb_ms"
   ],
   "metadata": {
    "collapsed": false,
    "pycharm": {
     "name": "#%%\n"
    }
   }
  },
  {
   "cell_type": "code",
   "execution_count": 27,
   "outputs": [
    {
     "data": {
      "text/plain": "<Figure size 432x288 with 1 Axes>",
      "image/png": "[encoded data removed]"
     },
     "metadata": {
      "needs_background": "light"
     },
     "output_type": "display_data"
    }
   ],
   "source": [
    "# Generate precision recall curve values: precision, recall, thresholds\n",
    "precision_gb_es, recall_gb_es, thresholds_gb_es = precision_recall_curve(y_test_es, y_pred_gbc_es)\n",
    "auc_precision_recall_gb_es = auc(recall_gb_es, precision_gb_es)\n",
    "\n",
    "# Plot ROC curve\n",
    "plt.plot(precision_gb_es, recall_gb_es, label=\"AUC=\"+str(auc_precision_recall_gb_es))\n",
    "plt.ylabel('Precision', fontsize=13)\n",
    "plt.xlabel('Recall', fontsize=13)\n",
    "plt.title('Gradient Boost Classifier - Classification Entropy', fontsize=8)\n",
    "plt.suptitle('Area Under the Precision Recall Curve', fontsize=13)\n",
    "plt.show()"
   ],
   "metadata": {
    "collapsed": false,
    "pycharm": {
     "name": "#%%\n"
    }
   }
  },
  {
   "cell_type": "code",
   "execution_count": 31,
   "outputs": [
    {
     "data": {
      "text/plain": "0.9542806881948973"
     },
     "execution_count": 31,
     "metadata": {},
     "output_type": "execute_result"
    }
   ],
   "source": [
    "auc_precision_recall_gb_es"
   ],
   "metadata": {
    "collapsed": false,
    "pycharm": {
     "name": "#%%\n"
    }
   }
  },
  {
   "cell_type": "code",
   "execution_count": 26,
   "outputs": [
    {
     "data": {
      "text/plain": "1.0"
     },
     "execution_count": 26,
     "metadata": {},
     "output_type": "execute_result"
    }
   ],
   "source": [
    "tn_us, fp_us, fn_us, tp_us = confusion_matrix(y_test_us, y_pred_gbc_us).ravel()\n",
    "specificity_us = tn_us / (tn_us+fp_us)\n",
    "specificity_us"
   ],
   "metadata": {
    "collapsed": false,
    "pycharm": {
     "name": "#%%\n"
    }
   }
  },
  {
   "cell_type": "code",
   "execution_count": 27,
   "outputs": [
    {
     "data": {
      "text/plain": "1.0"
     },
     "execution_count": 27,
     "metadata": {},
     "output_type": "execute_result"
    }
   ],
   "source": [
    "tn_ms, fp_ms, fn_ms, tp_ms = confusion_matrix(y_test_ms, y_pred_gbc_ms).ravel()\n",
    "specificity_ms = tn_ms / (tn_ms+fp_ms)\n",
    "specificity_ms"
   ],
   "metadata": {
    "collapsed": false,
    "pycharm": {
     "name": "#%%\n"
    }
   }
  },
  {
   "cell_type": "code",
   "execution_count": 28,
   "outputs": [
    {
     "data": {
      "text/plain": "1.0"
     },
     "execution_count": 28,
     "metadata": {},
     "output_type": "execute_result"
    }
   ],
   "source": [
    "tn_es, fp_es, fn_es, tp_es = confusion_matrix(y_test_es, y_pred_gbc_es).ravel()\n",
    "specificity_es = tn_es / (tn_es+fp_es)\n",
    "specificity_es"
   ],
   "metadata": {
    "collapsed": false,
    "pycharm": {
     "name": "#%%\n"
    }
   }
  },
  {
   "cell_type": "code",
   "execution_count": 33,
   "outputs": [
    {
     "data": {
      "text/plain": "array([[ 1.36168005,  0.01678381,  1.64137011, ..., -0.45914113,\n         0.08151831, -0.04050174],\n       [ 0.40561356, -0.44799922,  2.02709905, ...,  0.13668083,\n        -0.09346889, -0.06258692],\n       [ 0.12410972,  0.96899801, -5.83919162, ...,  0.28243502,\n         0.10488602,  0.2544171 ],\n       ...,\n       [-0.90825864, -0.36209872,  1.41207405, ...,  1.30066885,\n        -0.10589886, -0.01603302],\n       [ 1.21170311, -0.45160848,  0.90863666, ...,  0.21050976,\n         0.6487048 ,  0.36022433],\n       [ 1.33445321, -0.38393477,  1.96468351, ..., -0.51073099,\n        -0.024165  , -0.07145941]])"
     },
     "execution_count": 33,
     "metadata": {},
     "output_type": "execute_result"
    }
   ],
   "source": [
    "X_test_es"
   ],
   "metadata": {
    "collapsed": false,
    "pycharm": {
     "name": "#%%\n"
    }
   }
  },
  {
   "cell_type": "code",
   "execution_count": null,
   "outputs": [],
   "source": [],
   "metadata": {
    "collapsed": false,
    "pycharm": {
     "name": "#%%\n"
    }
   }
  }
 ],
 "metadata": {
  "kernelspec": {
   "display_name": "Python 3",
   "language": "python",
   "name": "python3"
  },
  "language_info": {
   "codemirror_mode": {
    "name": "ipython",
    "version": 2
   },
   "file_extension": ".py",
   "mimetype": "text/x-python",
   "name": "python",
   "nbconvert_exporter": "python",
   "pygments_lexer": "ipython2",
   "version": "2.7.6"
  }
 },
 "nbformat": 4,
 "nbformat_minor": 0
}